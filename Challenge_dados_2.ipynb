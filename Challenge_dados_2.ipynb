{
  "cells": [
    {
      "cell_type": "markdown",
      "metadata": {
        "id": "JbUfzlaNkx4W"
      },
      "source": [
        "#Leitura dos dados"
      ]
    },
    {
      "cell_type": "code",
      "execution_count": 1,
      "metadata": {
        "colab": {
          "base_uri": "https://localhost:8080/"
        },
        "id": "B6zg0QGAEOLb",
        "outputId": "3ce342ad-38d3-4de1-830d-3a0dfb780a14"
      },
      "outputs": [
        {
          "output_type": "stream",
          "name": "stdout",
          "text": [
            "Looking in indexes: https://pypi.org/simple, https://us-python.pkg.dev/colab-wheels/public/simple/\n",
            "Collecting pyspark==3.3.1\n",
            "  Downloading pyspark-3.3.1.tar.gz (281.4 MB)\n",
            "\u001b[K     |████████████████████████████████| 281.4 MB 40 kB/s \n",
            "\u001b[?25hCollecting py4j==0.10.9.5\n",
            "  Downloading py4j-0.10.9.5-py2.py3-none-any.whl (199 kB)\n",
            "\u001b[K     |████████████████████████████████| 199 kB 42.4 MB/s \n",
            "\u001b[?25hBuilding wheels for collected packages: pyspark\n",
            "  Building wheel for pyspark (setup.py) ... \u001b[?25l\u001b[?25hdone\n",
            "  Created wheel for pyspark: filename=pyspark-3.3.1-py2.py3-none-any.whl size=281845512 sha256=c6b3447ac1bba680cb7e92896cafa1f66ba1da85fa76ca7bcb4eadb694e89ce3\n",
            "  Stored in directory: /root/.cache/pip/wheels/43/dc/11/ec201cd671da62fa9c5cc77078235e40722170ceba231d7598\n",
            "Successfully built pyspark\n",
            "Installing collected packages: py4j, pyspark\n",
            "Successfully installed py4j-0.10.9.5 pyspark-3.3.1\n"
          ]
        }
      ],
      "source": [
        "!pip install pyspark==3.3.1"
      ]
    },
    {
      "cell_type": "code",
      "execution_count": 2,
      "metadata": {
        "id": "bP4kGChvEZvb"
      },
      "outputs": [],
      "source": [
        "from pyspark.sql import SparkSession"
      ]
    },
    {
      "cell_type": "code",
      "execution_count": 3,
      "metadata": {
        "colab": {
          "base_uri": "https://localhost:8080/",
          "height": 219
        },
        "id": "ooT6GhBPEbJD",
        "outputId": "cedc4840-e051-41ff-fe9c-6e8bed7d3721"
      },
      "outputs": [
        {
          "output_type": "execute_result",
          "data": {
            "text/plain": [
              "<pyspark.sql.session.SparkSession at 0x7fc0d39d8bb0>"
            ],
            "text/html": [
              "\n",
              "            <div>\n",
              "                <p><b>SparkSession - in-memory</b></p>\n",
              "                \n",
              "        <div>\n",
              "            <p><b>SparkContext</b></p>\n",
              "\n",
              "            <p><a href=\"http://c6317729994e:4040\">Spark UI</a></p>\n",
              "\n",
              "            <dl>\n",
              "              <dt>Version</dt>\n",
              "                <dd><code>v3.3.1</code></dd>\n",
              "              <dt>Master</dt>\n",
              "                <dd><code>local[*]</code></dd>\n",
              "              <dt>AppName</dt>\n",
              "                <dd><code>Transformacao com Spark</code></dd>\n",
              "            </dl>\n",
              "        </div>\n",
              "        \n",
              "            </div>\n",
              "        "
            ]
          },
          "metadata": {},
          "execution_count": 3
        }
      ],
      "source": [
        "spark = SparkSession.builder.master('local[*]').appName(\"Transformacao com Spark\").getOrCreate()\n",
        "\n",
        "spark"
      ]
    },
    {
      "cell_type": "code",
      "execution_count": 4,
      "metadata": {
        "colab": {
          "base_uri": "https://localhost:8080/"
        },
        "id": "fsGgnTuXEdDr",
        "outputId": "7bf1b6a0-ed20-434a-b064-a7b5421d7559"
      },
      "outputs": [
        {
          "output_type": "stream",
          "name": "stdout",
          "text": [
            "--2022-12-03 03:07:23--  https://caelum-online-public.s3.amazonaws.com/challenge-spark/semana-2.zip\n",
            "Resolving caelum-online-public.s3.amazonaws.com (caelum-online-public.s3.amazonaws.com)... 52.217.172.1, 3.5.1.196, 52.216.179.227, ...\n",
            "Connecting to caelum-online-public.s3.amazonaws.com (caelum-online-public.s3.amazonaws.com)|52.217.172.1|:443... connected.\n",
            "HTTP request sent, awaiting response... 200 OK\n",
            "Length: 2763652 (2.6M) [application/zip]\n",
            "Saving to: ‘semana-2.zip’\n",
            "\n",
            "semana-2.zip        100%[===================>]   2.63M  --.-KB/s    in 0.1s    \n",
            "\n",
            "2022-12-03 03:07:24 (19.4 MB/s) - ‘semana-2.zip’ saved [2763652/2763652]\n",
            "\n",
            "Archive:  semana-2.zip\n",
            "   creating: dados/dataset_transformado_parquet/\n",
            "  inflating: dados/dataset_transformado_parquet/_SUCCESS  \n",
            "  inflating: dados/dataset_transformado_parquet/._SUCCESS.crc  \n",
            "  inflating: dados/dataset_transformado_parquet/part-00000-00341ba7-0a7c-4fef-a81e-1066725a64b1-c000.snappy.parquet  \n",
            "  inflating: dados/dataset_transformado_parquet/.part-00000-00341ba7-0a7c-4fef-a81e-1066725a64b1-c000.snappy.parquet.crc  \n"
          ]
        }
      ],
      "source": [
        "!wget \"https://caelum-online-public.s3.amazonaws.com/challenge-spark/semana-2.zip\" && unzip semana-2.zip -d dados/"
      ]
    },
    {
      "cell_type": "code",
      "execution_count": 5,
      "metadata": {
        "id": "xqQ3-hUkFXTX"
      },
      "outputs": [],
      "source": [
        "dados = spark.read.parquet('/content/dados/dataset_transformado_parquet')"
      ]
    },
    {
      "cell_type": "code",
      "execution_count": 6,
      "metadata": {
        "id": "wXT88SNsFpY8",
        "colab": {
          "base_uri": "https://localhost:8080/"
        },
        "outputId": "4ce7a698-9fa9-419a-89ee-25d0f6c8f3fb"
      },
      "outputs": [
        {
          "output_type": "stream",
          "name": "stdout",
          "text": [
            "+--------------------+-----+----------+---------+---------+--------------------+-------+------+------------+------------+-----------+----+--------------------+------------+----------+----+-----+------+\n",
            "|                  id|andar|area_total|area_util|banheiros|     caracteristicas|quartos|suites|tipo_anuncio|tipo_unidade|   tipo_uso|vaga|              bairro|        zona|condominio|iptu| tipo| valor|\n",
            "+--------------------+-----+----------+---------+---------+--------------------+-------+------+------------+------------+-----------+----+--------------------+------------+----------+----+-----+------+\n",
            "|03a386b6-7ab8-4ef...|    0|        43|       43|        1|[Churrasqueira, A...|      2|  null|       Usado| Apartamento|Residencial|   1|            Realengo|  Zona Oeste|       285|null|Venda| 22999|\n",
            "|1fe78d41-b8e0-4d2...|    0|        44|       44|        1|                  []|      2|     0|       Usado| Apartamento|Residencial|   0|               Irajá|  Zona Norte|       170|   0|Venda|110000|\n",
            "|1fa1c1e5-e98c-433...|    4|      null|       55|        1|                  []|      2|     0|       Usado| Apartamento|Residencial|   1|              Cosmos|  Zona Oeste|      null|null|Venda|115000|\n",
            "|a6ab01ae-3d40-40e...|    2|      null|       55|        1|                  []|      2|     0|       Usado| Apartamento|Residencial|   0|        Tomás Coelho|  Zona Norte|      null|null|Venda|115000|\n",
            "|1d8ff7a2-16bd-4e3...|    0|      null|       50|        1|                  []|      1|  null|       Usado| Apartamento|Residencial|   0|              Centro|Zona Central|      1300|2679|Venda|125000|\n",
            "|40a2cbde-946b-42d...|    2|        47|       47|        1|[Condomínio fecha...|      2|     0|       Usado| Apartamento|Residencial|   1|        Campo Grande|  Zona Oeste|       380|null|Venda|138000|\n",
            "|be269ddf-a4a3-4a7...|    0|     17089|       45|        1|[Churrasqueira, C...|      2|     0|       Usado| Apartamento|Residencial|   1|        Campo Grande|  Zona Oeste|       356|   0|Venda|140000|\n",
            "|4b7e3d59-34fd-4ba...|    3|        48|       48|        1|[Churrasqueira, P...|      2|  null|       Usado| Apartamento|Residencial|   1|        Campo Grande|  Zona Oeste|         0|   0|Venda|150000|\n",
            "|a1a0c2ac-4fa8-4b0...|    9|      null|       55|        1|[Churrasqueira, E...|      2|  null|       Usado| Apartamento|Residencial|   1|Freguesia (Jacare...|  Zona Oeste|       780| 660|Venda|160000|\n",
            "|390d2b88-e06d-47e...|    0|        70|       70|        2|   [Salão de festas]|      2|     0|       Usado| Apartamento|Residencial|   1|          Praça Seca|  Zona Oeste|    420000|null|Venda|159000|\n",
            "|07bb07c1-21cc-4da...|    2|        50|       48|        1|[Condomínio fecha...|      1|     0|       Usado| Apartamento|Residencial|   0|             Piedade|  Zona Norte|        10|  10|Venda|170000|\n",
            "|7d3a1bae-988c-44b...|    5|        40|       40|        1|[Playground, Chur...|      2|     0|       Usado| Apartamento|Residencial|   1|        Braz de Pina|  Zona Norte|       150| 120|Venda|189000|\n",
            "|47af17f0-1c81-474...|    0|        65|       65|        1|                  []|      2|     0|       Usado| Apartamento|Residencial|   1|            Campinho|  Zona Oeste|       432|null|Venda|185000|\n",
            "|a9bd1575-e9f2-43d...|    2|        50|       50|        1|[Condomínio fecha...|      1|     0|       Usado| Apartamento|Residencial|   1|           Madureira|  Zona Norte|       650|   1|Venda|185000|\n",
            "|cfca7253-3d02-4cd...|    5|        45|       45|        1|[Academia, Churra...|      2|     1|       Usado| Apartamento|Residencial|   0|             Taquara|  Zona Oeste|       150|  40|Venda|199000|\n",
            "|b571ae97-e3d8-4fb...|    0|        48|       48|        1|[Academia, Condom...|      2|  null|       Usado| Apartamento|Residencial|   0|          Bonsucesso|  Zona Norte|         0|   0|Venda|205933|\n",
            "|eb5fdc65-acae-45f...|    0|        44|       44|        1|[Academia, Condom...|      2|  null|       Usado| Apartamento|Residencial|   0|          Bonsucesso|  Zona Norte|         0|   0|Venda|206000|\n",
            "|77cd0388-e3ff-40c...|    2|        64|       64|        1|                  []|      2|     0|       Usado| Apartamento|Residencial|   0|      Jardim América|  Zona Norte|         0|   0|Venda|220000|\n",
            "|74a91f07-7387-4a8...|    0|        55|       55|        2|[Salão de festas,...|      1|     0|       Usado| Apartamento|Residencial|   1|        Engenho Novo|  Zona Norte|       600| 652|Venda|219130|\n",
            "|6aab1165-508d-455...|    3|        60|       60|        1|[Animais permitidos]|      3|     0|       Usado| Apartamento|Residencial|   1|           Cascadura|  Zona Norte|        98|   1|Venda|230000|\n",
            "+--------------------+-----+----------+---------+---------+--------------------+-------+------+------------+------------+-----------+----+--------------------+------------+----------+----+-----+------+\n",
            "only showing top 20 rows\n",
            "\n"
          ]
        },
        {
          "output_type": "execute_result",
          "data": {
            "text/plain": [
              "66562"
            ]
          },
          "metadata": {},
          "execution_count": 6
        }
      ],
      "source": [
        "dados.show()\n",
        "dados.count()"
      ]
    },
    {
      "cell_type": "code",
      "execution_count": 7,
      "metadata": {
        "id": "DnVlaEsEgwK2",
        "colab": {
          "base_uri": "https://localhost:8080/"
        },
        "outputId": "327cf425-666b-4b87-96c4-5f0e8d5c03ae"
      },
      "outputs": [
        {
          "output_type": "stream",
          "name": "stdout",
          "text": [
            "root\n",
            " |-- id: string (nullable = true)\n",
            " |-- andar: long (nullable = true)\n",
            " |-- area_total: string (nullable = true)\n",
            " |-- area_util: string (nullable = true)\n",
            " |-- banheiros: long (nullable = true)\n",
            " |-- caracteristicas: array (nullable = true)\n",
            " |    |-- element: string (containsNull = true)\n",
            " |-- quartos: long (nullable = true)\n",
            " |-- suites: long (nullable = true)\n",
            " |-- tipo_anuncio: string (nullable = true)\n",
            " |-- tipo_unidade: string (nullable = true)\n",
            " |-- tipo_uso: string (nullable = true)\n",
            " |-- vaga: long (nullable = true)\n",
            " |-- bairro: string (nullable = true)\n",
            " |-- zona: string (nullable = true)\n",
            " |-- condominio: string (nullable = true)\n",
            " |-- iptu: string (nullable = true)\n",
            " |-- tipo: string (nullable = true)\n",
            " |-- valor: string (nullable = true)\n",
            "\n"
          ]
        }
      ],
      "source": [
        "dados.printSchema()"
      ]
    },
    {
      "cell_type": "markdown",
      "metadata": {
        "id": "yYOxbTRjk7Ta"
      },
      "source": [
        "#Analisando a diferença entre a quantidade da dados não nulos armazenados nas colunas 'area_util' e 'area_total'"
      ]
    },
    {
      "cell_type": "code",
      "execution_count": 8,
      "metadata": {
        "id": "SlhiOt24fTd_"
      },
      "outputs": [],
      "source": [
        "from pyspark.sql import functions as f"
      ]
    },
    {
      "cell_type": "code",
      "execution_count": 9,
      "metadata": {
        "id": "y9YYn7IvfFhD",
        "colab": {
          "base_uri": "https://localhost:8080/"
        },
        "outputId": "214b81d8-e8fe-4796-8f03-6a2903d8255a"
      },
      "outputs": [
        {
          "output_type": "execute_result",
          "data": {
            "text/plain": [
              "57368"
            ]
          },
          "metadata": {},
          "execution_count": 9
        }
      ],
      "source": [
        "dados.select('area_total').where(f.col('area_total').isNotNull()).count()"
      ]
    },
    {
      "cell_type": "code",
      "execution_count": 10,
      "metadata": {
        "id": "t9TOH8dzkNZm",
        "colab": {
          "base_uri": "https://localhost:8080/"
        },
        "outputId": "d2eb3ae5-e2d7-455f-e83b-5dddbc27f34c"
      },
      "outputs": [
        {
          "output_type": "execute_result",
          "data": {
            "text/plain": [
              "66562"
            ]
          },
          "metadata": {},
          "execution_count": 10
        }
      ],
      "source": [
        "dados.select('area_util').where(f.col('area_util').isNotNull()).count()"
      ]
    },
    {
      "cell_type": "code",
      "execution_count": 11,
      "metadata": {
        "id": "xyIULe70kTNY"
      },
      "outputs": [],
      "source": [
        "dados = dados.drop('area_total')"
      ]
    },
    {
      "cell_type": "code",
      "execution_count": 12,
      "metadata": {
        "id": "IswvlJvPkXvX",
        "colab": {
          "base_uri": "https://localhost:8080/"
        },
        "outputId": "c036f56e-25a4-4f38-9fb6-77d2ad8d1210"
      },
      "outputs": [
        {
          "output_type": "stream",
          "name": "stdout",
          "text": [
            "root\n",
            " |-- id: string (nullable = true)\n",
            " |-- andar: long (nullable = true)\n",
            " |-- area_util: string (nullable = true)\n",
            " |-- banheiros: long (nullable = true)\n",
            " |-- caracteristicas: array (nullable = true)\n",
            " |    |-- element: string (containsNull = true)\n",
            " |-- quartos: long (nullable = true)\n",
            " |-- suites: long (nullable = true)\n",
            " |-- tipo_anuncio: string (nullable = true)\n",
            " |-- tipo_unidade: string (nullable = true)\n",
            " |-- tipo_uso: string (nullable = true)\n",
            " |-- vaga: long (nullable = true)\n",
            " |-- bairro: string (nullable = true)\n",
            " |-- zona: string (nullable = true)\n",
            " |-- condominio: string (nullable = true)\n",
            " |-- iptu: string (nullable = true)\n",
            " |-- tipo: string (nullable = true)\n",
            " |-- valor: string (nullable = true)\n",
            "\n"
          ]
        }
      ],
      "source": [
        "dados.printSchema()"
      ]
    },
    {
      "cell_type": "markdown",
      "metadata": {
        "id": "2qEuo8GMEPbW"
      },
      "source": [
        "#Convertendo os tipos das colunas"
      ]
    },
    {
      "cell_type": "code",
      "execution_count": 13,
      "metadata": {
        "id": "X0NeM6csEVCH"
      },
      "outputs": [],
      "source": [
        "dados = dados.withColumn('area_util', dados.area_util.cast('double'))\n",
        "dados = dados.withColumn('iptu', dados.iptu.cast('double'))\n",
        "dados = dados.withColumn('valor', dados.valor.cast('double'))\n",
        "dados = dados.withColumn('condominio', dados.condominio.cast('double'))\n",
        "\n",
        "dados = dados.withColumn('andar', dados.andar.cast('integer'))\n",
        "dados = dados.withColumn('banheiros', dados.banheiros.cast('integer'))\n",
        "dados = dados.withColumn('quartos', dados.quartos.cast('integer'))\n",
        "dados = dados.withColumn('suites', dados.suites.cast('integer'))"
      ]
    },
    {
      "cell_type": "code",
      "execution_count": 14,
      "metadata": {
        "id": "--_F2-pVFnaY",
        "colab": {
          "base_uri": "https://localhost:8080/"
        },
        "outputId": "589ead47-b704-4660-9ca3-0524175dc307"
      },
      "outputs": [
        {
          "output_type": "stream",
          "name": "stdout",
          "text": [
            "root\n",
            " |-- id: string (nullable = true)\n",
            " |-- andar: integer (nullable = true)\n",
            " |-- area_util: double (nullable = true)\n",
            " |-- banheiros: integer (nullable = true)\n",
            " |-- caracteristicas: array (nullable = true)\n",
            " |    |-- element: string (containsNull = true)\n",
            " |-- quartos: integer (nullable = true)\n",
            " |-- suites: integer (nullable = true)\n",
            " |-- tipo_anuncio: string (nullable = true)\n",
            " |-- tipo_unidade: string (nullable = true)\n",
            " |-- tipo_uso: string (nullable = true)\n",
            " |-- vaga: long (nullable = true)\n",
            " |-- bairro: string (nullable = true)\n",
            " |-- zona: string (nullable = true)\n",
            " |-- condominio: double (nullable = true)\n",
            " |-- iptu: double (nullable = true)\n",
            " |-- tipo: string (nullable = true)\n",
            " |-- valor: double (nullable = true)\n",
            "\n"
          ]
        }
      ],
      "source": [
        "dados.printSchema()"
      ]
    },
    {
      "cell_type": "markdown",
      "metadata": {
        "id": "t0Q2-wdtIDsF"
      },
      "source": [
        "#Tratamento da coluna caracteristicas"
      ]
    },
    {
      "cell_type": "code",
      "source": [
        "caracteristicas = dados.select(dados.id,f.explode(dados.caracteristicas))\n",
        "caracteristicas.groupBy('col').count().show()"
      ],
      "metadata": {
        "colab": {
          "base_uri": "https://localhost:8080/"
        },
        "id": "920xyVZJzCyV",
        "outputId": "d0d30b74-7198-41e4-da0c-99c366ae81ce"
      },
      "execution_count": 15,
      "outputs": [
        {
          "output_type": "stream",
          "name": "stdout",
          "text": [
            "+------------------+-----+\n",
            "|               col|count|\n",
            "+------------------+-----+\n",
            "|Condomínio fechado|34984|\n",
            "|        Playground|31856|\n",
            "| Portão eletrônico|29324|\n",
            "|           Piscina|33236|\n",
            "|Animais permitidos|30619|\n",
            "|      Portaria 24h|30361|\n",
            "|          Elevador|43027|\n",
            "|          Academia|27643|\n",
            "|   Salão de festas|33585|\n",
            "|     Churrasqueira|31739|\n",
            "+------------------+-----+\n",
            "\n"
          ]
        }
      ]
    },
    {
      "cell_type": "code",
      "source": [
        "caracteristicas = caracteristicas.groupBy('id').pivot('col').agg(f.lit(1)).na.fill(0)\n",
        "caracteristicas.show()"
      ],
      "metadata": {
        "colab": {
          "base_uri": "https://localhost:8080/"
        },
        "id": "jQIuQqPA01Cq",
        "outputId": "b5176648-6c1f-4ad3-c2a3-8a28551ab0af"
      },
      "execution_count": 16,
      "outputs": [
        {
          "output_type": "stream",
          "name": "stdout",
          "text": [
            "+--------------------+--------+------------------+-------------+------------------+--------+-------+----------+------------+-----------------+---------------+\n",
            "|                  id|Academia|Animais permitidos|Churrasqueira|Condomínio fechado|Elevador|Piscina|Playground|Portaria 24h|Portão eletrônico|Salão de festas|\n",
            "+--------------------+--------+------------------+-------------+------------------+--------+-------+----------+------------+-----------------+---------------+\n",
            "|fd96bbd5-d631-416...|       1|                 1|            1|                 1|       1|      1|         1|           1|                1|              1|\n",
            "|bfffedfe-99e7-4ae...|       0|                 1|            1|                 1|       1|      0|         1|           0|                1|              1|\n",
            "|fcb67af3-5601-415...|       1|                 1|            1|                 0|       0|      1|         1|           0|                0|              1|\n",
            "|afecddff-f4cc-4ab...|       1|                 1|            1|                 1|       1|      1|         1|           1|                1|              1|\n",
            "|1bbc40f3-4f5c-459...|       1|                 0|            0|                 1|       1|      1|         1|           1|                1|              1|\n",
            "|fd26aeb2-a7b3-4f8...|       1|                 1|            1|                 1|       1|      1|         1|           1|                1|              1|\n",
            "|10e9d118-dbad-43c...|       0|                 1|            1|                 1|       0|      1|         1|           1|                1|              1|\n",
            "|ca1e84d7-86c8-4b1...|       1|                 0|            1|                 1|       1|      1|         1|           1|                1|              1|\n",
            "|d9e139a5-e85d-4e1...|       1|                 1|            1|                 1|       1|      1|         1|           1|                1|              1|\n",
            "|156a1fa5-37ca-43d...|       1|                 0|            1|                 1|       1|      1|         1|           1|                1|              1|\n",
            "|e7be09eb-6223-4b4...|       1|                 1|            1|                 1|       1|      1|         1|           1|                1|              1|\n",
            "|631efda0-5e10-422...|       1|                 1|            1|                 1|       1|      1|         1|           1|                1|              1|\n",
            "|07cbfef2-efbf-4e8...|       0|                 1|            0|                 0|       1|      0|         0|           1|                0|              0|\n",
            "|62baf185-103d-448...|       1|                 0|            1|                 1|       0|      1|         1|           0|                0|              0|\n",
            "|3030d17c-5681-4b2...|       1|                 1|            1|                 1|       1|      1|         0|           1|                1|              1|\n",
            "|6179c8a4-1fd2-4f5...|       1|                 1|            0|                 1|       1|      1|         1|           1|                1|              1|\n",
            "|c284072a-7298-4e5...|       1|                 1|            1|                 1|       1|      1|         1|           1|                1|              1|\n",
            "|7e43514c-3b40-4fb...|       1|                 1|            1|                 1|       1|      1|         1|           1|                1|              1|\n",
            "|6a4ce9ac-1eb0-4d4...|       1|                 0|            1|                 0|       1|      1|         1|           0|                0|              1|\n",
            "|bdc6127a-1d97-41b...|       1|                 0|            1|                 0|       0|      0|         0|           0|                0|              1|\n",
            "+--------------------+--------+------------------+-------------+------------------+--------+-------+----------+------------+-----------------+---------------+\n",
            "only showing top 20 rows\n",
            "\n"
          ]
        }
      ]
    },
    {
      "cell_type": "code",
      "source": [
        "dados = dados.join(caracteristicas, 'id', how='left').drop('caracteristicas')\n",
        "dados.count()"
      ],
      "metadata": {
        "id": "j-FxV5pD39qG",
        "colab": {
          "base_uri": "https://localhost:8080/"
        },
        "outputId": "ec80eab8-2c84-47a1-f6c7-fdd5459c7a12"
      },
      "execution_count": 17,
      "outputs": [
        {
          "output_type": "execute_result",
          "data": {
            "text/plain": [
              "66562"
            ]
          },
          "metadata": {},
          "execution_count": 17
        }
      ]
    },
    {
      "cell_type": "code",
      "source": [
        "dados.show()"
      ],
      "metadata": {
        "colab": {
          "base_uri": "https://localhost:8080/"
        },
        "id": "eitrLDkJAFbW",
        "outputId": "99f4bb7d-ea61-492a-806d-f2fc0af211ce"
      },
      "execution_count": 18,
      "outputs": [
        {
          "output_type": "stream",
          "name": "stdout",
          "text": [
            "+--------------------+-----+---------+---------+-------+------+------------+------------+-----------+----+--------------------+------------+----------+------+-----+--------+--------+------------------+-------------+------------------+--------+-------+----------+------------+-----------------+---------------+\n",
            "|                  id|andar|area_util|banheiros|quartos|suites|tipo_anuncio|tipo_unidade|   tipo_uso|vaga|              bairro|        zona|condominio|  iptu| tipo|   valor|Academia|Animais permitidos|Churrasqueira|Condomínio fechado|Elevador|Piscina|Playground|Portaria 24h|Portão eletrônico|Salão de festas|\n",
            "+--------------------+-----+---------+---------+-------+------+------------+------------+-----------+----+--------------------+------------+----------+------+-----+--------+--------+------------------+-------------+------------------+--------+-------+----------+------------+-----------------+---------------+\n",
            "|03a386b6-7ab8-4ef...|    0|     43.0|        1|      2|  null|       Usado| Apartamento|Residencial|   1|            Realengo|  Zona Oeste|     285.0|  null|Venda| 22999.0|       1|                 1|            1|                 1|       0|      0|         1|           1|                1|              1|\n",
            "|1fe78d41-b8e0-4d2...|    0|     44.0|        1|      2|     0|       Usado| Apartamento|Residencial|   0|               Irajá|  Zona Norte|     170.0|   0.0|Venda|110000.0|    null|              null|         null|              null|    null|   null|      null|        null|             null|           null|\n",
            "|1fa1c1e5-e98c-433...|    4|     55.0|        1|      2|     0|       Usado| Apartamento|Residencial|   1|              Cosmos|  Zona Oeste|      null|  null|Venda|115000.0|    null|              null|         null|              null|    null|   null|      null|        null|             null|           null|\n",
            "|a6ab01ae-3d40-40e...|    2|     55.0|        1|      2|     0|       Usado| Apartamento|Residencial|   0|        Tomás Coelho|  Zona Norte|      null|  null|Venda|115000.0|    null|              null|         null|              null|    null|   null|      null|        null|             null|           null|\n",
            "|1d8ff7a2-16bd-4e3...|    0|     50.0|        1|      1|  null|       Usado| Apartamento|Residencial|   0|              Centro|Zona Central|    1300.0|2679.0|Venda|125000.0|    null|              null|         null|              null|    null|   null|      null|        null|             null|           null|\n",
            "|40a2cbde-946b-42d...|    2|     47.0|        1|      2|     0|       Usado| Apartamento|Residencial|   1|        Campo Grande|  Zona Oeste|     380.0|  null|Venda|138000.0|       0|                 1|            1|                 1|       0|      1|         0|           1|                0|              1|\n",
            "|be269ddf-a4a3-4a7...|    0|     45.0|        1|      2|     0|       Usado| Apartamento|Residencial|   1|        Campo Grande|  Zona Oeste|     356.0|   0.0|Venda|140000.0|       0|                 0|            1|                 1|       0|      1|         0|           0|                0|              0|\n",
            "|4b7e3d59-34fd-4ba...|    3|     48.0|        1|      2|  null|       Usado| Apartamento|Residencial|   1|        Campo Grande|  Zona Oeste|       0.0|   0.0|Venda|150000.0|       0|                 1|            1|                 1|       0|      1|         1|           1|                1|              1|\n",
            "|a1a0c2ac-4fa8-4b0...|    9|     55.0|        1|      2|  null|       Usado| Apartamento|Residencial|   1|Freguesia (Jacare...|  Zona Oeste|     780.0| 660.0|Venda|160000.0|       0|                 1|            1|                 1|       1|      0|         0|           1|                1|              1|\n",
            "|390d2b88-e06d-47e...|    0|     70.0|        2|      2|     0|       Usado| Apartamento|Residencial|   1|          Praça Seca|  Zona Oeste|  420000.0|  null|Venda|159000.0|       0|                 0|            0|                 0|       0|      0|         0|           0|                0|              1|\n",
            "|07bb07c1-21cc-4da...|    2|     48.0|        1|      1|     0|       Usado| Apartamento|Residencial|   0|             Piedade|  Zona Norte|      10.0|  10.0|Venda|170000.0|       0|                 1|            0|                 1|       0|      0|         0|           0|                0|              0|\n",
            "|7d3a1bae-988c-44b...|    5|     40.0|        1|      2|     0|       Usado| Apartamento|Residencial|   1|        Braz de Pina|  Zona Norte|     150.0| 120.0|Venda|189000.0|       0|                 1|            1|                 1|       0|      0|         1|           1|                1|              1|\n",
            "|47af17f0-1c81-474...|    0|     65.0|        1|      2|     0|       Usado| Apartamento|Residencial|   1|            Campinho|  Zona Oeste|     432.0|  null|Venda|185000.0|    null|              null|         null|              null|    null|   null|      null|        null|             null|           null|\n",
            "|a9bd1575-e9f2-43d...|    2|     50.0|        1|      1|     0|       Usado| Apartamento|Residencial|   1|           Madureira|  Zona Norte|     650.0|   1.0|Venda|185000.0|       0|                 1|            0|                 1|       0|      0|         0|           0|                1|              0|\n",
            "|cfca7253-3d02-4cd...|    5|     45.0|        1|      2|     1|       Usado| Apartamento|Residencial|   0|             Taquara|  Zona Oeste|     150.0|  40.0|Venda|199000.0|       1|                 1|            1|                 1|       1|      0|         1|           1|                1|              1|\n",
            "|b571ae97-e3d8-4fb...|    0|     48.0|        1|      2|  null|       Usado| Apartamento|Residencial|   0|          Bonsucesso|  Zona Norte|       0.0|   0.0|Venda|205933.0|       1|                 1|            1|                 1|       1|      0|         0|           1|                1|              1|\n",
            "|eb5fdc65-acae-45f...|    0|     44.0|        1|      2|  null|       Usado| Apartamento|Residencial|   0|          Bonsucesso|  Zona Norte|       0.0|   0.0|Venda|206000.0|       1|                 1|            0|                 1|       1|      0|         1|           1|                1|              1|\n",
            "|77cd0388-e3ff-40c...|    2|     64.0|        1|      2|     0|       Usado| Apartamento|Residencial|   0|      Jardim América|  Zona Norte|       0.0|   0.0|Venda|220000.0|    null|              null|         null|              null|    null|   null|      null|        null|             null|           null|\n",
            "|74a91f07-7387-4a8...|    0|     55.0|        2|      1|     0|       Usado| Apartamento|Residencial|   1|        Engenho Novo|  Zona Norte|     600.0| 652.0|Venda|219130.0|       0|                 0|            0|                 0|       1|      0|         0|           0|                0|              1|\n",
            "|6aab1165-508d-455...|    3|     60.0|        1|      3|     0|       Usado| Apartamento|Residencial|   1|           Cascadura|  Zona Norte|      98.0|   1.0|Venda|230000.0|       0|                 1|            0|                 0|       0|      0|         0|           0|                0|              0|\n",
            "+--------------------+-----+---------+---------+-------+------+------------+------------+-----------+----+--------------------+------------+----------+------+-----+--------+--------+------------------+-------------+------------------+--------+-------+----------+------------+-----------------+---------------+\n",
            "only showing top 20 rows\n",
            "\n"
          ]
        }
      ]
    },
    {
      "cell_type": "markdown",
      "source": [
        "#Tratar dados nulos e NaN's"
      ],
      "metadata": {
        "id": "5Bkdcededmu5"
      }
    },
    {
      "cell_type": "code",
      "source": [
        "dados.select([f.count(f.when(f.col(c).isNull(), c)).alias(c) for c in dados.columns]).show(vertical=True)"
      ],
      "metadata": {
        "colab": {
          "base_uri": "https://localhost:8080/"
        },
        "id": "VtyE-x8LicYa",
        "outputId": "0a5091ec-aa55-4151-f528-0d82276c68e2"
      },
      "execution_count": 19,
      "outputs": [
        {
          "output_type": "stream",
          "name": "stdout",
          "text": [
            "-RECORD 0-------------------\n",
            " id                 | 0     \n",
            " andar              | 0     \n",
            " area_util          | 0     \n",
            " banheiros          | 0     \n",
            " quartos            | 0     \n",
            " suites             | 5554  \n",
            " tipo_anuncio       | 0     \n",
            " tipo_unidade       | 0     \n",
            " tipo_uso           | 0     \n",
            " vaga               | 3017  \n",
            " bairro             | 0     \n",
            " zona               | 0     \n",
            " condominio         | 2371  \n",
            " iptu               | 7199  \n",
            " tipo               | 0     \n",
            " valor              | 0     \n",
            " Academia           | 12736 \n",
            " Animais permitidos | 12736 \n",
            " Churrasqueira      | 12736 \n",
            " Condomínio fechado | 12736 \n",
            " Elevador           | 12736 \n",
            " Piscina            | 12736 \n",
            " Playground         | 12736 \n",
            " Portaria 24h       | 12736 \n",
            " Portão eletrônico  | 12736 \n",
            " Salão de festas    | 12736 \n",
            "\n"
          ]
        }
      ]
    },
    {
      "cell_type": "code",
      "source": [
        "dados = dados.fillna(value =0)"
      ],
      "metadata": {
        "id": "ylV4YynVixD5"
      },
      "execution_count": 20,
      "outputs": []
    },
    {
      "cell_type": "code",
      "source": [
        "dados.select([f.count(f.when(f.col(c).isNull(), c)).alias(c) for c in dados.columns]).show(vertical=True)"
      ],
      "metadata": {
        "colab": {
          "base_uri": "https://localhost:8080/"
        },
        "id": "K1CxWMlri9xT",
        "outputId": "13f2b9e8-c122-40df-f33d-cb6218ff3a8f"
      },
      "execution_count": 21,
      "outputs": [
        {
          "output_type": "stream",
          "name": "stdout",
          "text": [
            "-RECORD 0-----------------\n",
            " id                 | 0   \n",
            " andar              | 0   \n",
            " area_util          | 0   \n",
            " banheiros          | 0   \n",
            " quartos            | 0   \n",
            " suites             | 0   \n",
            " tipo_anuncio       | 0   \n",
            " tipo_unidade       | 0   \n",
            " tipo_uso           | 0   \n",
            " vaga               | 0   \n",
            " bairro             | 0   \n",
            " zona               | 0   \n",
            " condominio         | 0   \n",
            " iptu               | 0   \n",
            " tipo               | 0   \n",
            " valor              | 0   \n",
            " Academia           | 0   \n",
            " Animais permitidos | 0   \n",
            " Churrasqueira      | 0   \n",
            " Condomínio fechado | 0   \n",
            " Elevador           | 0   \n",
            " Piscina            | 0   \n",
            " Playground         | 0   \n",
            " Portaria 24h       | 0   \n",
            " Portão eletrônico  | 0   \n",
            " Salão de festas    | 0   \n",
            "\n"
          ]
        }
      ]
    },
    {
      "cell_type": "markdown",
      "source": [
        "#Preparação dos dados para machine learning"
      ],
      "metadata": {
        "id": "uH4QoXjNjpHa"
      }
    },
    {
      "cell_type": "code",
      "source": [
        "dados.select('bairro', 'zona').show()"
      ],
      "metadata": {
        "colab": {
          "base_uri": "https://localhost:8080/"
        },
        "id": "no53x-vsk7vH",
        "outputId": "ed77dd4d-0ac6-4a75-d983-6626eebf0c8f"
      },
      "execution_count": 22,
      "outputs": [
        {
          "output_type": "stream",
          "name": "stdout",
          "text": [
            "+--------------------+------------+\n",
            "|              bairro|        zona|\n",
            "+--------------------+------------+\n",
            "|            Realengo|  Zona Oeste|\n",
            "|               Irajá|  Zona Norte|\n",
            "|              Cosmos|  Zona Oeste|\n",
            "|        Tomás Coelho|  Zona Norte|\n",
            "|              Centro|Zona Central|\n",
            "|        Campo Grande|  Zona Oeste|\n",
            "|        Campo Grande|  Zona Oeste|\n",
            "|        Campo Grande|  Zona Oeste|\n",
            "|Freguesia (Jacare...|  Zona Oeste|\n",
            "|          Praça Seca|  Zona Oeste|\n",
            "|             Piedade|  Zona Norte|\n",
            "|        Braz de Pina|  Zona Norte|\n",
            "|            Campinho|  Zona Oeste|\n",
            "|           Madureira|  Zona Norte|\n",
            "|             Taquara|  Zona Oeste|\n",
            "|          Bonsucesso|  Zona Norte|\n",
            "|          Bonsucesso|  Zona Norte|\n",
            "|      Jardim América|  Zona Norte|\n",
            "|        Engenho Novo|  Zona Norte|\n",
            "|           Cascadura|  Zona Norte|\n",
            "+--------------------+------------+\n",
            "only showing top 20 rows\n",
            "\n"
          ]
        }
      ]
    },
    {
      "cell_type": "code",
      "source": [
        "bairro = dados.groupBy('id').pivot('bairro').agg(f.lit(1)).na.fill(0)\n",
        "dados = dados.join(bairro, 'id', how='left').drop('bairro')\n",
        "zona = dados.groupBy('id').pivot('zona').agg(f.lit(1)).na.fill(0)\n",
        "dados = dados.join(zona, 'id', how='left').drop('zona')\n",
        "dados.show()\n",
        "dados.count()"
      ],
      "metadata": {
        "colab": {
          "base_uri": "https://localhost:8080/"
        },
        "id": "L0r7amNClRY5",
        "outputId": "e1b90e33-89e9-46c3-e040-cb3966cdff3c"
      },
      "execution_count": 23,
      "outputs": [
        {
          "output_type": "stream",
          "name": "stdout",
          "text": [
            "+--------------------+-----+---------+---------+-------+------+------------+------------+-----------+----+----------+------+-----+--------+--------+------------------+-------------+------------------+--------+-------+----------+------------+-----------------+---------------+--------+-----------------+--------+-------+----+---------+-----+---------------+------------------+------------+-------+-------------+-------------+----------+--------+------------+--------+------+----+-------+--------+------------+-----------------+---------+------+-------+----------+------+-----------+--------------+------+-----------+-------+----------+--------+-----------+------+--------+------------+-------+---------+---------------+------------+-----------------+-----------------+----------------+-------+--------+------------------------------+-----------------------+------+------+-------------+------+------+----------+---------+---------+-----+------------+--------------+-------+-------+--------+-------+-----+---------+-----------+------+--------------+---------------+--------------+----------------+--------------+---+-----+-----------+------+----+-------------------+---------+----------------+---------+----------+--------+---------------+--------------+------+-----+------+------------+---------+------------+-------+---------------+---------------+---------------+----------------+------+---------+------------------+-----+--------------+-------+-------+------------+----------+-----------------+----------+-----------------+-----------------+-----+--------+------------------------+---------+-------+----------------------+------------+-----+-------------+-------+----------+------------+------------+----------+-----+--------------+-------------------+--------+-----------+-------------+--------------------+------+-------+----+------+---------------+------------+-------+----+-------------+--------------+-------------+--------+-------------------+-------+-------------+-----------+-----------+--------------+-------------+------------+-----+----------+---+------------+----------+----------+--------+\n",
            "|                  id|andar|area_util|banheiros|quartos|suites|tipo_anuncio|tipo_unidade|   tipo_uso|vaga|condominio|  iptu| tipo|   valor|Academia|Animais permitidos|Churrasqueira|Condomínio fechado|Elevador|Piscina|Playground|Portaria 24h|Portão eletrônico|Salão de festas|Abolição|Alto da Boa Vista|Anchieta|Andaraí|Anil|Bancários|Bangu|Barra da Tijuca|Barra de Guaratiba|Barros Filho|Benfica|Bento Ribeiro|Boa Esperança|Bonsucesso|Botafogo|Braz de Pina|Cachambi|Cacuia|Caju|Camorim|Campinho|Campo Grande|Campo dos Afonsos|Cascadura|Catete|Catumbi|Cavalcanti|Centro|Cidade Nova|Cidade de Deus|Cocotá|Coelho Neto|Colégio|Copacabana|Cordovil|Cosme Velho|Cosmos|Curicica|Del Castilho|Deodoro|Encantado|Engenheiro Leal|Engenho Novo|Engenho da Rainha|Engenho de Dentro|Engenho do Porto|Estácio|Flamengo|Freguesia (Ilha do Governador)|Freguesia (Jacarepaguá)|Galeão|Gamboa|Gardênia Azul|Glória|Grajaú|Grande Rio|Guadalupe|Guaratiba|Gávea|Higienópolis|Honório Gurgel|Humaitá|Inhaúma|Inhoaíba|Ipanema|Irajá|Itanhangá|Jacarepaguá|Jacaré|Jardim América|Jardim Botânico|Jardim Carioca|Jardim Guanabara|Jardim Sulacap|Joá|Lagoa|Laranjeiras|Leblon|Leme|Lins de Vasconcelos|Madureira|Magalhães Bastos|Mangueira|Manguinhos|Maracanã|Marechal Hermes|Maria da Graça|Moneró|Méier|Olaria|Oswaldo Cruz|Paciência|Padre Miguel|Paquetá|Parada de Lucas|Parque Anchieta|Parque Colúmbia|Parque da Matriz|Pavuna|Pechincha|Pedra de Guaratiba|Penha|Penha Circular|Piedade|Pilares|Pitangueiras|Portuguesa|Praia da Bandeira|Praça Seca|Praça da Bandeira|Quintino Bocaiúva|Ramos|Realengo|Recreio dos Bandeirantes|Riachuelo|Ribeira|Ricardo de Albuquerque|Rio Comprido|Rocha|Rocha Miranda|Sampaio|Santa Cruz|Santa Teresa|Santo Cristo|Santíssimo|Saúde|Senador Camará|Senador Vasconcelos|Sepetiba|São Conrado|São Cristóvão|São Francisco Xavier|Tanque|Taquara|Tauá|Tijuca|Todos os Santos|Tomás Coelho|Turiaçu|Urca|Vargem Grande|Vargem Pequena|Vasco da Gama|Vaz Lobo|Vicente de Carvalho|Vidigal|Vigário Geral|Vila Isabel|Vila Kosmos|Vila Valqueire|Vila da Penha|Vista Alegre|Zumbi|Água Santa|   |Zona Central|Zona Norte|Zona Oeste|Zona Sul|\n",
            "+--------------------+-----+---------+---------+-------+------+------------+------------+-----------+----+----------+------+-----+--------+--------+------------------+-------------+------------------+--------+-------+----------+------------+-----------------+---------------+--------+-----------------+--------+-------+----+---------+-----+---------------+------------------+------------+-------+-------------+-------------+----------+--------+------------+--------+------+----+-------+--------+------------+-----------------+---------+------+-------+----------+------+-----------+--------------+------+-----------+-------+----------+--------+-----------+------+--------+------------+-------+---------+---------------+------------+-----------------+-----------------+----------------+-------+--------+------------------------------+-----------------------+------+------+-------------+------+------+----------+---------+---------+-----+------------+--------------+-------+-------+--------+-------+-----+---------+-----------+------+--------------+---------------+--------------+----------------+--------------+---+-----+-----------+------+----+-------------------+---------+----------------+---------+----------+--------+---------------+--------------+------+-----+------+------------+---------+------------+-------+---------------+---------------+---------------+----------------+------+---------+------------------+-----+--------------+-------+-------+------------+----------+-----------------+----------+-----------------+-----------------+-----+--------+------------------------+---------+-------+----------------------+------------+-----+-------------+-------+----------+------------+------------+----------+-----+--------------+-------------------+--------+-----------+-------------+--------------------+------+-------+----+------+---------------+------------+-------+----+-------------+--------------+-------------+--------+-------------------+-------+-------------+-----------+-----------+--------------+-------------+------------+-----+----------+---+------------+----------+----------+--------+\n",
            "|03a386b6-7ab8-4ef...|    0|     43.0|        1|      2|     0|       Usado| Apartamento|Residencial|   1|     285.0|   0.0|Venda| 22999.0|       1|                 1|            1|                 1|       0|      0|         1|           1|                1|              1|       0|                0|       0|      0|   0|        0|    0|              0|                 0|           0|      0|            0|            0|         0|       0|           0|       0|     0|   0|      0|       0|           0|                0|        0|     0|      0|         0|     0|          0|             0|     0|          0|      0|         0|       0|          0|     0|       0|           0|      0|        0|              0|           0|                0|                0|               0|      0|       0|                             0|                      0|     0|     0|            0|     0|     0|         0|        0|        0|    0|           0|             0|      0|      0|       0|      0|    0|        0|          0|     0|             0|              0|             0|               0|             0|  0|    0|          0|     0|   0|                  0|        0|               0|        0|         0|       0|              0|             0|     0|    0|     0|           0|        0|           0|      0|              0|              0|              0|               0|     0|        0|                 0|    0|             0|      0|      0|           0|         0|                0|         0|                0|                0|    0|       1|                       0|        0|      0|                     0|           0|    0|            0|      0|         0|           0|           0|         0|    0|             0|                  0|       0|          0|            0|                   0|     0|      0|   0|     0|              0|           0|      0|   0|            0|             0|            0|       0|                  0|      0|            0|          0|          0|             0|            0|           0|    0|         0|  0|           0|         0|         1|       0|\n",
            "|1fe78d41-b8e0-4d2...|    0|     44.0|        1|      2|     0|       Usado| Apartamento|Residencial|   0|     170.0|   0.0|Venda|110000.0|       0|                 0|            0|                 0|       0|      0|         0|           0|                0|              0|       0|                0|       0|      0|   0|        0|    0|              0|                 0|           0|      0|            0|            0|         0|       0|           0|       0|     0|   0|      0|       0|           0|                0|        0|     0|      0|         0|     0|          0|             0|     0|          0|      0|         0|       0|          0|     0|       0|           0|      0|        0|              0|           0|                0|                0|               0|      0|       0|                             0|                      0|     0|     0|            0|     0|     0|         0|        0|        0|    0|           0|             0|      0|      0|       0|      0|    1|        0|          0|     0|             0|              0|             0|               0|             0|  0|    0|          0|     0|   0|                  0|        0|               0|        0|         0|       0|              0|             0|     0|    0|     0|           0|        0|           0|      0|              0|              0|              0|               0|     0|        0|                 0|    0|             0|      0|      0|           0|         0|                0|         0|                0|                0|    0|       0|                       0|        0|      0|                     0|           0|    0|            0|      0|         0|           0|           0|         0|    0|             0|                  0|       0|          0|            0|                   0|     0|      0|   0|     0|              0|           0|      0|   0|            0|             0|            0|       0|                  0|      0|            0|          0|          0|             0|            0|           0|    0|         0|  0|           0|         1|         0|       0|\n",
            "|1fa1c1e5-e98c-433...|    4|     55.0|        1|      2|     0|       Usado| Apartamento|Residencial|   1|       0.0|   0.0|Venda|115000.0|       0|                 0|            0|                 0|       0|      0|         0|           0|                0|              0|       0|                0|       0|      0|   0|        0|    0|              0|                 0|           0|      0|            0|            0|         0|       0|           0|       0|     0|   0|      0|       0|           0|                0|        0|     0|      0|         0|     0|          0|             0|     0|          0|      0|         0|       0|          0|     1|       0|           0|      0|        0|              0|           0|                0|                0|               0|      0|       0|                             0|                      0|     0|     0|            0|     0|     0|         0|        0|        0|    0|           0|             0|      0|      0|       0|      0|    0|        0|          0|     0|             0|              0|             0|               0|             0|  0|    0|          0|     0|   0|                  0|        0|               0|        0|         0|       0|              0|             0|     0|    0|     0|           0|        0|           0|      0|              0|              0|              0|               0|     0|        0|                 0|    0|             0|      0|      0|           0|         0|                0|         0|                0|                0|    0|       0|                       0|        0|      0|                     0|           0|    0|            0|      0|         0|           0|           0|         0|    0|             0|                  0|       0|          0|            0|                   0|     0|      0|   0|     0|              0|           0|      0|   0|            0|             0|            0|       0|                  0|      0|            0|          0|          0|             0|            0|           0|    0|         0|  0|           0|         0|         1|       0|\n",
            "|a6ab01ae-3d40-40e...|    2|     55.0|        1|      2|     0|       Usado| Apartamento|Residencial|   0|       0.0|   0.0|Venda|115000.0|       0|                 0|            0|                 0|       0|      0|         0|           0|                0|              0|       0|                0|       0|      0|   0|        0|    0|              0|                 0|           0|      0|            0|            0|         0|       0|           0|       0|     0|   0|      0|       0|           0|                0|        0|     0|      0|         0|     0|          0|             0|     0|          0|      0|         0|       0|          0|     0|       0|           0|      0|        0|              0|           0|                0|                0|               0|      0|       0|                             0|                      0|     0|     0|            0|     0|     0|         0|        0|        0|    0|           0|             0|      0|      0|       0|      0|    0|        0|          0|     0|             0|              0|             0|               0|             0|  0|    0|          0|     0|   0|                  0|        0|               0|        0|         0|       0|              0|             0|     0|    0|     0|           0|        0|           0|      0|              0|              0|              0|               0|     0|        0|                 0|    0|             0|      0|      0|           0|         0|                0|         0|                0|                0|    0|       0|                       0|        0|      0|                     0|           0|    0|            0|      0|         0|           0|           0|         0|    0|             0|                  0|       0|          0|            0|                   0|     0|      0|   0|     0|              0|           1|      0|   0|            0|             0|            0|       0|                  0|      0|            0|          0|          0|             0|            0|           0|    0|         0|  0|           0|         1|         0|       0|\n",
            "|1d8ff7a2-16bd-4e3...|    0|     50.0|        1|      1|     0|       Usado| Apartamento|Residencial|   0|    1300.0|2679.0|Venda|125000.0|       0|                 0|            0|                 0|       0|      0|         0|           0|                0|              0|       0|                0|       0|      0|   0|        0|    0|              0|                 0|           0|      0|            0|            0|         0|       0|           0|       0|     0|   0|      0|       0|           0|                0|        0|     0|      0|         0|     1|          0|             0|     0|          0|      0|         0|       0|          0|     0|       0|           0|      0|        0|              0|           0|                0|                0|               0|      0|       0|                             0|                      0|     0|     0|            0|     0|     0|         0|        0|        0|    0|           0|             0|      0|      0|       0|      0|    0|        0|          0|     0|             0|              0|             0|               0|             0|  0|    0|          0|     0|   0|                  0|        0|               0|        0|         0|       0|              0|             0|     0|    0|     0|           0|        0|           0|      0|              0|              0|              0|               0|     0|        0|                 0|    0|             0|      0|      0|           0|         0|                0|         0|                0|                0|    0|       0|                       0|        0|      0|                     0|           0|    0|            0|      0|         0|           0|           0|         0|    0|             0|                  0|       0|          0|            0|                   0|     0|      0|   0|     0|              0|           0|      0|   0|            0|             0|            0|       0|                  0|      0|            0|          0|          0|             0|            0|           0|    0|         0|  0|           1|         0|         0|       0|\n",
            "|40a2cbde-946b-42d...|    2|     47.0|        1|      2|     0|       Usado| Apartamento|Residencial|   1|     380.0|   0.0|Venda|138000.0|       0|                 1|            1|                 1|       0|      1|         0|           1|                0|              1|       0|                0|       0|      0|   0|        0|    0|              0|                 0|           0|      0|            0|            0|         0|       0|           0|       0|     0|   0|      0|       0|           1|                0|        0|     0|      0|         0|     0|          0|             0|     0|          0|      0|         0|       0|          0|     0|       0|           0|      0|        0|              0|           0|                0|                0|               0|      0|       0|                             0|                      0|     0|     0|            0|     0|     0|         0|        0|        0|    0|           0|             0|      0|      0|       0|      0|    0|        0|          0|     0|             0|              0|             0|               0|             0|  0|    0|          0|     0|   0|                  0|        0|               0|        0|         0|       0|              0|             0|     0|    0|     0|           0|        0|           0|      0|              0|              0|              0|               0|     0|        0|                 0|    0|             0|      0|      0|           0|         0|                0|         0|                0|                0|    0|       0|                       0|        0|      0|                     0|           0|    0|            0|      0|         0|           0|           0|         0|    0|             0|                  0|       0|          0|            0|                   0|     0|      0|   0|     0|              0|           0|      0|   0|            0|             0|            0|       0|                  0|      0|            0|          0|          0|             0|            0|           0|    0|         0|  0|           0|         0|         1|       0|\n",
            "|be269ddf-a4a3-4a7...|    0|     45.0|        1|      2|     0|       Usado| Apartamento|Residencial|   1|     356.0|   0.0|Venda|140000.0|       0|                 0|            1|                 1|       0|      1|         0|           0|                0|              0|       0|                0|       0|      0|   0|        0|    0|              0|                 0|           0|      0|            0|            0|         0|       0|           0|       0|     0|   0|      0|       0|           1|                0|        0|     0|      0|         0|     0|          0|             0|     0|          0|      0|         0|       0|          0|     0|       0|           0|      0|        0|              0|           0|                0|                0|               0|      0|       0|                             0|                      0|     0|     0|            0|     0|     0|         0|        0|        0|    0|           0|             0|      0|      0|       0|      0|    0|        0|          0|     0|             0|              0|             0|               0|             0|  0|    0|          0|     0|   0|                  0|        0|               0|        0|         0|       0|              0|             0|     0|    0|     0|           0|        0|           0|      0|              0|              0|              0|               0|     0|        0|                 0|    0|             0|      0|      0|           0|         0|                0|         0|                0|                0|    0|       0|                       0|        0|      0|                     0|           0|    0|            0|      0|         0|           0|           0|         0|    0|             0|                  0|       0|          0|            0|                   0|     0|      0|   0|     0|              0|           0|      0|   0|            0|             0|            0|       0|                  0|      0|            0|          0|          0|             0|            0|           0|    0|         0|  0|           0|         0|         1|       0|\n",
            "|4b7e3d59-34fd-4ba...|    3|     48.0|        1|      2|     0|       Usado| Apartamento|Residencial|   1|       0.0|   0.0|Venda|150000.0|       0|                 1|            1|                 1|       0|      1|         1|           1|                1|              1|       0|                0|       0|      0|   0|        0|    0|              0|                 0|           0|      0|            0|            0|         0|       0|           0|       0|     0|   0|      0|       0|           1|                0|        0|     0|      0|         0|     0|          0|             0|     0|          0|      0|         0|       0|          0|     0|       0|           0|      0|        0|              0|           0|                0|                0|               0|      0|       0|                             0|                      0|     0|     0|            0|     0|     0|         0|        0|        0|    0|           0|             0|      0|      0|       0|      0|    0|        0|          0|     0|             0|              0|             0|               0|             0|  0|    0|          0|     0|   0|                  0|        0|               0|        0|         0|       0|              0|             0|     0|    0|     0|           0|        0|           0|      0|              0|              0|              0|               0|     0|        0|                 0|    0|             0|      0|      0|           0|         0|                0|         0|                0|                0|    0|       0|                       0|        0|      0|                     0|           0|    0|            0|      0|         0|           0|           0|         0|    0|             0|                  0|       0|          0|            0|                   0|     0|      0|   0|     0|              0|           0|      0|   0|            0|             0|            0|       0|                  0|      0|            0|          0|          0|             0|            0|           0|    0|         0|  0|           0|         0|         1|       0|\n",
            "|a1a0c2ac-4fa8-4b0...|    9|     55.0|        1|      2|     0|       Usado| Apartamento|Residencial|   1|     780.0| 660.0|Venda|160000.0|       0|                 1|            1|                 1|       1|      0|         0|           1|                1|              1|       0|                0|       0|      0|   0|        0|    0|              0|                 0|           0|      0|            0|            0|         0|       0|           0|       0|     0|   0|      0|       0|           0|                0|        0|     0|      0|         0|     0|          0|             0|     0|          0|      0|         0|       0|          0|     0|       0|           0|      0|        0|              0|           0|                0|                0|               0|      0|       0|                             0|                      1|     0|     0|            0|     0|     0|         0|        0|        0|    0|           0|             0|      0|      0|       0|      0|    0|        0|          0|     0|             0|              0|             0|               0|             0|  0|    0|          0|     0|   0|                  0|        0|               0|        0|         0|       0|              0|             0|     0|    0|     0|           0|        0|           0|      0|              0|              0|              0|               0|     0|        0|                 0|    0|             0|      0|      0|           0|         0|                0|         0|                0|                0|    0|       0|                       0|        0|      0|                     0|           0|    0|            0|      0|         0|           0|           0|         0|    0|             0|                  0|       0|          0|            0|                   0|     0|      0|   0|     0|              0|           0|      0|   0|            0|             0|            0|       0|                  0|      0|            0|          0|          0|             0|            0|           0|    0|         0|  0|           0|         0|         1|       0|\n",
            "|390d2b88-e06d-47e...|    0|     70.0|        2|      2|     0|       Usado| Apartamento|Residencial|   1|  420000.0|   0.0|Venda|159000.0|       0|                 0|            0|                 0|       0|      0|         0|           0|                0|              1|       0|                0|       0|      0|   0|        0|    0|              0|                 0|           0|      0|            0|            0|         0|       0|           0|       0|     0|   0|      0|       0|           0|                0|        0|     0|      0|         0|     0|          0|             0|     0|          0|      0|         0|       0|          0|     0|       0|           0|      0|        0|              0|           0|                0|                0|               0|      0|       0|                             0|                      0|     0|     0|            0|     0|     0|         0|        0|        0|    0|           0|             0|      0|      0|       0|      0|    0|        0|          0|     0|             0|              0|             0|               0|             0|  0|    0|          0|     0|   0|                  0|        0|               0|        0|         0|       0|              0|             0|     0|    0|     0|           0|        0|           0|      0|              0|              0|              0|               0|     0|        0|                 0|    0|             0|      0|      0|           0|         0|                0|         1|                0|                0|    0|       0|                       0|        0|      0|                     0|           0|    0|            0|      0|         0|           0|           0|         0|    0|             0|                  0|       0|          0|            0|                   0|     0|      0|   0|     0|              0|           0|      0|   0|            0|             0|            0|       0|                  0|      0|            0|          0|          0|             0|            0|           0|    0|         0|  0|           0|         0|         1|       0|\n",
            "|07bb07c1-21cc-4da...|    2|     48.0|        1|      1|     0|       Usado| Apartamento|Residencial|   0|      10.0|  10.0|Venda|170000.0|       0|                 1|            0|                 1|       0|      0|         0|           0|                0|              0|       0|                0|       0|      0|   0|        0|    0|              0|                 0|           0|      0|            0|            0|         0|       0|           0|       0|     0|   0|      0|       0|           0|                0|        0|     0|      0|         0|     0|          0|             0|     0|          0|      0|         0|       0|          0|     0|       0|           0|      0|        0|              0|           0|                0|                0|               0|      0|       0|                             0|                      0|     0|     0|            0|     0|     0|         0|        0|        0|    0|           0|             0|      0|      0|       0|      0|    0|        0|          0|     0|             0|              0|             0|               0|             0|  0|    0|          0|     0|   0|                  0|        0|               0|        0|         0|       0|              0|             0|     0|    0|     0|           0|        0|           0|      0|              0|              0|              0|               0|     0|        0|                 0|    0|             0|      1|      0|           0|         0|                0|         0|                0|                0|    0|       0|                       0|        0|      0|                     0|           0|    0|            0|      0|         0|           0|           0|         0|    0|             0|                  0|       0|          0|            0|                   0|     0|      0|   0|     0|              0|           0|      0|   0|            0|             0|            0|       0|                  0|      0|            0|          0|          0|             0|            0|           0|    0|         0|  0|           0|         1|         0|       0|\n",
            "|7d3a1bae-988c-44b...|    5|     40.0|        1|      2|     0|       Usado| Apartamento|Residencial|   1|     150.0| 120.0|Venda|189000.0|       0|                 1|            1|                 1|       0|      0|         1|           1|                1|              1|       0|                0|       0|      0|   0|        0|    0|              0|                 0|           0|      0|            0|            0|         0|       0|           1|       0|     0|   0|      0|       0|           0|                0|        0|     0|      0|         0|     0|          0|             0|     0|          0|      0|         0|       0|          0|     0|       0|           0|      0|        0|              0|           0|                0|                0|               0|      0|       0|                             0|                      0|     0|     0|            0|     0|     0|         0|        0|        0|    0|           0|             0|      0|      0|       0|      0|    0|        0|          0|     0|             0|              0|             0|               0|             0|  0|    0|          0|     0|   0|                  0|        0|               0|        0|         0|       0|              0|             0|     0|    0|     0|           0|        0|           0|      0|              0|              0|              0|               0|     0|        0|                 0|    0|             0|      0|      0|           0|         0|                0|         0|                0|                0|    0|       0|                       0|        0|      0|                     0|           0|    0|            0|      0|         0|           0|           0|         0|    0|             0|                  0|       0|          0|            0|                   0|     0|      0|   0|     0|              0|           0|      0|   0|            0|             0|            0|       0|                  0|      0|            0|          0|          0|             0|            0|           0|    0|         0|  0|           0|         1|         0|       0|\n",
            "|47af17f0-1c81-474...|    0|     65.0|        1|      2|     0|       Usado| Apartamento|Residencial|   1|     432.0|   0.0|Venda|185000.0|       0|                 0|            0|                 0|       0|      0|         0|           0|                0|              0|       0|                0|       0|      0|   0|        0|    0|              0|                 0|           0|      0|            0|            0|         0|       0|           0|       0|     0|   0|      0|       1|           0|                0|        0|     0|      0|         0|     0|          0|             0|     0|          0|      0|         0|       0|          0|     0|       0|           0|      0|        0|              0|           0|                0|                0|               0|      0|       0|                             0|                      0|     0|     0|            0|     0|     0|         0|        0|        0|    0|           0|             0|      0|      0|       0|      0|    0|        0|          0|     0|             0|              0|             0|               0|             0|  0|    0|          0|     0|   0|                  0|        0|               0|        0|         0|       0|              0|             0|     0|    0|     0|           0|        0|           0|      0|              0|              0|              0|               0|     0|        0|                 0|    0|             0|      0|      0|           0|         0|                0|         0|                0|                0|    0|       0|                       0|        0|      0|                     0|           0|    0|            0|      0|         0|           0|           0|         0|    0|             0|                  0|       0|          0|            0|                   0|     0|      0|   0|     0|              0|           0|      0|   0|            0|             0|            0|       0|                  0|      0|            0|          0|          0|             0|            0|           0|    0|         0|  0|           0|         0|         1|       0|\n",
            "|a9bd1575-e9f2-43d...|    2|     50.0|        1|      1|     0|       Usado| Apartamento|Residencial|   1|     650.0|   1.0|Venda|185000.0|       0|                 1|            0|                 1|       0|      0|         0|           0|                1|              0|       0|                0|       0|      0|   0|        0|    0|              0|                 0|           0|      0|            0|            0|         0|       0|           0|       0|     0|   0|      0|       0|           0|                0|        0|     0|      0|         0|     0|          0|             0|     0|          0|      0|         0|       0|          0|     0|       0|           0|      0|        0|              0|           0|                0|                0|               0|      0|       0|                             0|                      0|     0|     0|            0|     0|     0|         0|        0|        0|    0|           0|             0|      0|      0|       0|      0|    0|        0|          0|     0|             0|              0|             0|               0|             0|  0|    0|          0|     0|   0|                  0|        1|               0|        0|         0|       0|              0|             0|     0|    0|     0|           0|        0|           0|      0|              0|              0|              0|               0|     0|        0|                 0|    0|             0|      0|      0|           0|         0|                0|         0|                0|                0|    0|       0|                       0|        0|      0|                     0|           0|    0|            0|      0|         0|           0|           0|         0|    0|             0|                  0|       0|          0|            0|                   0|     0|      0|   0|     0|              0|           0|      0|   0|            0|             0|            0|       0|                  0|      0|            0|          0|          0|             0|            0|           0|    0|         0|  0|           0|         1|         0|       0|\n",
            "|cfca7253-3d02-4cd...|    5|     45.0|        1|      2|     1|       Usado| Apartamento|Residencial|   0|     150.0|  40.0|Venda|199000.0|       1|                 1|            1|                 1|       1|      0|         1|           1|                1|              1|       0|                0|       0|      0|   0|        0|    0|              0|                 0|           0|      0|            0|            0|         0|       0|           0|       0|     0|   0|      0|       0|           0|                0|        0|     0|      0|         0|     0|          0|             0|     0|          0|      0|         0|       0|          0|     0|       0|           0|      0|        0|              0|           0|                0|                0|               0|      0|       0|                             0|                      0|     0|     0|            0|     0|     0|         0|        0|        0|    0|           0|             0|      0|      0|       0|      0|    0|        0|          0|     0|             0|              0|             0|               0|             0|  0|    0|          0|     0|   0|                  0|        0|               0|        0|         0|       0|              0|             0|     0|    0|     0|           0|        0|           0|      0|              0|              0|              0|               0|     0|        0|                 0|    0|             0|      0|      0|           0|         0|                0|         0|                0|                0|    0|       0|                       0|        0|      0|                     0|           0|    0|            0|      0|         0|           0|           0|         0|    0|             0|                  0|       0|          0|            0|                   0|     0|      1|   0|     0|              0|           0|      0|   0|            0|             0|            0|       0|                  0|      0|            0|          0|          0|             0|            0|           0|    0|         0|  0|           0|         0|         1|       0|\n",
            "|b571ae97-e3d8-4fb...|    0|     48.0|        1|      2|     0|       Usado| Apartamento|Residencial|   0|       0.0|   0.0|Venda|205933.0|       1|                 1|            1|                 1|       1|      0|         0|           1|                1|              1|       0|                0|       0|      0|   0|        0|    0|              0|                 0|           0|      0|            0|            0|         1|       0|           0|       0|     0|   0|      0|       0|           0|                0|        0|     0|      0|         0|     0|          0|             0|     0|          0|      0|         0|       0|          0|     0|       0|           0|      0|        0|              0|           0|                0|                0|               0|      0|       0|                             0|                      0|     0|     0|            0|     0|     0|         0|        0|        0|    0|           0|             0|      0|      0|       0|      0|    0|        0|          0|     0|             0|              0|             0|               0|             0|  0|    0|          0|     0|   0|                  0|        0|               0|        0|         0|       0|              0|             0|     0|    0|     0|           0|        0|           0|      0|              0|              0|              0|               0|     0|        0|                 0|    0|             0|      0|      0|           0|         0|                0|         0|                0|                0|    0|       0|                       0|        0|      0|                     0|           0|    0|            0|      0|         0|           0|           0|         0|    0|             0|                  0|       0|          0|            0|                   0|     0|      0|   0|     0|              0|           0|      0|   0|            0|             0|            0|       0|                  0|      0|            0|          0|          0|             0|            0|           0|    0|         0|  0|           0|         1|         0|       0|\n",
            "|eb5fdc65-acae-45f...|    0|     44.0|        1|      2|     0|       Usado| Apartamento|Residencial|   0|       0.0|   0.0|Venda|206000.0|       1|                 1|            0|                 1|       1|      0|         1|           1|                1|              1|       0|                0|       0|      0|   0|        0|    0|              0|                 0|           0|      0|            0|            0|         1|       0|           0|       0|     0|   0|      0|       0|           0|                0|        0|     0|      0|         0|     0|          0|             0|     0|          0|      0|         0|       0|          0|     0|       0|           0|      0|        0|              0|           0|                0|                0|               0|      0|       0|                             0|                      0|     0|     0|            0|     0|     0|         0|        0|        0|    0|           0|             0|      0|      0|       0|      0|    0|        0|          0|     0|             0|              0|             0|               0|             0|  0|    0|          0|     0|   0|                  0|        0|               0|        0|         0|       0|              0|             0|     0|    0|     0|           0|        0|           0|      0|              0|              0|              0|               0|     0|        0|                 0|    0|             0|      0|      0|           0|         0|                0|         0|                0|                0|    0|       0|                       0|        0|      0|                     0|           0|    0|            0|      0|         0|           0|           0|         0|    0|             0|                  0|       0|          0|            0|                   0|     0|      0|   0|     0|              0|           0|      0|   0|            0|             0|            0|       0|                  0|      0|            0|          0|          0|             0|            0|           0|    0|         0|  0|           0|         1|         0|       0|\n",
            "|77cd0388-e3ff-40c...|    2|     64.0|        1|      2|     0|       Usado| Apartamento|Residencial|   0|       0.0|   0.0|Venda|220000.0|       0|                 0|            0|                 0|       0|      0|         0|           0|                0|              0|       0|                0|       0|      0|   0|        0|    0|              0|                 0|           0|      0|            0|            0|         0|       0|           0|       0|     0|   0|      0|       0|           0|                0|        0|     0|      0|         0|     0|          0|             0|     0|          0|      0|         0|       0|          0|     0|       0|           0|      0|        0|              0|           0|                0|                0|               0|      0|       0|                             0|                      0|     0|     0|            0|     0|     0|         0|        0|        0|    0|           0|             0|      0|      0|       0|      0|    0|        0|          0|     0|             1|              0|             0|               0|             0|  0|    0|          0|     0|   0|                  0|        0|               0|        0|         0|       0|              0|             0|     0|    0|     0|           0|        0|           0|      0|              0|              0|              0|               0|     0|        0|                 0|    0|             0|      0|      0|           0|         0|                0|         0|                0|                0|    0|       0|                       0|        0|      0|                     0|           0|    0|            0|      0|         0|           0|           0|         0|    0|             0|                  0|       0|          0|            0|                   0|     0|      0|   0|     0|              0|           0|      0|   0|            0|             0|            0|       0|                  0|      0|            0|          0|          0|             0|            0|           0|    0|         0|  0|           0|         1|         0|       0|\n",
            "|74a91f07-7387-4a8...|    0|     55.0|        2|      1|     0|       Usado| Apartamento|Residencial|   1|     600.0| 652.0|Venda|219130.0|       0|                 0|            0|                 0|       1|      0|         0|           0|                0|              1|       0|                0|       0|      0|   0|        0|    0|              0|                 0|           0|      0|            0|            0|         0|       0|           0|       0|     0|   0|      0|       0|           0|                0|        0|     0|      0|         0|     0|          0|             0|     0|          0|      0|         0|       0|          0|     0|       0|           0|      0|        0|              0|           1|                0|                0|               0|      0|       0|                             0|                      0|     0|     0|            0|     0|     0|         0|        0|        0|    0|           0|             0|      0|      0|       0|      0|    0|        0|          0|     0|             0|              0|             0|               0|             0|  0|    0|          0|     0|   0|                  0|        0|               0|        0|         0|       0|              0|             0|     0|    0|     0|           0|        0|           0|      0|              0|              0|              0|               0|     0|        0|                 0|    0|             0|      0|      0|           0|         0|                0|         0|                0|                0|    0|       0|                       0|        0|      0|                     0|           0|    0|            0|      0|         0|           0|           0|         0|    0|             0|                  0|       0|          0|            0|                   0|     0|      0|   0|     0|              0|           0|      0|   0|            0|             0|            0|       0|                  0|      0|            0|          0|          0|             0|            0|           0|    0|         0|  0|           0|         1|         0|       0|\n",
            "|6aab1165-508d-455...|    3|     60.0|        1|      3|     0|       Usado| Apartamento|Residencial|   1|      98.0|   1.0|Venda|230000.0|       0|                 1|            0|                 0|       0|      0|         0|           0|                0|              0|       0|                0|       0|      0|   0|        0|    0|              0|                 0|           0|      0|            0|            0|         0|       0|           0|       0|     0|   0|      0|       0|           0|                0|        1|     0|      0|         0|     0|          0|             0|     0|          0|      0|         0|       0|          0|     0|       0|           0|      0|        0|              0|           0|                0|                0|               0|      0|       0|                             0|                      0|     0|     0|            0|     0|     0|         0|        0|        0|    0|           0|             0|      0|      0|       0|      0|    0|        0|          0|     0|             0|              0|             0|               0|             0|  0|    0|          0|     0|   0|                  0|        0|               0|        0|         0|       0|              0|             0|     0|    0|     0|           0|        0|           0|      0|              0|              0|              0|               0|     0|        0|                 0|    0|             0|      0|      0|           0|         0|                0|         0|                0|                0|    0|       0|                       0|        0|      0|                     0|           0|    0|            0|      0|         0|           0|           0|         0|    0|             0|                  0|       0|          0|            0|                   0|     0|      0|   0|     0|              0|           0|      0|   0|            0|             0|            0|       0|                  0|      0|            0|          0|          0|             0|            0|           0|    0|         0|  0|           0|         1|         0|       0|\n",
            "+--------------------+-----+---------+---------+-------+------+------------+------------+-----------+----+----------+------+-----+--------+--------+------------------+-------------+------------------+--------+-------+----------+------------+-----------------+---------------+--------+-----------------+--------+-------+----+---------+-----+---------------+------------------+------------+-------+-------------+-------------+----------+--------+------------+--------+------+----+-------+--------+------------+-----------------+---------+------+-------+----------+------+-----------+--------------+------+-----------+-------+----------+--------+-----------+------+--------+------------+-------+---------+---------------+------------+-----------------+-----------------+----------------+-------+--------+------------------------------+-----------------------+------+------+-------------+------+------+----------+---------+---------+-----+------------+--------------+-------+-------+--------+-------+-----+---------+-----------+------+--------------+---------------+--------------+----------------+--------------+---+-----+-----------+------+----+-------------------+---------+----------------+---------+----------+--------+---------------+--------------+------+-----+------+------------+---------+------------+-------+---------------+---------------+---------------+----------------+------+---------+------------------+-----+--------------+-------+-------+------------+----------+-----------------+----------+-----------------+-----------------+-----+--------+------------------------+---------+-------+----------------------+------------+-----+-------------+-------+----------+------------+------------+----------+-----+--------------+-------------------+--------+-----------+-------------+--------------------+------+-------+----+------+---------------+------------+-------+----+-------------+--------------+-------------+--------+-------------------+-------+-------------+-----------+-----------+--------------+-------------+------------+-----+----------+---+------------+----------+----------+--------+\n",
            "only showing top 20 rows\n",
            "\n"
          ]
        },
        {
          "output_type": "execute_result",
          "data": {
            "text/plain": [
              "66562"
            ]
          },
          "metadata": {},
          "execution_count": 23
        }
      ]
    },
    {
      "cell_type": "markdown",
      "source": [
        "#Salvando a base de dados em parquet"
      ],
      "metadata": {
        "id": "8pobyTBVxO_S"
      }
    },
    {
      "cell_type": "code",
      "source": [
        "dados.printSchema()"
      ],
      "metadata": {
        "colab": {
          "base_uri": "https://localhost:8080/"
        },
        "id": "Tu7rM0sx2igy",
        "outputId": "a19d8599-738a-41ac-cc3f-8a31db10aedc"
      },
      "execution_count": 24,
      "outputs": [
        {
          "output_type": "stream",
          "name": "stdout",
          "text": [
            "root\n",
            " |-- id: string (nullable = true)\n",
            " |-- andar: integer (nullable = true)\n",
            " |-- area_util: double (nullable = false)\n",
            " |-- banheiros: integer (nullable = true)\n",
            " |-- quartos: integer (nullable = true)\n",
            " |-- suites: integer (nullable = true)\n",
            " |-- tipo_anuncio: string (nullable = true)\n",
            " |-- tipo_unidade: string (nullable = true)\n",
            " |-- tipo_uso: string (nullable = true)\n",
            " |-- vaga: long (nullable = true)\n",
            " |-- condominio: double (nullable = false)\n",
            " |-- iptu: double (nullable = false)\n",
            " |-- tipo: string (nullable = true)\n",
            " |-- valor: double (nullable = false)\n",
            " |-- Academia: integer (nullable = true)\n",
            " |-- Animais permitidos: integer (nullable = true)\n",
            " |-- Churrasqueira: integer (nullable = true)\n",
            " |-- Condomínio fechado: integer (nullable = true)\n",
            " |-- Elevador: integer (nullable = true)\n",
            " |-- Piscina: integer (nullable = true)\n",
            " |-- Playground: integer (nullable = true)\n",
            " |-- Portaria 24h: integer (nullable = true)\n",
            " |-- Portão eletrônico: integer (nullable = true)\n",
            " |-- Salão de festas: integer (nullable = true)\n",
            " |-- Abolição: integer (nullable = true)\n",
            " |-- Alto da Boa Vista: integer (nullable = true)\n",
            " |-- Anchieta: integer (nullable = true)\n",
            " |-- Andaraí: integer (nullable = true)\n",
            " |-- Anil: integer (nullable = true)\n",
            " |-- Bancários: integer (nullable = true)\n",
            " |-- Bangu: integer (nullable = true)\n",
            " |-- Barra da Tijuca: integer (nullable = true)\n",
            " |-- Barra de Guaratiba: integer (nullable = true)\n",
            " |-- Barros Filho: integer (nullable = true)\n",
            " |-- Benfica: integer (nullable = true)\n",
            " |-- Bento Ribeiro: integer (nullable = true)\n",
            " |-- Boa Esperança: integer (nullable = true)\n",
            " |-- Bonsucesso: integer (nullable = true)\n",
            " |-- Botafogo: integer (nullable = true)\n",
            " |-- Braz de Pina: integer (nullable = true)\n",
            " |-- Cachambi: integer (nullable = true)\n",
            " |-- Cacuia: integer (nullable = true)\n",
            " |-- Caju: integer (nullable = true)\n",
            " |-- Camorim: integer (nullable = true)\n",
            " |-- Campinho: integer (nullable = true)\n",
            " |-- Campo Grande: integer (nullable = true)\n",
            " |-- Campo dos Afonsos: integer (nullable = true)\n",
            " |-- Cascadura: integer (nullable = true)\n",
            " |-- Catete: integer (nullable = true)\n",
            " |-- Catumbi: integer (nullable = true)\n",
            " |-- Cavalcanti: integer (nullable = true)\n",
            " |-- Centro: integer (nullable = true)\n",
            " |-- Cidade Nova: integer (nullable = true)\n",
            " |-- Cidade de Deus: integer (nullable = true)\n",
            " |-- Cocotá: integer (nullable = true)\n",
            " |-- Coelho Neto: integer (nullable = true)\n",
            " |-- Colégio: integer (nullable = true)\n",
            " |-- Copacabana: integer (nullable = true)\n",
            " |-- Cordovil: integer (nullable = true)\n",
            " |-- Cosme Velho: integer (nullable = true)\n",
            " |-- Cosmos: integer (nullable = true)\n",
            " |-- Curicica: integer (nullable = true)\n",
            " |-- Del Castilho: integer (nullable = true)\n",
            " |-- Deodoro: integer (nullable = true)\n",
            " |-- Encantado: integer (nullable = true)\n",
            " |-- Engenheiro Leal: integer (nullable = true)\n",
            " |-- Engenho Novo: integer (nullable = true)\n",
            " |-- Engenho da Rainha: integer (nullable = true)\n",
            " |-- Engenho de Dentro: integer (nullable = true)\n",
            " |-- Engenho do Porto: integer (nullable = true)\n",
            " |-- Estácio: integer (nullable = true)\n",
            " |-- Flamengo: integer (nullable = true)\n",
            " |-- Freguesia (Ilha do Governador): integer (nullable = true)\n",
            " |-- Freguesia (Jacarepaguá): integer (nullable = true)\n",
            " |-- Galeão: integer (nullable = true)\n",
            " |-- Gamboa: integer (nullable = true)\n",
            " |-- Gardênia Azul: integer (nullable = true)\n",
            " |-- Glória: integer (nullable = true)\n",
            " |-- Grajaú: integer (nullable = true)\n",
            " |-- Grande Rio: integer (nullable = true)\n",
            " |-- Guadalupe: integer (nullable = true)\n",
            " |-- Guaratiba: integer (nullable = true)\n",
            " |-- Gávea: integer (nullable = true)\n",
            " |-- Higienópolis: integer (nullable = true)\n",
            " |-- Honório Gurgel: integer (nullable = true)\n",
            " |-- Humaitá: integer (nullable = true)\n",
            " |-- Inhaúma: integer (nullable = true)\n",
            " |-- Inhoaíba: integer (nullable = true)\n",
            " |-- Ipanema: integer (nullable = true)\n",
            " |-- Irajá: integer (nullable = true)\n",
            " |-- Itanhangá: integer (nullable = true)\n",
            " |-- Jacarepaguá: integer (nullable = true)\n",
            " |-- Jacaré: integer (nullable = true)\n",
            " |-- Jardim América: integer (nullable = true)\n",
            " |-- Jardim Botânico: integer (nullable = true)\n",
            " |-- Jardim Carioca: integer (nullable = true)\n",
            " |-- Jardim Guanabara: integer (nullable = true)\n",
            " |-- Jardim Sulacap: integer (nullable = true)\n",
            " |-- Joá: integer (nullable = true)\n",
            " |-- Lagoa: integer (nullable = true)\n",
            " |-- Laranjeiras: integer (nullable = true)\n",
            " |-- Leblon: integer (nullable = true)\n",
            " |-- Leme: integer (nullable = true)\n",
            " |-- Lins de Vasconcelos: integer (nullable = true)\n",
            " |-- Madureira: integer (nullable = true)\n",
            " |-- Magalhães Bastos: integer (nullable = true)\n",
            " |-- Mangueira: integer (nullable = true)\n",
            " |-- Manguinhos: integer (nullable = true)\n",
            " |-- Maracanã: integer (nullable = true)\n",
            " |-- Marechal Hermes: integer (nullable = true)\n",
            " |-- Maria da Graça: integer (nullable = true)\n",
            " |-- Moneró: integer (nullable = true)\n",
            " |-- Méier: integer (nullable = true)\n",
            " |-- Olaria: integer (nullable = true)\n",
            " |-- Oswaldo Cruz: integer (nullable = true)\n",
            " |-- Paciência: integer (nullable = true)\n",
            " |-- Padre Miguel: integer (nullable = true)\n",
            " |-- Paquetá: integer (nullable = true)\n",
            " |-- Parada de Lucas: integer (nullable = true)\n",
            " |-- Parque Anchieta: integer (nullable = true)\n",
            " |-- Parque Colúmbia: integer (nullable = true)\n",
            " |-- Parque da Matriz: integer (nullable = true)\n",
            " |-- Pavuna: integer (nullable = true)\n",
            " |-- Pechincha: integer (nullable = true)\n",
            " |-- Pedra de Guaratiba: integer (nullable = true)\n",
            " |-- Penha: integer (nullable = true)\n",
            " |-- Penha Circular: integer (nullable = true)\n",
            " |-- Piedade: integer (nullable = true)\n",
            " |-- Pilares: integer (nullable = true)\n",
            " |-- Pitangueiras: integer (nullable = true)\n",
            " |-- Portuguesa: integer (nullable = true)\n",
            " |-- Praia da Bandeira: integer (nullable = true)\n",
            " |-- Praça Seca: integer (nullable = true)\n",
            " |-- Praça da Bandeira: integer (nullable = true)\n",
            " |-- Quintino Bocaiúva: integer (nullable = true)\n",
            " |-- Ramos: integer (nullable = true)\n",
            " |-- Realengo: integer (nullable = true)\n",
            " |-- Recreio dos Bandeirantes: integer (nullable = true)\n",
            " |-- Riachuelo: integer (nullable = true)\n",
            " |-- Ribeira: integer (nullable = true)\n",
            " |-- Ricardo de Albuquerque: integer (nullable = true)\n",
            " |-- Rio Comprido: integer (nullable = true)\n",
            " |-- Rocha: integer (nullable = true)\n",
            " |-- Rocha Miranda: integer (nullable = true)\n",
            " |-- Sampaio: integer (nullable = true)\n",
            " |-- Santa Cruz: integer (nullable = true)\n",
            " |-- Santa Teresa: integer (nullable = true)\n",
            " |-- Santo Cristo: integer (nullable = true)\n",
            " |-- Santíssimo: integer (nullable = true)\n",
            " |-- Saúde: integer (nullable = true)\n",
            " |-- Senador Camará: integer (nullable = true)\n",
            " |-- Senador Vasconcelos: integer (nullable = true)\n",
            " |-- Sepetiba: integer (nullable = true)\n",
            " |-- São Conrado: integer (nullable = true)\n",
            " |-- São Cristóvão: integer (nullable = true)\n",
            " |-- São Francisco Xavier: integer (nullable = true)\n",
            " |-- Tanque: integer (nullable = true)\n",
            " |-- Taquara: integer (nullable = true)\n",
            " |-- Tauá: integer (nullable = true)\n",
            " |-- Tijuca: integer (nullable = true)\n",
            " |-- Todos os Santos: integer (nullable = true)\n",
            " |-- Tomás Coelho: integer (nullable = true)\n",
            " |-- Turiaçu: integer (nullable = true)\n",
            " |-- Urca: integer (nullable = true)\n",
            " |-- Vargem Grande: integer (nullable = true)\n",
            " |-- Vargem Pequena: integer (nullable = true)\n",
            " |-- Vasco da Gama: integer (nullable = true)\n",
            " |-- Vaz Lobo: integer (nullable = true)\n",
            " |-- Vicente de Carvalho: integer (nullable = true)\n",
            " |-- Vidigal: integer (nullable = true)\n",
            " |-- Vigário Geral: integer (nullable = true)\n",
            " |-- Vila Isabel: integer (nullable = true)\n",
            " |-- Vila Kosmos: integer (nullable = true)\n",
            " |-- Vila Valqueire: integer (nullable = true)\n",
            " |-- Vila da Penha: integer (nullable = true)\n",
            " |-- Vista Alegre: integer (nullable = true)\n",
            " |-- Zumbi: integer (nullable = true)\n",
            " |-- Água Santa: integer (nullable = true)\n",
            " |-- : integer (nullable = true)\n",
            " |-- Zona Central: integer (nullable = true)\n",
            " |-- Zona Norte: integer (nullable = true)\n",
            " |-- Zona Oeste: integer (nullable = true)\n",
            " |-- Zona Sul: integer (nullable = true)\n",
            "\n"
          ]
        }
      ]
    },
    {
      "cell_type": "code",
      "source": [
        "dados = dados.drop('tipo_anuncio', 'tipo_unidade', 'tipo_uso', 'tipo')"
      ],
      "metadata": {
        "id": "_cRd-RoSw_CH"
      },
      "execution_count": 25,
      "outputs": []
    },
    {
      "cell_type": "code",
      "source": [
        "from google.colab import drive\n",
        "drive.mount('/content/drive')"
      ],
      "metadata": {
        "colab": {
          "base_uri": "https://localhost:8080/"
        },
        "id": "rC3wDadWy7ht",
        "outputId": "e146746d-bb2b-454c-f425-e6676866c97e"
      },
      "execution_count": 26,
      "outputs": [
        {
          "output_type": "stream",
          "name": "stdout",
          "text": [
            "Mounted at /content/drive\n"
          ]
        }
      ]
    },
    {
      "cell_type": "code",
      "source": [
        "dados.write.parquet(\n",
        "    path='/content/drive/MyDrive/Challenge_Data_Science_Alura/dados/dataset_parquet',\n",
        "    mode='overwrite',\n",
        ")"
      ],
      "metadata": {
        "id": "PO20YNm6wIZe"
      },
      "execution_count": 27,
      "outputs": []
    }
  ],
  "metadata": {
    "colab": {
      "provenance": []
    },
    "kernelspec": {
      "display_name": "Python 3",
      "name": "python3"
    },
    "language_info": {
      "name": "python"
    }
  },
  "nbformat": 4,
  "nbformat_minor": 0
}