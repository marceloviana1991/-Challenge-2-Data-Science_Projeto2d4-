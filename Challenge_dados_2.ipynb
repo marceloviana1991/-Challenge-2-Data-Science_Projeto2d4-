{
  "cells": [
    {
      "cell_type": "markdown",
      "metadata": {
        "id": "JbUfzlaNkx4W"
      },
      "source": [
        "#Leitura dos dados"
      ]
    },
    {
      "cell_type": "code",
      "execution_count": 1,
      "metadata": {
        "colab": {
          "base_uri": "https://localhost:8080/"
        },
        "id": "B6zg0QGAEOLb",
        "outputId": "16979789-a0e8-4cbb-ebca-a7cc60d21605"
      },
      "outputs": [
        {
          "output_type": "stream",
          "name": "stdout",
          "text": [
            "Looking in indexes: https://pypi.org/simple, https://us-python.pkg.dev/colab-wheels/public/simple/\n",
            "Collecting pyspark==3.3.1\n",
            "  Downloading pyspark-3.3.1.tar.gz (281.4 MB)\n",
            "\u001b[K     |████████████████████████████████| 281.4 MB 39 kB/s \n",
            "\u001b[?25hCollecting py4j==0.10.9.5\n",
            "  Downloading py4j-0.10.9.5-py2.py3-none-any.whl (199 kB)\n",
            "\u001b[K     |████████████████████████████████| 199 kB 53.1 MB/s \n",
            "\u001b[?25hBuilding wheels for collected packages: pyspark\n",
            "  Building wheel for pyspark (setup.py) ... \u001b[?25l\u001b[?25hdone\n",
            "  Created wheel for pyspark: filename=pyspark-3.3.1-py2.py3-none-any.whl size=281845512 sha256=e8c9167292a1f40238efc18e6102d301e6f1de9c1446cb91f121d8c4a831c57f\n",
            "  Stored in directory: /root/.cache/pip/wheels/43/dc/11/ec201cd671da62fa9c5cc77078235e40722170ceba231d7598\n",
            "Successfully built pyspark\n",
            "Installing collected packages: py4j, pyspark\n",
            "Successfully installed py4j-0.10.9.5 pyspark-3.3.1\n"
          ]
        }
      ],
      "source": [
        "!pip install pyspark==3.3.1"
      ]
    },
    {
      "cell_type": "code",
      "execution_count": 2,
      "metadata": {
        "id": "bP4kGChvEZvb"
      },
      "outputs": [],
      "source": [
        "from pyspark.sql import SparkSession"
      ]
    },
    {
      "cell_type": "code",
      "execution_count": 3,
      "metadata": {
        "colab": {
          "base_uri": "https://localhost:8080/",
          "height": 219
        },
        "id": "ooT6GhBPEbJD",
        "outputId": "c4a4ad81-df62-4224-bf1c-0e67346cb219"
      },
      "outputs": [
        {
          "output_type": "execute_result",
          "data": {
            "text/plain": [
              "<pyspark.sql.session.SparkSession at 0x7f81a49dbc40>"
            ],
            "text/html": [
              "\n",
              "            <div>\n",
              "                <p><b>SparkSession - in-memory</b></p>\n",
              "                \n",
              "        <div>\n",
              "            <p><b>SparkContext</b></p>\n",
              "\n",
              "            <p><a href=\"http://d831dd557aad:4040\">Spark UI</a></p>\n",
              "\n",
              "            <dl>\n",
              "              <dt>Version</dt>\n",
              "                <dd><code>v3.3.1</code></dd>\n",
              "              <dt>Master</dt>\n",
              "                <dd><code>local[*]</code></dd>\n",
              "              <dt>AppName</dt>\n",
              "                <dd><code>Transformacao com Spark</code></dd>\n",
              "            </dl>\n",
              "        </div>\n",
              "        \n",
              "            </div>\n",
              "        "
            ]
          },
          "metadata": {},
          "execution_count": 3
        }
      ],
      "source": [
        "spark = SparkSession.builder.master('local[*]').appName(\"Transformacao com Spark\").getOrCreate()\n",
        "\n",
        "spark"
      ]
    },
    {
      "cell_type": "code",
      "execution_count": 4,
      "metadata": {
        "colab": {
          "base_uri": "https://localhost:8080/"
        },
        "id": "fsGgnTuXEdDr",
        "outputId": "46f95f56-194a-4464-d506-16b0f361c9b4"
      },
      "outputs": [
        {
          "output_type": "stream",
          "name": "stdout",
          "text": [
            "--2022-12-05 12:54:09--  https://caelum-online-public.s3.amazonaws.com/challenge-spark/semana-2.zip\n",
            "Resolving caelum-online-public.s3.amazonaws.com (caelum-online-public.s3.amazonaws.com)... 3.5.19.141, 52.216.220.217, 52.217.200.201, ...\n",
            "Connecting to caelum-online-public.s3.amazonaws.com (caelum-online-public.s3.amazonaws.com)|3.5.19.141|:443... connected.\n",
            "HTTP request sent, awaiting response... 200 OK\n",
            "Length: 2763652 (2.6M) [application/zip]\n",
            "Saving to: ‘semana-2.zip’\n",
            "\n",
            "semana-2.zip        100%[===================>]   2.63M  2.37MB/s    in 1.1s    \n",
            "\n",
            "2022-12-05 12:54:11 (2.37 MB/s) - ‘semana-2.zip’ saved [2763652/2763652]\n",
            "\n",
            "Archive:  semana-2.zip\n",
            "   creating: dados/dataset_transformado_parquet/\n",
            "  inflating: dados/dataset_transformado_parquet/_SUCCESS  \n",
            "  inflating: dados/dataset_transformado_parquet/._SUCCESS.crc  \n",
            "  inflating: dados/dataset_transformado_parquet/part-00000-00341ba7-0a7c-4fef-a81e-1066725a64b1-c000.snappy.parquet  \n",
            "  inflating: dados/dataset_transformado_parquet/.part-00000-00341ba7-0a7c-4fef-a81e-1066725a64b1-c000.snappy.parquet.crc  \n"
          ]
        }
      ],
      "source": [
        "!wget \"https://caelum-online-public.s3.amazonaws.com/challenge-spark/semana-2.zip\" && unzip semana-2.zip -d dados/"
      ]
    },
    {
      "cell_type": "code",
      "execution_count": 5,
      "metadata": {
        "id": "xqQ3-hUkFXTX"
      },
      "outputs": [],
      "source": [
        "dados = spark.read.parquet('/content/dados/dataset_transformado_parquet')"
      ]
    },
    {
      "cell_type": "code",
      "execution_count": 6,
      "metadata": {
        "id": "wXT88SNsFpY8",
        "colab": {
          "base_uri": "https://localhost:8080/"
        },
        "outputId": "cbf34d94-91a4-4814-d5e4-32491cd4e3a9"
      },
      "outputs": [
        {
          "output_type": "stream",
          "name": "stdout",
          "text": [
            "+--------------------+-----+----------+---------+---------+--------------------+-------+------+------------+------------+-----------+----+--------------------+------------+----------+----+-----+------+\n",
            "|                  id|andar|area_total|area_util|banheiros|     caracteristicas|quartos|suites|tipo_anuncio|tipo_unidade|   tipo_uso|vaga|              bairro|        zona|condominio|iptu| tipo| valor|\n",
            "+--------------------+-----+----------+---------+---------+--------------------+-------+------+------------+------------+-----------+----+--------------------+------------+----------+----+-----+------+\n",
            "|03a386b6-7ab8-4ef...|    0|        43|       43|        1|[Churrasqueira, A...|      2|  null|       Usado| Apartamento|Residencial|   1|            Realengo|  Zona Oeste|       285|null|Venda| 22999|\n",
            "|1fe78d41-b8e0-4d2...|    0|        44|       44|        1|                  []|      2|     0|       Usado| Apartamento|Residencial|   0|               Irajá|  Zona Norte|       170|   0|Venda|110000|\n",
            "|1fa1c1e5-e98c-433...|    4|      null|       55|        1|                  []|      2|     0|       Usado| Apartamento|Residencial|   1|              Cosmos|  Zona Oeste|      null|null|Venda|115000|\n",
            "|a6ab01ae-3d40-40e...|    2|      null|       55|        1|                  []|      2|     0|       Usado| Apartamento|Residencial|   0|        Tomás Coelho|  Zona Norte|      null|null|Venda|115000|\n",
            "|1d8ff7a2-16bd-4e3...|    0|      null|       50|        1|                  []|      1|  null|       Usado| Apartamento|Residencial|   0|              Centro|Zona Central|      1300|2679|Venda|125000|\n",
            "|40a2cbde-946b-42d...|    2|        47|       47|        1|[Condomínio fecha...|      2|     0|       Usado| Apartamento|Residencial|   1|        Campo Grande|  Zona Oeste|       380|null|Venda|138000|\n",
            "|be269ddf-a4a3-4a7...|    0|     17089|       45|        1|[Churrasqueira, C...|      2|     0|       Usado| Apartamento|Residencial|   1|        Campo Grande|  Zona Oeste|       356|   0|Venda|140000|\n",
            "|4b7e3d59-34fd-4ba...|    3|        48|       48|        1|[Churrasqueira, P...|      2|  null|       Usado| Apartamento|Residencial|   1|        Campo Grande|  Zona Oeste|         0|   0|Venda|150000|\n",
            "|a1a0c2ac-4fa8-4b0...|    9|      null|       55|        1|[Churrasqueira, E...|      2|  null|       Usado| Apartamento|Residencial|   1|Freguesia (Jacare...|  Zona Oeste|       780| 660|Venda|160000|\n",
            "|390d2b88-e06d-47e...|    0|        70|       70|        2|   [Salão de festas]|      2|     0|       Usado| Apartamento|Residencial|   1|          Praça Seca|  Zona Oeste|    420000|null|Venda|159000|\n",
            "|07bb07c1-21cc-4da...|    2|        50|       48|        1|[Condomínio fecha...|      1|     0|       Usado| Apartamento|Residencial|   0|             Piedade|  Zona Norte|        10|  10|Venda|170000|\n",
            "|7d3a1bae-988c-44b...|    5|        40|       40|        1|[Playground, Chur...|      2|     0|       Usado| Apartamento|Residencial|   1|        Braz de Pina|  Zona Norte|       150| 120|Venda|189000|\n",
            "|47af17f0-1c81-474...|    0|        65|       65|        1|                  []|      2|     0|       Usado| Apartamento|Residencial|   1|            Campinho|  Zona Oeste|       432|null|Venda|185000|\n",
            "|a9bd1575-e9f2-43d...|    2|        50|       50|        1|[Condomínio fecha...|      1|     0|       Usado| Apartamento|Residencial|   1|           Madureira|  Zona Norte|       650|   1|Venda|185000|\n",
            "|cfca7253-3d02-4cd...|    5|        45|       45|        1|[Academia, Churra...|      2|     1|       Usado| Apartamento|Residencial|   0|             Taquara|  Zona Oeste|       150|  40|Venda|199000|\n",
            "|b571ae97-e3d8-4fb...|    0|        48|       48|        1|[Academia, Condom...|      2|  null|       Usado| Apartamento|Residencial|   0|          Bonsucesso|  Zona Norte|         0|   0|Venda|205933|\n",
            "|eb5fdc65-acae-45f...|    0|        44|       44|        1|[Academia, Condom...|      2|  null|       Usado| Apartamento|Residencial|   0|          Bonsucesso|  Zona Norte|         0|   0|Venda|206000|\n",
            "|77cd0388-e3ff-40c...|    2|        64|       64|        1|                  []|      2|     0|       Usado| Apartamento|Residencial|   0|      Jardim América|  Zona Norte|         0|   0|Venda|220000|\n",
            "|74a91f07-7387-4a8...|    0|        55|       55|        2|[Salão de festas,...|      1|     0|       Usado| Apartamento|Residencial|   1|        Engenho Novo|  Zona Norte|       600| 652|Venda|219130|\n",
            "|6aab1165-508d-455...|    3|        60|       60|        1|[Animais permitidos]|      3|     0|       Usado| Apartamento|Residencial|   1|           Cascadura|  Zona Norte|        98|   1|Venda|230000|\n",
            "+--------------------+-----+----------+---------+---------+--------------------+-------+------+------------+------------+-----------+----+--------------------+------------+----------+----+-----+------+\n",
            "only showing top 20 rows\n",
            "\n"
          ]
        },
        {
          "output_type": "execute_result",
          "data": {
            "text/plain": [
              "66562"
            ]
          },
          "metadata": {},
          "execution_count": 6
        }
      ],
      "source": [
        "dados.show()\n",
        "dados.count()"
      ]
    },
    {
      "cell_type": "code",
      "execution_count": 7,
      "metadata": {
        "id": "DnVlaEsEgwK2",
        "colab": {
          "base_uri": "https://localhost:8080/"
        },
        "outputId": "e4bee9ef-818d-4ba9-d31b-b6b8664c8950"
      },
      "outputs": [
        {
          "output_type": "stream",
          "name": "stdout",
          "text": [
            "root\n",
            " |-- id: string (nullable = true)\n",
            " |-- andar: long (nullable = true)\n",
            " |-- area_total: string (nullable = true)\n",
            " |-- area_util: string (nullable = true)\n",
            " |-- banheiros: long (nullable = true)\n",
            " |-- caracteristicas: array (nullable = true)\n",
            " |    |-- element: string (containsNull = true)\n",
            " |-- quartos: long (nullable = true)\n",
            " |-- suites: long (nullable = true)\n",
            " |-- tipo_anuncio: string (nullable = true)\n",
            " |-- tipo_unidade: string (nullable = true)\n",
            " |-- tipo_uso: string (nullable = true)\n",
            " |-- vaga: long (nullable = true)\n",
            " |-- bairro: string (nullable = true)\n",
            " |-- zona: string (nullable = true)\n",
            " |-- condominio: string (nullable = true)\n",
            " |-- iptu: string (nullable = true)\n",
            " |-- tipo: string (nullable = true)\n",
            " |-- valor: string (nullable = true)\n",
            "\n"
          ]
        }
      ],
      "source": [
        "dados.printSchema()"
      ]
    },
    {
      "cell_type": "markdown",
      "metadata": {
        "id": "yYOxbTRjk7Ta"
      },
      "source": [
        "#Analisando a diferença entre a quantidade da dados não nulos armazenados nas colunas 'area_util' e 'area_total'"
      ]
    },
    {
      "cell_type": "code",
      "execution_count": 8,
      "metadata": {
        "id": "SlhiOt24fTd_"
      },
      "outputs": [],
      "source": [
        "from pyspark.sql import functions as f"
      ]
    },
    {
      "cell_type": "code",
      "source": [
        "dados.where('area_util == area_total').count()"
      ],
      "metadata": {
        "colab": {
          "base_uri": "https://localhost:8080/"
        },
        "id": "78K1UxNaHljo",
        "outputId": "4ef6c191-c4ca-4898-9d8c-b9541c2f989a"
      },
      "execution_count": 9,
      "outputs": [
        {
          "output_type": "execute_result",
          "data": {
            "text/plain": [
              "55384"
            ]
          },
          "metadata": {},
          "execution_count": 9
        }
      ]
    },
    {
      "cell_type": "code",
      "execution_count": 10,
      "metadata": {
        "id": "y9YYn7IvfFhD",
        "colab": {
          "base_uri": "https://localhost:8080/"
        },
        "outputId": "d24c04ed-2a96-4730-d5e9-e9be5b65734b"
      },
      "outputs": [
        {
          "output_type": "stream",
          "name": "stdout",
          "text": [
            "+---------+----------+\n",
            "|area_util|area_total|\n",
            "+---------+----------+\n",
            "|        0|      9194|\n",
            "+---------+----------+\n",
            "\n"
          ]
        }
      ],
      "source": [
        "lista = ['area_util', 'area_total']\n",
        "dados.select([f.count(f.when(f.isnan(c) | f.isnull(c), True)).alias(c) for c in lista]).show()"
      ]
    },
    {
      "cell_type": "code",
      "execution_count": 11,
      "metadata": {
        "id": "xyIULe70kTNY"
      },
      "outputs": [],
      "source": [
        "dados = dados.drop('area_total')"
      ]
    },
    {
      "cell_type": "code",
      "execution_count": 12,
      "metadata": {
        "id": "IswvlJvPkXvX",
        "colab": {
          "base_uri": "https://localhost:8080/"
        },
        "outputId": "93d0296c-050b-416e-efd8-81a32e7ce5d6"
      },
      "outputs": [
        {
          "output_type": "stream",
          "name": "stdout",
          "text": [
            "root\n",
            " |-- id: string (nullable = true)\n",
            " |-- andar: long (nullable = true)\n",
            " |-- area_util: string (nullable = true)\n",
            " |-- banheiros: long (nullable = true)\n",
            " |-- caracteristicas: array (nullable = true)\n",
            " |    |-- element: string (containsNull = true)\n",
            " |-- quartos: long (nullable = true)\n",
            " |-- suites: long (nullable = true)\n",
            " |-- tipo_anuncio: string (nullable = true)\n",
            " |-- tipo_unidade: string (nullable = true)\n",
            " |-- tipo_uso: string (nullable = true)\n",
            " |-- vaga: long (nullable = true)\n",
            " |-- bairro: string (nullable = true)\n",
            " |-- zona: string (nullable = true)\n",
            " |-- condominio: string (nullable = true)\n",
            " |-- iptu: string (nullable = true)\n",
            " |-- tipo: string (nullable = true)\n",
            " |-- valor: string (nullable = true)\n",
            "\n"
          ]
        }
      ],
      "source": [
        "dados.printSchema()"
      ]
    },
    {
      "cell_type": "markdown",
      "metadata": {
        "id": "2qEuo8GMEPbW"
      },
      "source": [
        "#Convertendo os tipos das colunas"
      ]
    },
    {
      "cell_type": "code",
      "execution_count": 13,
      "metadata": {
        "id": "X0NeM6csEVCH"
      },
      "outputs": [],
      "source": [
        "dados = dados.withColumn('area_util', dados.area_util.cast('double'))\n",
        "dados = dados.withColumn('iptu', dados.iptu.cast('double'))\n",
        "dados = dados.withColumn('valor', dados.valor.cast('double'))\n",
        "dados = dados.withColumn('condominio', dados.condominio.cast('double'))\n",
        "\n",
        "dados = dados.withColumn('andar', dados.andar.cast('integer'))\n",
        "dados = dados.withColumn('banheiros', dados.banheiros.cast('integer'))\n",
        "dados = dados.withColumn('quartos', dados.quartos.cast('integer'))\n",
        "dados = dados.withColumn('suites', dados.suites.cast('integer'))"
      ]
    },
    {
      "cell_type": "code",
      "execution_count": 14,
      "metadata": {
        "id": "--_F2-pVFnaY",
        "colab": {
          "base_uri": "https://localhost:8080/"
        },
        "outputId": "5816dfe4-2bb7-4f0c-bb03-1e3d49e8949b"
      },
      "outputs": [
        {
          "output_type": "stream",
          "name": "stdout",
          "text": [
            "root\n",
            " |-- id: string (nullable = true)\n",
            " |-- andar: integer (nullable = true)\n",
            " |-- area_util: double (nullable = true)\n",
            " |-- banheiros: integer (nullable = true)\n",
            " |-- caracteristicas: array (nullable = true)\n",
            " |    |-- element: string (containsNull = true)\n",
            " |-- quartos: integer (nullable = true)\n",
            " |-- suites: integer (nullable = true)\n",
            " |-- tipo_anuncio: string (nullable = true)\n",
            " |-- tipo_unidade: string (nullable = true)\n",
            " |-- tipo_uso: string (nullable = true)\n",
            " |-- vaga: long (nullable = true)\n",
            " |-- bairro: string (nullable = true)\n",
            " |-- zona: string (nullable = true)\n",
            " |-- condominio: double (nullable = true)\n",
            " |-- iptu: double (nullable = true)\n",
            " |-- tipo: string (nullable = true)\n",
            " |-- valor: double (nullable = true)\n",
            "\n"
          ]
        }
      ],
      "source": [
        "dados.printSchema()"
      ]
    },
    {
      "cell_type": "markdown",
      "metadata": {
        "id": "t0Q2-wdtIDsF"
      },
      "source": [
        "#Tratamento da coluna caracteristicas"
      ]
    },
    {
      "cell_type": "code",
      "source": [
        "caracteristicas = dados.select(dados.id,f.explode(dados.caracteristicas))\n",
        "caracteristicas.groupBy('col').count().show()"
      ],
      "metadata": {
        "colab": {
          "base_uri": "https://localhost:8080/"
        },
        "id": "920xyVZJzCyV",
        "outputId": "aa9247c6-1bc8-444a-90f2-c87f27f65ce2"
      },
      "execution_count": 15,
      "outputs": [
        {
          "output_type": "stream",
          "name": "stdout",
          "text": [
            "+------------------+-----+\n",
            "|               col|count|\n",
            "+------------------+-----+\n",
            "|Condomínio fechado|34984|\n",
            "|        Playground|31856|\n",
            "| Portão eletrônico|29324|\n",
            "|           Piscina|33236|\n",
            "|Animais permitidos|30619|\n",
            "|      Portaria 24h|30361|\n",
            "|          Elevador|43027|\n",
            "|          Academia|27643|\n",
            "|   Salão de festas|33585|\n",
            "|     Churrasqueira|31739|\n",
            "+------------------+-----+\n",
            "\n"
          ]
        }
      ]
    },
    {
      "cell_type": "code",
      "source": [
        "caracteristicas = caracteristicas.groupBy('id').pivot('col').agg(f.lit(1)).na.fill(0)\n",
        "caracteristicas.show()"
      ],
      "metadata": {
        "colab": {
          "base_uri": "https://localhost:8080/"
        },
        "id": "jQIuQqPA01Cq",
        "outputId": "d68b6b2d-a439-42c7-c564-78534395b310"
      },
      "execution_count": 16,
      "outputs": [
        {
          "output_type": "stream",
          "name": "stdout",
          "text": [
            "+--------------------+--------+------------------+-------------+------------------+--------+-------+----------+------------+-----------------+---------------+\n",
            "|                  id|Academia|Animais permitidos|Churrasqueira|Condomínio fechado|Elevador|Piscina|Playground|Portaria 24h|Portão eletrônico|Salão de festas|\n",
            "+--------------------+--------+------------------+-------------+------------------+--------+-------+----------+------------+-----------------+---------------+\n",
            "|fd96bbd5-d631-416...|       1|                 1|            1|                 1|       1|      1|         1|           1|                1|              1|\n",
            "|bfffedfe-99e7-4ae...|       0|                 1|            1|                 1|       1|      0|         1|           0|                1|              1|\n",
            "|fcb67af3-5601-415...|       1|                 1|            1|                 0|       0|      1|         1|           0|                0|              1|\n",
            "|afecddff-f4cc-4ab...|       1|                 1|            1|                 1|       1|      1|         1|           1|                1|              1|\n",
            "|1bbc40f3-4f5c-459...|       1|                 0|            0|                 1|       1|      1|         1|           1|                1|              1|\n",
            "|fd26aeb2-a7b3-4f8...|       1|                 1|            1|                 1|       1|      1|         1|           1|                1|              1|\n",
            "|10e9d118-dbad-43c...|       0|                 1|            1|                 1|       0|      1|         1|           1|                1|              1|\n",
            "|ca1e84d7-86c8-4b1...|       1|                 0|            1|                 1|       1|      1|         1|           1|                1|              1|\n",
            "|d9e139a5-e85d-4e1...|       1|                 1|            1|                 1|       1|      1|         1|           1|                1|              1|\n",
            "|156a1fa5-37ca-43d...|       1|                 0|            1|                 1|       1|      1|         1|           1|                1|              1|\n",
            "|e7be09eb-6223-4b4...|       1|                 1|            1|                 1|       1|      1|         1|           1|                1|              1|\n",
            "|631efda0-5e10-422...|       1|                 1|            1|                 1|       1|      1|         1|           1|                1|              1|\n",
            "|07cbfef2-efbf-4e8...|       0|                 1|            0|                 0|       1|      0|         0|           1|                0|              0|\n",
            "|62baf185-103d-448...|       1|                 0|            1|                 1|       0|      1|         1|           0|                0|              0|\n",
            "|3030d17c-5681-4b2...|       1|                 1|            1|                 1|       1|      1|         0|           1|                1|              1|\n",
            "|6179c8a4-1fd2-4f5...|       1|                 1|            0|                 1|       1|      1|         1|           1|                1|              1|\n",
            "|c284072a-7298-4e5...|       1|                 1|            1|                 1|       1|      1|         1|           1|                1|              1|\n",
            "|7e43514c-3b40-4fb...|       1|                 1|            1|                 1|       1|      1|         1|           1|                1|              1|\n",
            "|6a4ce9ac-1eb0-4d4...|       1|                 0|            1|                 0|       1|      1|         1|           0|                0|              1|\n",
            "|bdc6127a-1d97-41b...|       1|                 0|            1|                 0|       0|      0|         0|           0|                0|              1|\n",
            "+--------------------+--------+------------------+-------------+------------------+--------+-------+----------+------------+-----------------+---------------+\n",
            "only showing top 20 rows\n",
            "\n"
          ]
        }
      ]
    },
    {
      "cell_type": "code",
      "source": [
        "dados = dados.join(caracteristicas, 'id', how='left').drop('caracteristicas')\n",
        "dados.count()"
      ],
      "metadata": {
        "id": "j-FxV5pD39qG",
        "colab": {
          "base_uri": "https://localhost:8080/"
        },
        "outputId": "a83c2ce5-4736-4fd8-f52b-f8566c40aa61"
      },
      "execution_count": 17,
      "outputs": [
        {
          "output_type": "execute_result",
          "data": {
            "text/plain": [
              "66562"
            ]
          },
          "metadata": {},
          "execution_count": 17
        }
      ]
    },
    {
      "cell_type": "code",
      "source": [
        "dados.show()"
      ],
      "metadata": {
        "colab": {
          "base_uri": "https://localhost:8080/"
        },
        "id": "eitrLDkJAFbW",
        "outputId": "01e97d8f-b86b-4313-e634-ee058548f0b3"
      },
      "execution_count": 18,
      "outputs": [
        {
          "output_type": "stream",
          "name": "stdout",
          "text": [
            "+--------------------+-----+---------+---------+-------+------+------------+------------+-----------+----+--------------------+------------+----------+------+-----+--------+--------+------------------+-------------+------------------+--------+-------+----------+------------+-----------------+---------------+\n",
            "|                  id|andar|area_util|banheiros|quartos|suites|tipo_anuncio|tipo_unidade|   tipo_uso|vaga|              bairro|        zona|condominio|  iptu| tipo|   valor|Academia|Animais permitidos|Churrasqueira|Condomínio fechado|Elevador|Piscina|Playground|Portaria 24h|Portão eletrônico|Salão de festas|\n",
            "+--------------------+-----+---------+---------+-------+------+------------+------------+-----------+----+--------------------+------------+----------+------+-----+--------+--------+------------------+-------------+------------------+--------+-------+----------+------------+-----------------+---------------+\n",
            "|03a386b6-7ab8-4ef...|    0|     43.0|        1|      2|  null|       Usado| Apartamento|Residencial|   1|            Realengo|  Zona Oeste|     285.0|  null|Venda| 22999.0|       1|                 1|            1|                 1|       0|      0|         1|           1|                1|              1|\n",
            "|1fe78d41-b8e0-4d2...|    0|     44.0|        1|      2|     0|       Usado| Apartamento|Residencial|   0|               Irajá|  Zona Norte|     170.0|   0.0|Venda|110000.0|    null|              null|         null|              null|    null|   null|      null|        null|             null|           null|\n",
            "|1fa1c1e5-e98c-433...|    4|     55.0|        1|      2|     0|       Usado| Apartamento|Residencial|   1|              Cosmos|  Zona Oeste|      null|  null|Venda|115000.0|    null|              null|         null|              null|    null|   null|      null|        null|             null|           null|\n",
            "|a6ab01ae-3d40-40e...|    2|     55.0|        1|      2|     0|       Usado| Apartamento|Residencial|   0|        Tomás Coelho|  Zona Norte|      null|  null|Venda|115000.0|    null|              null|         null|              null|    null|   null|      null|        null|             null|           null|\n",
            "|1d8ff7a2-16bd-4e3...|    0|     50.0|        1|      1|  null|       Usado| Apartamento|Residencial|   0|              Centro|Zona Central|    1300.0|2679.0|Venda|125000.0|    null|              null|         null|              null|    null|   null|      null|        null|             null|           null|\n",
            "|40a2cbde-946b-42d...|    2|     47.0|        1|      2|     0|       Usado| Apartamento|Residencial|   1|        Campo Grande|  Zona Oeste|     380.0|  null|Venda|138000.0|       0|                 1|            1|                 1|       0|      1|         0|           1|                0|              1|\n",
            "|be269ddf-a4a3-4a7...|    0|     45.0|        1|      2|     0|       Usado| Apartamento|Residencial|   1|        Campo Grande|  Zona Oeste|     356.0|   0.0|Venda|140000.0|       0|                 0|            1|                 1|       0|      1|         0|           0|                0|              0|\n",
            "|4b7e3d59-34fd-4ba...|    3|     48.0|        1|      2|  null|       Usado| Apartamento|Residencial|   1|        Campo Grande|  Zona Oeste|       0.0|   0.0|Venda|150000.0|       0|                 1|            1|                 1|       0|      1|         1|           1|                1|              1|\n",
            "|a1a0c2ac-4fa8-4b0...|    9|     55.0|        1|      2|  null|       Usado| Apartamento|Residencial|   1|Freguesia (Jacare...|  Zona Oeste|     780.0| 660.0|Venda|160000.0|       0|                 1|            1|                 1|       1|      0|         0|           1|                1|              1|\n",
            "|390d2b88-e06d-47e...|    0|     70.0|        2|      2|     0|       Usado| Apartamento|Residencial|   1|          Praça Seca|  Zona Oeste|  420000.0|  null|Venda|159000.0|       0|                 0|            0|                 0|       0|      0|         0|           0|                0|              1|\n",
            "|07bb07c1-21cc-4da...|    2|     48.0|        1|      1|     0|       Usado| Apartamento|Residencial|   0|             Piedade|  Zona Norte|      10.0|  10.0|Venda|170000.0|       0|                 1|            0|                 1|       0|      0|         0|           0|                0|              0|\n",
            "|7d3a1bae-988c-44b...|    5|     40.0|        1|      2|     0|       Usado| Apartamento|Residencial|   1|        Braz de Pina|  Zona Norte|     150.0| 120.0|Venda|189000.0|       0|                 1|            1|                 1|       0|      0|         1|           1|                1|              1|\n",
            "|47af17f0-1c81-474...|    0|     65.0|        1|      2|     0|       Usado| Apartamento|Residencial|   1|            Campinho|  Zona Oeste|     432.0|  null|Venda|185000.0|    null|              null|         null|              null|    null|   null|      null|        null|             null|           null|\n",
            "|a9bd1575-e9f2-43d...|    2|     50.0|        1|      1|     0|       Usado| Apartamento|Residencial|   1|           Madureira|  Zona Norte|     650.0|   1.0|Venda|185000.0|       0|                 1|            0|                 1|       0|      0|         0|           0|                1|              0|\n",
            "|cfca7253-3d02-4cd...|    5|     45.0|        1|      2|     1|       Usado| Apartamento|Residencial|   0|             Taquara|  Zona Oeste|     150.0|  40.0|Venda|199000.0|       1|                 1|            1|                 1|       1|      0|         1|           1|                1|              1|\n",
            "|b571ae97-e3d8-4fb...|    0|     48.0|        1|      2|  null|       Usado| Apartamento|Residencial|   0|          Bonsucesso|  Zona Norte|       0.0|   0.0|Venda|205933.0|       1|                 1|            1|                 1|       1|      0|         0|           1|                1|              1|\n",
            "|eb5fdc65-acae-45f...|    0|     44.0|        1|      2|  null|       Usado| Apartamento|Residencial|   0|          Bonsucesso|  Zona Norte|       0.0|   0.0|Venda|206000.0|       1|                 1|            0|                 1|       1|      0|         1|           1|                1|              1|\n",
            "|77cd0388-e3ff-40c...|    2|     64.0|        1|      2|     0|       Usado| Apartamento|Residencial|   0|      Jardim América|  Zona Norte|       0.0|   0.0|Venda|220000.0|    null|              null|         null|              null|    null|   null|      null|        null|             null|           null|\n",
            "|74a91f07-7387-4a8...|    0|     55.0|        2|      1|     0|       Usado| Apartamento|Residencial|   1|        Engenho Novo|  Zona Norte|     600.0| 652.0|Venda|219130.0|       0|                 0|            0|                 0|       1|      0|         0|           0|                0|              1|\n",
            "|6aab1165-508d-455...|    3|     60.0|        1|      3|     0|       Usado| Apartamento|Residencial|   1|           Cascadura|  Zona Norte|      98.0|   1.0|Venda|230000.0|       0|                 1|            0|                 0|       0|      0|         0|           0|                0|              0|\n",
            "+--------------------+-----+---------+---------+-------+------+------------+------------+-----------+----+--------------------+------------+----------+------+-----+--------+--------+------------------+-------------+------------------+--------+-------+----------+------------+-----------------+---------------+\n",
            "only showing top 20 rows\n",
            "\n"
          ]
        }
      ]
    },
    {
      "cell_type": "markdown",
      "source": [
        "#Tratar dados nulos e NaN's"
      ],
      "metadata": {
        "id": "5Bkdcededmu5"
      }
    },
    {
      "cell_type": "code",
      "source": [
        "dados.select([f.count(f.when(f.isnan(c) | f.isnull(c), True)).alias(c) for c in dados.columns]).show(vertical=True)"
      ],
      "metadata": {
        "colab": {
          "base_uri": "https://localhost:8080/"
        },
        "id": "VtyE-x8LicYa",
        "outputId": "ed0c423c-c97b-4391-af7c-9c9cd4faa49b"
      },
      "execution_count": 19,
      "outputs": [
        {
          "output_type": "stream",
          "name": "stdout",
          "text": [
            "-RECORD 0-------------------\n",
            " id                 | 0     \n",
            " andar              | 0     \n",
            " area_util          | 0     \n",
            " banheiros          | 0     \n",
            " quartos            | 0     \n",
            " suites             | 5554  \n",
            " tipo_anuncio       | 0     \n",
            " tipo_unidade       | 0     \n",
            " tipo_uso           | 0     \n",
            " vaga               | 3017  \n",
            " bairro             | 0     \n",
            " zona               | 0     \n",
            " condominio         | 2371  \n",
            " iptu               | 7199  \n",
            " tipo               | 0     \n",
            " valor              | 0     \n",
            " Academia           | 12736 \n",
            " Animais permitidos | 12736 \n",
            " Churrasqueira      | 12736 \n",
            " Condomínio fechado | 12736 \n",
            " Elevador           | 12736 \n",
            " Piscina            | 12736 \n",
            " Playground         | 12736 \n",
            " Portaria 24h       | 12736 \n",
            " Portão eletrônico  | 12736 \n",
            " Salão de festas    | 12736 \n",
            "\n"
          ]
        }
      ]
    },
    {
      "cell_type": "code",
      "source": [
        "dados = dados.fillna(value =0)"
      ],
      "metadata": {
        "id": "ylV4YynVixD5"
      },
      "execution_count": 20,
      "outputs": []
    },
    {
      "cell_type": "code",
      "source": [
        "dados.select([f.count(f.when(f.isnan(c) | f.isnull(c), True)).alias(c) for c in dados.columns]).show(vertical=True)"
      ],
      "metadata": {
        "colab": {
          "base_uri": "https://localhost:8080/"
        },
        "id": "K1CxWMlri9xT",
        "outputId": "38603ea2-7d6d-4eb6-ceab-985ec2428aa8"
      },
      "execution_count": 21,
      "outputs": [
        {
          "output_type": "stream",
          "name": "stdout",
          "text": [
            "-RECORD 0-----------------\n",
            " id                 | 0   \n",
            " andar              | 0   \n",
            " area_util          | 0   \n",
            " banheiros          | 0   \n",
            " quartos            | 0   \n",
            " suites             | 0   \n",
            " tipo_anuncio       | 0   \n",
            " tipo_unidade       | 0   \n",
            " tipo_uso           | 0   \n",
            " vaga               | 0   \n",
            " bairro             | 0   \n",
            " zona               | 0   \n",
            " condominio         | 0   \n",
            " iptu               | 0   \n",
            " tipo               | 0   \n",
            " valor              | 0   \n",
            " Academia           | 0   \n",
            " Animais permitidos | 0   \n",
            " Churrasqueira      | 0   \n",
            " Condomínio fechado | 0   \n",
            " Elevador           | 0   \n",
            " Piscina            | 0   \n",
            " Playground         | 0   \n",
            " Portaria 24h       | 0   \n",
            " Portão eletrônico  | 0   \n",
            " Salão de festas    | 0   \n",
            "\n"
          ]
        }
      ]
    },
    {
      "cell_type": "markdown",
      "source": [
        "#Preparação dos dados para machine learning"
      ],
      "metadata": {
        "id": "uH4QoXjNjpHa"
      }
    },
    {
      "cell_type": "code",
      "source": [
        "dados.groupBy('zona').count().show()"
      ],
      "metadata": {
        "colab": {
          "base_uri": "https://localhost:8080/"
        },
        "id": "no53x-vsk7vH",
        "outputId": "12b398ad-4600-45bf-e8e9-1a1d9f428fcc"
      },
      "execution_count": 22,
      "outputs": [
        {
          "output_type": "stream",
          "name": "stdout",
          "text": [
            "+------------+-----+\n",
            "|        zona|count|\n",
            "+------------+-----+\n",
            "|  Zona Norte|11897|\n",
            "|  Zona Oeste|32979|\n",
            "|Zona Central| 1144|\n",
            "|    Zona Sul|20531|\n",
            "|            |   11|\n",
            "+------------+-----+\n",
            "\n"
          ]
        }
      ]
    },
    {
      "cell_type": "code",
      "source": [
        "dados = dados.where(f.col('zona') != '')"
      ],
      "metadata": {
        "id": "BK37OG1qU6jc"
      },
      "execution_count": 23,
      "outputs": []
    },
    {
      "cell_type": "code",
      "source": [
        "dados.groupBy('zona').count().show()"
      ],
      "metadata": {
        "colab": {
          "base_uri": "https://localhost:8080/"
        },
        "id": "w7tRtXebVPNP",
        "outputId": "64026e47-a78b-4e08-ab81-06e3e52eb36f"
      },
      "execution_count": 24,
      "outputs": [
        {
          "output_type": "stream",
          "name": "stdout",
          "text": [
            "+------------+-----+\n",
            "|        zona|count|\n",
            "+------------+-----+\n",
            "|  Zona Norte|11897|\n",
            "|  Zona Oeste|32979|\n",
            "|Zona Central| 1144|\n",
            "|    Zona Sul|20531|\n",
            "+------------+-----+\n",
            "\n"
          ]
        }
      ]
    },
    {
      "cell_type": "code",
      "source": [
        "zona = dados.groupBy('id').pivot('zona').agg(f.lit(1)).na.fill(0)\n",
        "zona"
      ],
      "metadata": {
        "colab": {
          "base_uri": "https://localhost:8080/"
        },
        "id": "L0r7amNClRY5",
        "outputId": "219016c5-c086-44a2-e99a-53dc24b6afd7"
      },
      "execution_count": 25,
      "outputs": [
        {
          "output_type": "execute_result",
          "data": {
            "text/plain": [
              "DataFrame[id: string, Zona Central: int, Zona Norte: int, Zona Oeste: int, Zona Sul: int]"
            ]
          },
          "metadata": {},
          "execution_count": 25
        }
      ]
    },
    {
      "cell_type": "code",
      "source": [
        "dados = dados.join(zona, 'id', how='left').drop('zona')\n",
        "dados.show()\n",
        "dados.count()"
      ],
      "metadata": {
        "colab": {
          "base_uri": "https://localhost:8080/"
        },
        "id": "scTneFzIUC0y",
        "outputId": "f6eb5192-a7f9-4b63-8882-2bc91124781b"
      },
      "execution_count": 26,
      "outputs": [
        {
          "output_type": "stream",
          "name": "stdout",
          "text": [
            "+--------------------+-----+---------+---------+-------+------+------------+------------+-----------+----+--------------------+----------+------+-----+--------+--------+------------------+-------------+------------------+--------+-------+----------+------------+-----------------+---------------+------------+----------+----------+--------+\n",
            "|                  id|andar|area_util|banheiros|quartos|suites|tipo_anuncio|tipo_unidade|   tipo_uso|vaga|              bairro|condominio|  iptu| tipo|   valor|Academia|Animais permitidos|Churrasqueira|Condomínio fechado|Elevador|Piscina|Playground|Portaria 24h|Portão eletrônico|Salão de festas|Zona Central|Zona Norte|Zona Oeste|Zona Sul|\n",
            "+--------------------+-----+---------+---------+-------+------+------------+------------+-----------+----+--------------------+----------+------+-----+--------+--------+------------------+-------------+------------------+--------+-------+----------+------------+-----------------+---------------+------------+----------+----------+--------+\n",
            "|03a386b6-7ab8-4ef...|    0|     43.0|        1|      2|     0|       Usado| Apartamento|Residencial|   1|            Realengo|     285.0|   0.0|Venda| 22999.0|       1|                 1|            1|                 1|       0|      0|         1|           1|                1|              1|           0|         0|         1|       0|\n",
            "|1fe78d41-b8e0-4d2...|    0|     44.0|        1|      2|     0|       Usado| Apartamento|Residencial|   0|               Irajá|     170.0|   0.0|Venda|110000.0|       0|                 0|            0|                 0|       0|      0|         0|           0|                0|              0|           0|         1|         0|       0|\n",
            "|1fa1c1e5-e98c-433...|    4|     55.0|        1|      2|     0|       Usado| Apartamento|Residencial|   1|              Cosmos|       0.0|   0.0|Venda|115000.0|       0|                 0|            0|                 0|       0|      0|         0|           0|                0|              0|           0|         0|         1|       0|\n",
            "|a6ab01ae-3d40-40e...|    2|     55.0|        1|      2|     0|       Usado| Apartamento|Residencial|   0|        Tomás Coelho|       0.0|   0.0|Venda|115000.0|       0|                 0|            0|                 0|       0|      0|         0|           0|                0|              0|           0|         1|         0|       0|\n",
            "|1d8ff7a2-16bd-4e3...|    0|     50.0|        1|      1|     0|       Usado| Apartamento|Residencial|   0|              Centro|    1300.0|2679.0|Venda|125000.0|       0|                 0|            0|                 0|       0|      0|         0|           0|                0|              0|           1|         0|         0|       0|\n",
            "|40a2cbde-946b-42d...|    2|     47.0|        1|      2|     0|       Usado| Apartamento|Residencial|   1|        Campo Grande|     380.0|   0.0|Venda|138000.0|       0|                 1|            1|                 1|       0|      1|         0|           1|                0|              1|           0|         0|         1|       0|\n",
            "|be269ddf-a4a3-4a7...|    0|     45.0|        1|      2|     0|       Usado| Apartamento|Residencial|   1|        Campo Grande|     356.0|   0.0|Venda|140000.0|       0|                 0|            1|                 1|       0|      1|         0|           0|                0|              0|           0|         0|         1|       0|\n",
            "|4b7e3d59-34fd-4ba...|    3|     48.0|        1|      2|     0|       Usado| Apartamento|Residencial|   1|        Campo Grande|       0.0|   0.0|Venda|150000.0|       0|                 1|            1|                 1|       0|      1|         1|           1|                1|              1|           0|         0|         1|       0|\n",
            "|a1a0c2ac-4fa8-4b0...|    9|     55.0|        1|      2|     0|       Usado| Apartamento|Residencial|   1|Freguesia (Jacare...|     780.0| 660.0|Venda|160000.0|       0|                 1|            1|                 1|       1|      0|         0|           1|                1|              1|           0|         0|         1|       0|\n",
            "|390d2b88-e06d-47e...|    0|     70.0|        2|      2|     0|       Usado| Apartamento|Residencial|   1|          Praça Seca|  420000.0|   0.0|Venda|159000.0|       0|                 0|            0|                 0|       0|      0|         0|           0|                0|              1|           0|         0|         1|       0|\n",
            "|07bb07c1-21cc-4da...|    2|     48.0|        1|      1|     0|       Usado| Apartamento|Residencial|   0|             Piedade|      10.0|  10.0|Venda|170000.0|       0|                 1|            0|                 1|       0|      0|         0|           0|                0|              0|           0|         1|         0|       0|\n",
            "|7d3a1bae-988c-44b...|    5|     40.0|        1|      2|     0|       Usado| Apartamento|Residencial|   1|        Braz de Pina|     150.0| 120.0|Venda|189000.0|       0|                 1|            1|                 1|       0|      0|         1|           1|                1|              1|           0|         1|         0|       0|\n",
            "|47af17f0-1c81-474...|    0|     65.0|        1|      2|     0|       Usado| Apartamento|Residencial|   1|            Campinho|     432.0|   0.0|Venda|185000.0|       0|                 0|            0|                 0|       0|      0|         0|           0|                0|              0|           0|         0|         1|       0|\n",
            "|a9bd1575-e9f2-43d...|    2|     50.0|        1|      1|     0|       Usado| Apartamento|Residencial|   1|           Madureira|     650.0|   1.0|Venda|185000.0|       0|                 1|            0|                 1|       0|      0|         0|           0|                1|              0|           0|         1|         0|       0|\n",
            "|cfca7253-3d02-4cd...|    5|     45.0|        1|      2|     1|       Usado| Apartamento|Residencial|   0|             Taquara|     150.0|  40.0|Venda|199000.0|       1|                 1|            1|                 1|       1|      0|         1|           1|                1|              1|           0|         0|         1|       0|\n",
            "|b571ae97-e3d8-4fb...|    0|     48.0|        1|      2|     0|       Usado| Apartamento|Residencial|   0|          Bonsucesso|       0.0|   0.0|Venda|205933.0|       1|                 1|            1|                 1|       1|      0|         0|           1|                1|              1|           0|         1|         0|       0|\n",
            "|eb5fdc65-acae-45f...|    0|     44.0|        1|      2|     0|       Usado| Apartamento|Residencial|   0|          Bonsucesso|       0.0|   0.0|Venda|206000.0|       1|                 1|            0|                 1|       1|      0|         1|           1|                1|              1|           0|         1|         0|       0|\n",
            "|77cd0388-e3ff-40c...|    2|     64.0|        1|      2|     0|       Usado| Apartamento|Residencial|   0|      Jardim América|       0.0|   0.0|Venda|220000.0|       0|                 0|            0|                 0|       0|      0|         0|           0|                0|              0|           0|         1|         0|       0|\n",
            "|74a91f07-7387-4a8...|    0|     55.0|        2|      1|     0|       Usado| Apartamento|Residencial|   1|        Engenho Novo|     600.0| 652.0|Venda|219130.0|       0|                 0|            0|                 0|       1|      0|         0|           0|                0|              1|           0|         1|         0|       0|\n",
            "|6aab1165-508d-455...|    3|     60.0|        1|      3|     0|       Usado| Apartamento|Residencial|   1|           Cascadura|      98.0|   1.0|Venda|230000.0|       0|                 1|            0|                 0|       0|      0|         0|           0|                0|              0|           0|         1|         0|       0|\n",
            "+--------------------+-----+---------+---------+-------+------+------------+------------+-----------+----+--------------------+----------+------+-----+--------+--------+------------------+-------------+------------------+--------+-------+----------+------------+-----------------+---------------+------------+----------+----------+--------+\n",
            "only showing top 20 rows\n",
            "\n"
          ]
        },
        {
          "output_type": "execute_result",
          "data": {
            "text/plain": [
              "66551"
            ]
          },
          "metadata": {},
          "execution_count": 26
        }
      ]
    },
    {
      "cell_type": "markdown",
      "source": [
        "#Salvando a base de dados em parquet"
      ],
      "metadata": {
        "id": "8pobyTBVxO_S"
      }
    },
    {
      "cell_type": "code",
      "source": [
        "dados.printSchema()"
      ],
      "metadata": {
        "colab": {
          "base_uri": "https://localhost:8080/"
        },
        "id": "Tu7rM0sx2igy",
        "outputId": "146cc769-dec6-4294-8600-663739b4d3c5"
      },
      "execution_count": 27,
      "outputs": [
        {
          "output_type": "stream",
          "name": "stdout",
          "text": [
            "root\n",
            " |-- id: string (nullable = true)\n",
            " |-- andar: integer (nullable = true)\n",
            " |-- area_util: double (nullable = false)\n",
            " |-- banheiros: integer (nullable = true)\n",
            " |-- quartos: integer (nullable = true)\n",
            " |-- suites: integer (nullable = true)\n",
            " |-- tipo_anuncio: string (nullable = true)\n",
            " |-- tipo_unidade: string (nullable = true)\n",
            " |-- tipo_uso: string (nullable = true)\n",
            " |-- vaga: long (nullable = true)\n",
            " |-- bairro: string (nullable = true)\n",
            " |-- condominio: double (nullable = false)\n",
            " |-- iptu: double (nullable = false)\n",
            " |-- tipo: string (nullable = true)\n",
            " |-- valor: double (nullable = false)\n",
            " |-- Academia: integer (nullable = true)\n",
            " |-- Animais permitidos: integer (nullable = true)\n",
            " |-- Churrasqueira: integer (nullable = true)\n",
            " |-- Condomínio fechado: integer (nullable = true)\n",
            " |-- Elevador: integer (nullable = true)\n",
            " |-- Piscina: integer (nullable = true)\n",
            " |-- Playground: integer (nullable = true)\n",
            " |-- Portaria 24h: integer (nullable = true)\n",
            " |-- Portão eletrônico: integer (nullable = true)\n",
            " |-- Salão de festas: integer (nullable = true)\n",
            " |-- Zona Central: integer (nullable = true)\n",
            " |-- Zona Norte: integer (nullable = true)\n",
            " |-- Zona Oeste: integer (nullable = true)\n",
            " |-- Zona Sul: integer (nullable = true)\n",
            "\n"
          ]
        }
      ]
    },
    {
      "cell_type": "code",
      "source": [
        "dados = dados.drop('tipo_anuncio', 'tipo_unidade', 'tipo_uso', 'tipo', 'bairro')"
      ],
      "metadata": {
        "id": "_cRd-RoSw_CH"
      },
      "execution_count": 28,
      "outputs": []
    },
    {
      "cell_type": "code",
      "source": [
        "from google.colab import drive\n",
        "drive.mount('/content/drive')"
      ],
      "metadata": {
        "colab": {
          "base_uri": "https://localhost:8080/"
        },
        "id": "rC3wDadWy7ht",
        "outputId": "3d494cd5-28dc-4006-a77a-8d713bb2d8b8"
      },
      "execution_count": 29,
      "outputs": [
        {
          "output_type": "stream",
          "name": "stdout",
          "text": [
            "Mounted at /content/drive\n"
          ]
        }
      ]
    },
    {
      "cell_type": "code",
      "source": [
        "dados.write.parquet(\n",
        "    path='/content/drive/MyDrive/Challenge_Data_Science_Alura/dados/dataset_parquet',\n",
        "    mode='overwrite',\n",
        ")"
      ],
      "metadata": {
        "id": "PO20YNm6wIZe"
      },
      "execution_count": 30,
      "outputs": []
    }
  ],
  "metadata": {
    "colab": {
      "provenance": []
    },
    "kernelspec": {
      "display_name": "Python 3",
      "name": "python3"
    },
    "language_info": {
      "name": "python"
    }
  },
  "nbformat": 4,
  "nbformat_minor": 0
}