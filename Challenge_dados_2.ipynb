{
  "cells": [
    {
      "cell_type": "markdown",
      "metadata": {
        "id": "JbUfzlaNkx4W"
      },
      "source": [
        "#Leitura dos dados"
      ]
    },
    {
      "cell_type": "code",
      "execution_count": 1,
      "metadata": {
        "colab": {
          "base_uri": "https://localhost:8080/"
        },
        "id": "B6zg0QGAEOLb",
        "outputId": "63debb8f-9598-4561-f478-ec07875d14ba"
      },
      "outputs": [
        {
          "output_type": "stream",
          "name": "stdout",
          "text": [
            "Looking in indexes: https://pypi.org/simple, https://us-python.pkg.dev/colab-wheels/public/simple/\n",
            "Collecting pyspark==3.3.1\n",
            "  Downloading pyspark-3.3.1.tar.gz (281.4 MB)\n",
            "\u001b[K     |████████████████████████████████| 281.4 MB 41 kB/s \n",
            "\u001b[?25hCollecting py4j==0.10.9.5\n",
            "  Downloading py4j-0.10.9.5-py2.py3-none-any.whl (199 kB)\n",
            "\u001b[K     |████████████████████████████████| 199 kB 66.6 MB/s \n",
            "\u001b[?25hBuilding wheels for collected packages: pyspark\n",
            "  Building wheel for pyspark (setup.py) ... \u001b[?25l\u001b[?25hdone\n",
            "  Created wheel for pyspark: filename=pyspark-3.3.1-py2.py3-none-any.whl size=281845512 sha256=3edc4d234cbd5086cefbeff7bd21d60f02e6b3b9ee210f58ecdf8f92775b68b5\n",
            "  Stored in directory: /root/.cache/pip/wheels/43/dc/11/ec201cd671da62fa9c5cc77078235e40722170ceba231d7598\n",
            "Successfully built pyspark\n",
            "Installing collected packages: py4j, pyspark\n",
            "Successfully installed py4j-0.10.9.5 pyspark-3.3.1\n"
          ]
        }
      ],
      "source": [
        "!pip install pyspark==3.3.1"
      ]
    },
    {
      "cell_type": "code",
      "execution_count": 2,
      "metadata": {
        "id": "bP4kGChvEZvb"
      },
      "outputs": [],
      "source": [
        "from pyspark.sql import SparkSession"
      ]
    },
    {
      "cell_type": "code",
      "execution_count": 3,
      "metadata": {
        "colab": {
          "base_uri": "https://localhost:8080/",
          "height": 219
        },
        "id": "ooT6GhBPEbJD",
        "outputId": "576ee62a-86ea-4a87-ebd4-2437e85ba639"
      },
      "outputs": [
        {
          "output_type": "execute_result",
          "data": {
            "text/plain": [
              "<pyspark.sql.session.SparkSession at 0x7f5d5da6fb80>"
            ],
            "text/html": [
              "\n",
              "            <div>\n",
              "                <p><b>SparkSession - in-memory</b></p>\n",
              "                \n",
              "        <div>\n",
              "            <p><b>SparkContext</b></p>\n",
              "\n",
              "            <p><a href=\"http://4dabd9e452c9:4040\">Spark UI</a></p>\n",
              "\n",
              "            <dl>\n",
              "              <dt>Version</dt>\n",
              "                <dd><code>v3.3.1</code></dd>\n",
              "              <dt>Master</dt>\n",
              "                <dd><code>local[*]</code></dd>\n",
              "              <dt>AppName</dt>\n",
              "                <dd><code>Transformacao com Spark</code></dd>\n",
              "            </dl>\n",
              "        </div>\n",
              "        \n",
              "            </div>\n",
              "        "
            ]
          },
          "metadata": {},
          "execution_count": 3
        }
      ],
      "source": [
        "spark = SparkSession.builder.master('local[*]').appName(\"Transformacao com Spark\").getOrCreate()\n",
        "\n",
        "spark"
      ]
    },
    {
      "cell_type": "code",
      "execution_count": 4,
      "metadata": {
        "colab": {
          "base_uri": "https://localhost:8080/"
        },
        "id": "fsGgnTuXEdDr",
        "outputId": "b7c146d8-2150-489c-bf50-cf13b6eac6ea"
      },
      "outputs": [
        {
          "output_type": "stream",
          "name": "stdout",
          "text": [
            "--2022-12-02 12:26:34--  https://caelum-online-public.s3.amazonaws.com/challenge-spark/semana-2.zip\n",
            "Resolving caelum-online-public.s3.amazonaws.com (caelum-online-public.s3.amazonaws.com)... 52.217.231.1, 54.231.139.145, 52.216.62.153, ...\n",
            "Connecting to caelum-online-public.s3.amazonaws.com (caelum-online-public.s3.amazonaws.com)|52.217.231.1|:443... connected.\n",
            "HTTP request sent, awaiting response... 200 OK\n",
            "Length: 2763652 (2.6M) [application/zip]\n",
            "Saving to: ‘semana-2.zip’\n",
            "\n",
            "semana-2.zip        100%[===================>]   2.63M  --.-KB/s    in 0.1s    \n",
            "\n",
            "2022-12-02 12:26:35 (19.2 MB/s) - ‘semana-2.zip’ saved [2763652/2763652]\n",
            "\n",
            "Archive:  semana-2.zip\n",
            "   creating: dados/dataset_transformado_parquet/\n",
            "  inflating: dados/dataset_transformado_parquet/_SUCCESS  \n",
            "  inflating: dados/dataset_transformado_parquet/._SUCCESS.crc  \n",
            "  inflating: dados/dataset_transformado_parquet/part-00000-00341ba7-0a7c-4fef-a81e-1066725a64b1-c000.snappy.parquet  \n",
            "  inflating: dados/dataset_transformado_parquet/.part-00000-00341ba7-0a7c-4fef-a81e-1066725a64b1-c000.snappy.parquet.crc  \n"
          ]
        }
      ],
      "source": [
        "!wget \"https://caelum-online-public.s3.amazonaws.com/challenge-spark/semana-2.zip\" && unzip semana-2.zip -d dados/"
      ]
    },
    {
      "cell_type": "code",
      "execution_count": 5,
      "metadata": {
        "id": "xqQ3-hUkFXTX"
      },
      "outputs": [],
      "source": [
        "dados = spark.read.parquet('/content/dados/dataset_transformado_parquet')"
      ]
    },
    {
      "cell_type": "code",
      "execution_count": 6,
      "metadata": {
        "id": "wXT88SNsFpY8",
        "colab": {
          "base_uri": "https://localhost:8080/"
        },
        "outputId": "2cc93194-07e7-4b53-ba74-3c88a6d91d0c"
      },
      "outputs": [
        {
          "output_type": "stream",
          "name": "stdout",
          "text": [
            "+------------------------------------+-----+----------+---------+---------+-----------------------------------------------------------------------------------------------------------------------------------------+-------+------+------------+------------+-----------+----+-----------------------+------------+----------+----+-----+------+\n",
            "|id                                  |andar|area_total|area_util|banheiros|caracteristicas                                                                                                                          |quartos|suites|tipo_anuncio|tipo_unidade|tipo_uso   |vaga|bairro                 |zona        |condominio|iptu|tipo |valor |\n",
            "+------------------------------------+-----+----------+---------+---------+-----------------------------------------------------------------------------------------------------------------------------------------+-------+------+------------+------------+-----------+----+-----------------------+------------+----------+----+-----+------+\n",
            "|03a386b6-7ab8-4eff-891d-f8a16efc1989|0    |43        |43       |1        |[Churrasqueira, Academia, Playground, Salão de festas, Condomínio fechado, Portão eletrônico, Portaria 24h, Animais permitidos]          |2      |null  |Usado       |Apartamento |Residencial|1   |Realengo               |Zona Oeste  |285       |null|Venda|22999 |\n",
            "|1fe78d41-b8e0-4d21-a1a8-72cb7863f441|0    |44        |44       |1        |[]                                                                                                                                       |2      |0     |Usado       |Apartamento |Residencial|0   |Irajá                  |Zona Norte  |170       |0   |Venda|110000|\n",
            "|1fa1c1e5-e98c-433f-9675-1b43d7d6da01|4    |null      |55       |1        |[]                                                                                                                                       |2      |0     |Usado       |Apartamento |Residencial|1   |Cosmos                 |Zona Oeste  |null      |null|Venda|115000|\n",
            "|a6ab01ae-3d40-40e7-bb6a-f2334e0abbe0|2    |null      |55       |1        |[]                                                                                                                                       |2      |0     |Usado       |Apartamento |Residencial|0   |Tomás Coelho           |Zona Norte  |null      |null|Venda|115000|\n",
            "|1d8ff7a2-16bd-4e3f-a92e-1b85f923ebb0|0    |null      |50       |1        |[]                                                                                                                                       |1      |null  |Usado       |Apartamento |Residencial|0   |Centro                 |Zona Central|1300      |2679|Venda|125000|\n",
            "|40a2cbde-946b-42da-b7f2-b80057c7a47f|2    |47        |47       |1        |[Condomínio fechado, Portaria 24h, Salão de festas, Churrasqueira, Piscina, Animais permitidos]                                          |2      |0     |Usado       |Apartamento |Residencial|1   |Campo Grande           |Zona Oeste  |380       |null|Venda|138000|\n",
            "|be269ddf-a4a3-4a72-bd54-93cdccf512dd|0    |17089     |45       |1        |[Churrasqueira, Condomínio fechado, Piscina]                                                                                             |2      |0     |Usado       |Apartamento |Residencial|1   |Campo Grande           |Zona Oeste  |356       |0   |Venda|140000|\n",
            "|4b7e3d59-34fd-4bac-9232-1015cb3b3a24|3    |48        |48       |1        |[Churrasqueira, Piscina, Playground, Salão de festas, Condomínio fechado, Portão eletrônico, Portaria 24h, Animais permitidos]           |2      |null  |Usado       |Apartamento |Residencial|1   |Campo Grande           |Zona Oeste  |0         |0   |Venda|150000|\n",
            "|a1a0c2ac-4fa8-4b02-a087-f9d76b6bccb7|9    |null      |55       |1        |[Churrasqueira, Elevador, Salão de festas, Condomínio fechado, Portão eletrônico, Portaria 24h, Animais permitidos]                      |2      |null  |Usado       |Apartamento |Residencial|1   |Freguesia (Jacarepaguá)|Zona Oeste  |780       |660 |Venda|160000|\n",
            "|390d2b88-e06d-47e5-ba7f-a680130ac5f0|0    |70        |70       |2        |[Salão de festas]                                                                                                                        |2      |0     |Usado       |Apartamento |Residencial|1   |Praça Seca             |Zona Oeste  |420000    |null|Venda|159000|\n",
            "|07bb07c1-21cc-4daa-99c4-e12b53da67d2|2    |50        |48       |1        |[Condomínio fechado, Animais permitidos]                                                                                                 |1      |0     |Usado       |Apartamento |Residencial|0   |Piedade                |Zona Norte  |10        |10  |Venda|170000|\n",
            "|7d3a1bae-988c-44b9-8e42-99267dda4245|5    |40        |40       |1        |[Playground, Churrasqueira, Salão de festas, Condomínio fechado, Portão eletrônico, Portaria 24h, Animais permitidos]                    |2      |0     |Usado       |Apartamento |Residencial|1   |Braz de Pina           |Zona Norte  |150       |120 |Venda|189000|\n",
            "|47af17f0-1c81-474c-b7ec-fefbe48954d0|0    |65        |65       |1        |[]                                                                                                                                       |2      |0     |Usado       |Apartamento |Residencial|1   |Campinho               |Zona Oeste  |432       |null|Venda|185000|\n",
            "|a9bd1575-e9f2-43d7-850c-c8d1385e6908|2    |50        |50       |1        |[Condomínio fechado, Portão eletrônico, Animais permitidos]                                                                              |1      |0     |Usado       |Apartamento |Residencial|1   |Madureira              |Zona Norte  |650       |1   |Venda|185000|\n",
            "|cfca7253-3d02-4cdc-99de-714ad1b4cc61|5    |45        |45       |1        |[Academia, Churrasqueira, Condomínio fechado, Elevador, Playground, Portão eletrônico, Portaria 24h, Salão de festas, Animais permitidos]|2      |1     |Usado       |Apartamento |Residencial|0   |Taquara                |Zona Oeste  |150       |40  |Venda|199000|\n",
            "|b571ae97-e3d8-4fbf-80b9-2c2c78fb02c1|0    |48        |48       |1        |[Academia, Condomínio fechado, Elevador, Portaria 24h, Salão de festas, Churrasqueira, Portão eletrônico, Animais permitidos]            |2      |null  |Usado       |Apartamento |Residencial|0   |Bonsucesso             |Zona Norte  |0         |0   |Venda|205933|\n",
            "|eb5fdc65-acae-45f8-9075-b5238b19bd9e|0    |44        |44       |1        |[Academia, Condomínio fechado, Elevador, Portaria 24h, Salão de festas, Playground, Portão eletrônico, Animais permitidos]               |2      |null  |Usado       |Apartamento |Residencial|0   |Bonsucesso             |Zona Norte  |0         |0   |Venda|206000|\n",
            "|77cd0388-e3ff-40c3-928c-f4d535049bff|2    |64        |64       |1        |[]                                                                                                                                       |2      |0     |Usado       |Apartamento |Residencial|0   |Jardim América         |Zona Norte  |0         |0   |Venda|220000|\n",
            "|74a91f07-7387-4a8e-bfbe-c8aec0bf645f|0    |55        |55       |2        |[Salão de festas, Elevador]                                                                                                              |1      |0     |Usado       |Apartamento |Residencial|1   |Engenho Novo           |Zona Norte  |600       |652 |Venda|219130|\n",
            "|6aab1165-508d-4554-b122-b61c178109de|3    |60        |60       |1        |[Animais permitidos]                                                                                                                     |3      |0     |Usado       |Apartamento |Residencial|1   |Cascadura              |Zona Norte  |98        |1   |Venda|230000|\n",
            "+------------------------------------+-----+----------+---------+---------+-----------------------------------------------------------------------------------------------------------------------------------------+-------+------+------------+------------+-----------+----+-----------------------+------------+----------+----+-----+------+\n",
            "only showing top 20 rows\n",
            "\n"
          ]
        }
      ],
      "source": [
        "dados.show(truncate=False)"
      ]
    },
    {
      "cell_type": "code",
      "execution_count": 7,
      "metadata": {
        "id": "DnVlaEsEgwK2",
        "colab": {
          "base_uri": "https://localhost:8080/"
        },
        "outputId": "43c98618-5151-4aab-d94e-99f857389bcd"
      },
      "outputs": [
        {
          "output_type": "stream",
          "name": "stdout",
          "text": [
            "root\n",
            " |-- id: string (nullable = true)\n",
            " |-- andar: long (nullable = true)\n",
            " |-- area_total: string (nullable = true)\n",
            " |-- area_util: string (nullable = true)\n",
            " |-- banheiros: long (nullable = true)\n",
            " |-- caracteristicas: array (nullable = true)\n",
            " |    |-- element: string (containsNull = true)\n",
            " |-- quartos: long (nullable = true)\n",
            " |-- suites: long (nullable = true)\n",
            " |-- tipo_anuncio: string (nullable = true)\n",
            " |-- tipo_unidade: string (nullable = true)\n",
            " |-- tipo_uso: string (nullable = true)\n",
            " |-- vaga: long (nullable = true)\n",
            " |-- bairro: string (nullable = true)\n",
            " |-- zona: string (nullable = true)\n",
            " |-- condominio: string (nullable = true)\n",
            " |-- iptu: string (nullable = true)\n",
            " |-- tipo: string (nullable = true)\n",
            " |-- valor: string (nullable = true)\n",
            "\n"
          ]
        }
      ],
      "source": [
        "dados.printSchema()"
      ]
    },
    {
      "cell_type": "markdown",
      "metadata": {
        "id": "yYOxbTRjk7Ta"
      },
      "source": [
        "#Analisando a diferença entre a quantidade da dados não nulos armazenados nas colunas 'area_util' e 'area_total'"
      ]
    },
    {
      "cell_type": "code",
      "execution_count": 8,
      "metadata": {
        "id": "SlhiOt24fTd_"
      },
      "outputs": [],
      "source": [
        "from pyspark.sql import functions as f"
      ]
    },
    {
      "cell_type": "code",
      "execution_count": 9,
      "metadata": {
        "id": "y9YYn7IvfFhD",
        "colab": {
          "base_uri": "https://localhost:8080/"
        },
        "outputId": "45663f45-a3db-44e3-be75-7251c9db1621"
      },
      "outputs": [
        {
          "output_type": "execute_result",
          "data": {
            "text/plain": [
              "57368"
            ]
          },
          "metadata": {},
          "execution_count": 9
        }
      ],
      "source": [
        "dados.select('area_total').where(f.col('area_total').isNotNull()).count()"
      ]
    },
    {
      "cell_type": "code",
      "execution_count": 10,
      "metadata": {
        "id": "t9TOH8dzkNZm",
        "colab": {
          "base_uri": "https://localhost:8080/"
        },
        "outputId": "8d4e755a-d918-4e54-8c52-357ba2ff2c19"
      },
      "outputs": [
        {
          "output_type": "execute_result",
          "data": {
            "text/plain": [
              "66562"
            ]
          },
          "metadata": {},
          "execution_count": 10
        }
      ],
      "source": [
        "dados.select('area_util').where(f.col('area_util').isNotNull()).count()"
      ]
    },
    {
      "cell_type": "code",
      "execution_count": 11,
      "metadata": {
        "id": "xyIULe70kTNY"
      },
      "outputs": [],
      "source": [
        "dados = dados.drop('area_total')"
      ]
    },
    {
      "cell_type": "code",
      "execution_count": 12,
      "metadata": {
        "id": "IswvlJvPkXvX",
        "colab": {
          "base_uri": "https://localhost:8080/"
        },
        "outputId": "eb55f28a-f336-4666-da45-da9d5bb44908"
      },
      "outputs": [
        {
          "output_type": "stream",
          "name": "stdout",
          "text": [
            "root\n",
            " |-- id: string (nullable = true)\n",
            " |-- andar: long (nullable = true)\n",
            " |-- area_util: string (nullable = true)\n",
            " |-- banheiros: long (nullable = true)\n",
            " |-- caracteristicas: array (nullable = true)\n",
            " |    |-- element: string (containsNull = true)\n",
            " |-- quartos: long (nullable = true)\n",
            " |-- suites: long (nullable = true)\n",
            " |-- tipo_anuncio: string (nullable = true)\n",
            " |-- tipo_unidade: string (nullable = true)\n",
            " |-- tipo_uso: string (nullable = true)\n",
            " |-- vaga: long (nullable = true)\n",
            " |-- bairro: string (nullable = true)\n",
            " |-- zona: string (nullable = true)\n",
            " |-- condominio: string (nullable = true)\n",
            " |-- iptu: string (nullable = true)\n",
            " |-- tipo: string (nullable = true)\n",
            " |-- valor: string (nullable = true)\n",
            "\n"
          ]
        }
      ],
      "source": [
        "dados.printSchema()"
      ]
    },
    {
      "cell_type": "markdown",
      "metadata": {
        "id": "2qEuo8GMEPbW"
      },
      "source": [
        "#Convertendo os tipos das colunas"
      ]
    },
    {
      "cell_type": "code",
      "execution_count": 13,
      "metadata": {
        "id": "X0NeM6csEVCH"
      },
      "outputs": [],
      "source": [
        "dados = dados.withColumn('area_util', dados.area_util.cast('double'))\n",
        "dados = dados.withColumn('iptu', dados.iptu.cast('double'))\n",
        "dados = dados.withColumn('valor', dados.valor.cast('double'))\n",
        "dados = dados.withColumn('condominio', dados.condominio.cast('double'))\n",
        "\n",
        "dados = dados.withColumn('andar', dados.andar.cast('integer'))\n",
        "dados = dados.withColumn('banheiros', dados.banheiros.cast('integer'))\n",
        "dados = dados.withColumn('quartos', dados.quartos.cast('integer'))\n",
        "dados = dados.withColumn('suites', dados.suites.cast('integer'))"
      ]
    },
    {
      "cell_type": "code",
      "execution_count": 14,
      "metadata": {
        "id": "--_F2-pVFnaY",
        "colab": {
          "base_uri": "https://localhost:8080/"
        },
        "outputId": "0e8a17ef-55e1-46f4-861a-b96ebf4b4ca7"
      },
      "outputs": [
        {
          "output_type": "stream",
          "name": "stdout",
          "text": [
            "root\n",
            " |-- id: string (nullable = true)\n",
            " |-- andar: integer (nullable = true)\n",
            " |-- area_util: double (nullable = true)\n",
            " |-- banheiros: integer (nullable = true)\n",
            " |-- caracteristicas: array (nullable = true)\n",
            " |    |-- element: string (containsNull = true)\n",
            " |-- quartos: integer (nullable = true)\n",
            " |-- suites: integer (nullable = true)\n",
            " |-- tipo_anuncio: string (nullable = true)\n",
            " |-- tipo_unidade: string (nullable = true)\n",
            " |-- tipo_uso: string (nullable = true)\n",
            " |-- vaga: long (nullable = true)\n",
            " |-- bairro: string (nullable = true)\n",
            " |-- zona: string (nullable = true)\n",
            " |-- condominio: double (nullable = true)\n",
            " |-- iptu: double (nullable = true)\n",
            " |-- tipo: string (nullable = true)\n",
            " |-- valor: double (nullable = true)\n",
            "\n"
          ]
        }
      ],
      "source": [
        "dados.printSchema()"
      ]
    },
    {
      "cell_type": "markdown",
      "metadata": {
        "id": "t0Q2-wdtIDsF"
      },
      "source": [
        "#Tratamento da coluna caracteristicas"
      ]
    },
    {
      "cell_type": "code",
      "source": [
        "caracteristicas = dados.select(dados.id,f.explode(dados.caracteristicas))\n",
        "caracteristicas.show()\n",
        "caracteristicas.groupBy('col').count().show()"
      ],
      "metadata": {
        "colab": {
          "base_uri": "https://localhost:8080/"
        },
        "id": "920xyVZJzCyV",
        "outputId": "00fcad35-c185-44b6-d004-ae6e7862cf81"
      },
      "execution_count": 19,
      "outputs": [
        {
          "output_type": "stream",
          "name": "stdout",
          "text": [
            "+--------------------+------------------+\n",
            "|                  id|               col|\n",
            "+--------------------+------------------+\n",
            "|03a386b6-7ab8-4ef...|     Churrasqueira|\n",
            "|03a386b6-7ab8-4ef...|          Academia|\n",
            "|03a386b6-7ab8-4ef...|        Playground|\n",
            "|03a386b6-7ab8-4ef...|   Salão de festas|\n",
            "|03a386b6-7ab8-4ef...|Condomínio fechado|\n",
            "|03a386b6-7ab8-4ef...| Portão eletrônico|\n",
            "|03a386b6-7ab8-4ef...|      Portaria 24h|\n",
            "|03a386b6-7ab8-4ef...|Animais permitidos|\n",
            "|40a2cbde-946b-42d...|Condomínio fechado|\n",
            "|40a2cbde-946b-42d...|      Portaria 24h|\n",
            "|40a2cbde-946b-42d...|   Salão de festas|\n",
            "|40a2cbde-946b-42d...|     Churrasqueira|\n",
            "|40a2cbde-946b-42d...|           Piscina|\n",
            "|40a2cbde-946b-42d...|Animais permitidos|\n",
            "|be269ddf-a4a3-4a7...|     Churrasqueira|\n",
            "|be269ddf-a4a3-4a7...|Condomínio fechado|\n",
            "|be269ddf-a4a3-4a7...|           Piscina|\n",
            "|4b7e3d59-34fd-4ba...|     Churrasqueira|\n",
            "|4b7e3d59-34fd-4ba...|           Piscina|\n",
            "|4b7e3d59-34fd-4ba...|        Playground|\n",
            "+--------------------+------------------+\n",
            "only showing top 20 rows\n",
            "\n",
            "+------------------+-----+\n",
            "|               col|count|\n",
            "+------------------+-----+\n",
            "|Condomínio fechado|34984|\n",
            "|        Playground|31856|\n",
            "| Portão eletrônico|29324|\n",
            "|           Piscina|33236|\n",
            "|Animais permitidos|30619|\n",
            "|      Portaria 24h|30361|\n",
            "|          Elevador|43027|\n",
            "|          Academia|27643|\n",
            "|   Salão de festas|33585|\n",
            "|     Churrasqueira|31739|\n",
            "+------------------+-----+\n",
            "\n"
          ]
        }
      ]
    },
    {
      "cell_type": "code",
      "source": [
        "caracteristicas = caracteristicas.groupBy('id').pivot('col').agg(f.lit(1)).na.fill(0)\n",
        "caracteristicas.show()"
      ],
      "metadata": {
        "colab": {
          "base_uri": "https://localhost:8080/"
        },
        "id": "jQIuQqPA01Cq",
        "outputId": "3ef3d10f-74c6-4a66-c566-4d514e9383b4"
      },
      "execution_count": 24,
      "outputs": [
        {
          "output_type": "stream",
          "name": "stdout",
          "text": [
            "+--------------------+--------+------------------+-------------+------------------+--------+-------+----------+------------+-----------------+---------------+\n",
            "|                  id|Academia|Animais permitidos|Churrasqueira|Condomínio fechado|Elevador|Piscina|Playground|Portaria 24h|Portão eletrônico|Salão de festas|\n",
            "+--------------------+--------+------------------+-------------+------------------+--------+-------+----------+------------+-----------------+---------------+\n",
            "|fd96bbd5-d631-416...|       1|                 1|            1|                 1|       1|      1|         1|           1|                1|              1|\n",
            "|bfffedfe-99e7-4ae...|       0|                 1|            1|                 1|       1|      0|         1|           0|                1|              1|\n",
            "|fcb67af3-5601-415...|       1|                 1|            1|                 0|       0|      1|         1|           0|                0|              1|\n",
            "|afecddff-f4cc-4ab...|       1|                 1|            1|                 1|       1|      1|         1|           1|                1|              1|\n",
            "|1bbc40f3-4f5c-459...|       1|                 0|            0|                 1|       1|      1|         1|           1|                1|              1|\n",
            "|fd26aeb2-a7b3-4f8...|       1|                 1|            1|                 1|       1|      1|         1|           1|                1|              1|\n",
            "|10e9d118-dbad-43c...|       0|                 1|            1|                 1|       0|      1|         1|           1|                1|              1|\n",
            "|ca1e84d7-86c8-4b1...|       1|                 0|            1|                 1|       1|      1|         1|           1|                1|              1|\n",
            "|d9e139a5-e85d-4e1...|       1|                 1|            1|                 1|       1|      1|         1|           1|                1|              1|\n",
            "|156a1fa5-37ca-43d...|       1|                 0|            1|                 1|       1|      1|         1|           1|                1|              1|\n",
            "|e7be09eb-6223-4b4...|       1|                 1|            1|                 1|       1|      1|         1|           1|                1|              1|\n",
            "|631efda0-5e10-422...|       1|                 1|            1|                 1|       1|      1|         1|           1|                1|              1|\n",
            "|07cbfef2-efbf-4e8...|       0|                 1|            0|                 0|       1|      0|         0|           1|                0|              0|\n",
            "|62baf185-103d-448...|       1|                 0|            1|                 1|       0|      1|         1|           0|                0|              0|\n",
            "|3030d17c-5681-4b2...|       1|                 1|            1|                 1|       1|      1|         0|           1|                1|              1|\n",
            "|6179c8a4-1fd2-4f5...|       1|                 1|            0|                 1|       1|      1|         1|           1|                1|              1|\n",
            "|c284072a-7298-4e5...|       1|                 1|            1|                 1|       1|      1|         1|           1|                1|              1|\n",
            "|7e43514c-3b40-4fb...|       1|                 1|            1|                 1|       1|      1|         1|           1|                1|              1|\n",
            "|6a4ce9ac-1eb0-4d4...|       1|                 0|            1|                 0|       1|      1|         1|           0|                0|              1|\n",
            "|bdc6127a-1d97-41b...|       1|                 0|            1|                 0|       0|      0|         0|           0|                0|              1|\n",
            "+--------------------+--------+------------------+-------------+------------------+--------+-------+----------+------------+-----------------+---------------+\n",
            "only showing top 20 rows\n",
            "\n"
          ]
        }
      ]
    },
    {
      "cell_type": "code",
      "source": [
        "dados = dados.join(caracteristicas, 'id', how='inner').drop('caracteristicas')\n",
        "dados.show()"
      ],
      "metadata": {
        "colab": {
          "base_uri": "https://localhost:8080/"
        },
        "id": "j-FxV5pD39qG",
        "outputId": "9a49f03a-415b-4139-ff9d-27e8d6569bbd"
      },
      "execution_count": 27,
      "outputs": [
        {
          "output_type": "stream",
          "name": "stdout",
          "text": [
            "+--------------------+-----+---------+---------+-------+------+------------+------------+-----------+----+--------------------+------------+----------+-------+-----+---------+--------+------------------+-------------+------------------+--------+-------+----------+------------+-----------------+---------------+\n",
            "|                  id|andar|area_util|banheiros|quartos|suites|tipo_anuncio|tipo_unidade|   tipo_uso|vaga|              bairro|        zona|condominio|   iptu| tipo|    valor|Academia|Animais permitidos|Churrasqueira|Condomínio fechado|Elevador|Piscina|Playground|Portaria 24h|Portão eletrônico|Salão de festas|\n",
            "+--------------------+-----+---------+---------+-------+------+------------+------------+-----------+----+--------------------+------------+----------+-------+-----+---------+--------+------------------+-------------+------------------+--------+-------+----------+------------+-----------------+---------------+\n",
            "|fd96bbd5-d631-416...|    0|     48.0|        1|      2|     1|       Usado| Apartamento|Residencial|   1|             Camorim|  Zona Oeste|       1.0|    1.0|Venda| 315000.0|       1|                 1|            1|                 1|       1|      1|         1|           1|                1|              1|\n",
            "|bfffedfe-99e7-4ae...|    3|     60.0|        2|      2|     0|       Usado| Apartamento|Residencial|   1|         Vila Isabel|  Zona Norte|    1000.0|  700.0|Venda| 440000.0|       0|                 1|            1|                 1|       1|      0|         1|           0|                1|              1|\n",
            "|fcb67af3-5601-415...|    0|     69.0|        2|      2|     1|       Usado| Apartamento|Residencial|   2|Recreio dos Bande...|  Zona Oeste|    1030.0| 2130.0|Venda| 629000.0|       1|                 1|            1|                 0|       0|      1|         1|           0|                0|              1|\n",
            "|afecddff-f4cc-4ab...|    4|     85.0|        2|      2|     1|       Usado| Apartamento|Residencial|   1|            Botafogo|    Zona Sul|     957.0| 2900.0|Venda|1100000.0|       1|                 1|            1|                 1|       1|      1|         1|           1|                1|              1|\n",
            "|1bbc40f3-4f5c-459...|    6|    328.0|        4|      4|     4|       Usado| Apartamento|Residencial|   3|          Copacabana|    Zona Sul|       0.0|    0.0|Venda| 1.0302E7|       1|                 0|            0|                 1|       1|      1|         1|           1|                1|              1|\n",
            "|fd26aeb2-a7b3-4f8...|    8|     54.0|        2|      2|     1|       Usado| Apartamento|Residencial|null|        Santo Cristo|Zona Central|     350.0|  105.0|Venda| 340000.0|       1|                 1|            1|                 1|       1|      1|         1|           1|                1|              1|\n",
            "|10e9d118-dbad-43c...|    0|     56.0|        2|      2|     1|       Usado| Apartamento|Residencial|   1|     Marechal Hermes|  Zona Norte|       0.0|    0.0|Venda| 359000.0|       0|                 1|            1|                 1|       0|      1|         1|           1|                1|              1|\n",
            "|ca1e84d7-86c8-4b1...|    0|     55.0|        2|      2|     1|       Usado| Apartamento|Residencial|   1|        Del Castilho|  Zona Norte|     400.0|    1.0|Venda| 376000.0|       1|                 0|            1|                 1|       1|      1|         1|           1|                1|              1|\n",
            "|d9e139a5-e85d-4e1...|    1|     55.0|        2|      3|     1|       Usado| Apartamento|Residencial|   1|     Barra da Tijuca|  Zona Oeste|       1.0|    1.0|Venda| 400100.0|       1|                 1|            1|                 1|       1|      1|         1|           1|                1|              1|\n",
            "|156a1fa5-37ca-43d...|    2|     74.0|        2|      2|     1|       Usado| Apartamento|Residencial|   2|Recreio dos Bande...|  Zona Oeste|     790.0| 1400.0|Venda| 700000.0|       1|                 0|            1|                 1|       1|      1|         1|           1|                1|              1|\n",
            "|e7be09eb-6223-4b4...|    9|     87.0|        2|      3|     1|       Usado| Apartamento|Residencial|   1|         Jacarepaguá|  Zona Oeste|    1722.0| 2190.0|Venda| 733700.0|       1|                 1|            1|                 1|       1|      1|         1|           1|                1|              1|\n",
            "|631efda0-5e10-422...|    0|     80.0|        1|      1|     1|       Usado| Apartamento|Residencial|   1|     Barra da Tijuca|  Zona Oeste|    1200.0|  235.0|Venda| 895000.0|       1|                 1|            1|                 1|       1|      1|         1|           1|                1|              1|\n",
            "|07cbfef2-efbf-4e8...|    1|    120.0|        2|      3|     0|       Usado| Apartamento|Residencial|   0|          Copacabana|    Zona Sul|     950.0|  270.0|Venda| 950000.0|       0|                 1|            0|                 0|       1|      0|         0|           1|                0|              0|\n",
            "|62baf185-103d-448...|    0|    100.0|        2|      2|     1|       Usado| Apartamento|Residencial|   1|     Barra da Tijuca|  Zona Oeste|    2000.0|  290.0|Venda|1000000.0|       1|                 0|            1|                 1|       0|      1|         1|           0|                0|              0|\n",
            "|3030d17c-5681-4b2...|    2|     97.0|        2|      2|     2|       Usado| Apartamento|Residencial|   1|            Botafogo|    Zona Sul|    1260.0| 1500.0|Venda|1200000.0|       1|                 1|            1|                 1|       1|      1|         0|           1|                1|              1|\n",
            "|6179c8a4-1fd2-4f5...|    0|    356.0|        8|      4|     4|       Usado| Apartamento|Residencial|   3|     Barra da Tijuca|  Zona Oeste|    4400.0|10000.0|Venda|2700000.0|       1|                 1|            0|                 1|       1|      1|         1|           1|                1|              1|\n",
            "|c284072a-7298-4e5...|    5|     55.0|        2|      2|     1|       Usado| Apartamento|Residencial|   1|                Anil|  Zona Oeste|     460.0|  500.0|Venda| 320000.0|       1|                 1|            1|                 1|       1|      1|         1|           1|                1|              1|\n",
            "|7e43514c-3b40-4fb...|    6|    113.0|        3|      3|     2|       Usado| Apartamento|Residencial|   2|           Pechincha|  Zona Oeste|     700.0|  150.0|Venda| 620000.0|       1|                 1|            1|                 1|       1|      1|         1|           1|                1|              1|\n",
            "|6a4ce9ac-1eb0-4d4...|    0|     75.0|        2|      3|     1|       Usado| Apartamento|Residencial|   1|              Tijuca|  Zona Norte|      null|   null|Venda| 740900.0|       1|                 0|            1|                 0|       1|      1|         1|           0|                0|              1|\n",
            "|bdc6127a-1d97-41b...|    0|    126.0|        3|      2|     1|       Usado| Apartamento|Residencial|   2|             Andaraí|  Zona Norte|    1640.0| 2583.0|Venda| 795000.0|       1|                 0|            1|                 0|       0|      0|         0|           0|                0|              1|\n",
            "+--------------------+-----+---------+---------+-------+------+------------+------------+-----------+----+--------------------+------------+----------+-------+-----+---------+--------+------------------+-------------+------------------+--------+-------+----------+------------+-----------------+---------------+\n",
            "only showing top 20 rows\n",
            "\n"
          ]
        }
      ]
    },
    {
      "cell_type": "code",
      "source": [],
      "metadata": {
        "id": "PD7BrnQY2FSZ"
      },
      "execution_count": null,
      "outputs": []
    }
  ],
  "metadata": {
    "colab": {
      "provenance": []
    },
    "kernelspec": {
      "display_name": "Python 3",
      "name": "python3"
    },
    "language_info": {
      "name": "python"
    }
  },
  "nbformat": 4,
  "nbformat_minor": 0
}