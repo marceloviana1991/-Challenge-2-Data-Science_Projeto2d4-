{
  "nbformat": 4,
  "nbformat_minor": 0,
  "metadata": {
    "colab": {
      "provenance": [],
      "collapsed_sections": [
        "id6reo_KYRDa",
        "qusti4m4YK8l",
        "A3X9fU0OhZwW",
        "jWVmyO35jl_T"
      ]
    },
    "kernelspec": {
      "name": "python3",
      "display_name": "Python 3"
    },
    "language_info": {
      "name": "python"
    }
  },
  "cells": [
    {
      "cell_type": "markdown",
      "source": [
        "#Fazendo leitura dos dados"
      ],
      "metadata": {
        "id": "id6reo_KYRDa"
      }
    },
    {
      "cell_type": "code",
      "source": [
        "!pip install pyspark==3.3.1"
      ],
      "metadata": {
        "colab": {
          "base_uri": "https://localhost:8080/"
        },
        "id": "OZmVaesUzuJv",
        "outputId": "aaf9037b-d949-433d-8d47-a1a173cd2082"
      },
      "execution_count": 1,
      "outputs": [
        {
          "output_type": "stream",
          "name": "stdout",
          "text": [
            "Looking in indexes: https://pypi.org/simple, https://us-python.pkg.dev/colab-wheels/public/simple/\n",
            "Collecting pyspark==3.3.1\n",
            "  Downloading pyspark-3.3.1.tar.gz (281.4 MB)\n",
            "\u001b[K     |████████████████████████████████| 281.4 MB 36 kB/s \n",
            "\u001b[?25hCollecting py4j==0.10.9.5\n",
            "  Downloading py4j-0.10.9.5-py2.py3-none-any.whl (199 kB)\n",
            "\u001b[K     |████████████████████████████████| 199 kB 43.0 MB/s \n",
            "\u001b[?25hBuilding wheels for collected packages: pyspark\n",
            "  Building wheel for pyspark (setup.py) ... \u001b[?25l\u001b[?25hdone\n",
            "  Created wheel for pyspark: filename=pyspark-3.3.1-py2.py3-none-any.whl size=281845512 sha256=60540522ad2173aa85a919b1a2584d20b8ad88dfcb2e3f903ec1c09c3eb0359c\n",
            "  Stored in directory: /root/.cache/pip/wheels/43/dc/11/ec201cd671da62fa9c5cc77078235e40722170ceba231d7598\n",
            "Successfully built pyspark\n",
            "Installing collected packages: py4j, pyspark\n",
            "Successfully installed py4j-0.10.9.5 pyspark-3.3.1\n"
          ]
        }
      ]
    },
    {
      "cell_type": "code",
      "source": [
        "from pyspark.sql import SparkSession"
      ],
      "metadata": {
        "id": "Ch8N8wRezyLb"
      },
      "execution_count": 2,
      "outputs": []
    },
    {
      "cell_type": "code",
      "source": [
        "spark = SparkSession.builder.master('local[*]').appName(\"Transformacao com Spark\").getOrCreate()\n",
        "\n",
        "spark"
      ],
      "metadata": {
        "colab": {
          "base_uri": "https://localhost:8080/",
          "height": 219
        },
        "id": "0IuMlyXizyoR",
        "outputId": "528e3def-bc93-4e42-ce27-a8c7d2b17cbc"
      },
      "execution_count": 3,
      "outputs": [
        {
          "output_type": "execute_result",
          "data": {
            "text/plain": [
              "<pyspark.sql.session.SparkSession at 0x7f4cb8e00040>"
            ],
            "text/html": [
              "\n",
              "            <div>\n",
              "                <p><b>SparkSession - in-memory</b></p>\n",
              "                \n",
              "        <div>\n",
              "            <p><b>SparkContext</b></p>\n",
              "\n",
              "            <p><a href=\"http://a396702e4ecd:4040\">Spark UI</a></p>\n",
              "\n",
              "            <dl>\n",
              "              <dt>Version</dt>\n",
              "                <dd><code>v3.3.1</code></dd>\n",
              "              <dt>Master</dt>\n",
              "                <dd><code>local[*]</code></dd>\n",
              "              <dt>AppName</dt>\n",
              "                <dd><code>Transformacao com Spark</code></dd>\n",
              "            </dl>\n",
              "        </div>\n",
              "        \n",
              "            </div>\n",
              "        "
            ]
          },
          "metadata": {},
          "execution_count": 3
        }
      ]
    },
    {
      "cell_type": "code",
      "execution_count": 4,
      "metadata": {
        "colab": {
          "base_uri": "https://localhost:8080/"
        },
        "id": "lMZNVf7byNT0",
        "outputId": "9474934b-b652-4f07-f7b0-ca1645c2615c"
      },
      "outputs": [
        {
          "output_type": "stream",
          "name": "stdout",
          "text": [
            "Mounted at /content/drive\n"
          ]
        }
      ],
      "source": [
        "from google.colab import drive\n",
        "drive.mount('/content/drive')"
      ]
    },
    {
      "cell_type": "code",
      "source": [
        "dados = spark.read.parquet('/content/drive/MyDrive/Challenge_Data_Science_Alura/dados/dataset_parquet')"
      ],
      "metadata": {
        "id": "LxeLmipXz3ZK"
      },
      "execution_count": 5,
      "outputs": []
    },
    {
      "cell_type": "code",
      "source": [
        "dados.show()"
      ],
      "metadata": {
        "colab": {
          "base_uri": "https://localhost:8080/"
        },
        "id": "WQpmRwhiz8Od",
        "outputId": "a1f7965b-e712-4b89-f4f7-ffd50d2b5e1c"
      },
      "execution_count": 6,
      "outputs": [
        {
          "output_type": "stream",
          "name": "stdout",
          "text": [
            "+--------------------+-----+---------+---------+-------+------+----+----------+------+--------+--------+------------------+-------------+------------------+--------+-------+----------+------------+-----------------+---------------+------------+----------+----------+--------+\n",
            "|                  id|andar|area_util|banheiros|quartos|suites|vaga|condominio|  iptu|   valor|Academia|Animais permitidos|Churrasqueira|Condomínio fechado|Elevador|Piscina|Playground|Portaria 24h|Portão eletrônico|Salão de festas|Zona Central|Zona Norte|Zona Oeste|Zona Sul|\n",
            "+--------------------+-----+---------+---------+-------+------+----+----------+------+--------+--------+------------------+-------------+------------------+--------+-------+----------+------------+-----------------+---------------+------------+----------+----------+--------+\n",
            "|03a386b6-7ab8-4ef...|    0|     43.0|        1|      2|     0|   1|     285.0|   0.0| 22999.0|       1|                 1|            1|                 1|       0|      0|         1|           1|                1|              1|           0|         0|         1|       0|\n",
            "|1fe78d41-b8e0-4d2...|    0|     44.0|        1|      2|     0|   0|     170.0|   0.0|110000.0|       0|                 0|            0|                 0|       0|      0|         0|           0|                0|              0|           0|         1|         0|       0|\n",
            "|1fa1c1e5-e98c-433...|    4|     55.0|        1|      2|     0|   1|       0.0|   0.0|115000.0|       0|                 0|            0|                 0|       0|      0|         0|           0|                0|              0|           0|         0|         1|       0|\n",
            "|a6ab01ae-3d40-40e...|    2|     55.0|        1|      2|     0|   0|       0.0|   0.0|115000.0|       0|                 0|            0|                 0|       0|      0|         0|           0|                0|              0|           0|         1|         0|       0|\n",
            "|1d8ff7a2-16bd-4e3...|    0|     50.0|        1|      1|     0|   0|    1300.0|2679.0|125000.0|       0|                 0|            0|                 0|       0|      0|         0|           0|                0|              0|           1|         0|         0|       0|\n",
            "|40a2cbde-946b-42d...|    2|     47.0|        1|      2|     0|   1|     380.0|   0.0|138000.0|       0|                 1|            1|                 1|       0|      1|         0|           1|                0|              1|           0|         0|         1|       0|\n",
            "|be269ddf-a4a3-4a7...|    0|     45.0|        1|      2|     0|   1|     356.0|   0.0|140000.0|       0|                 0|            1|                 1|       0|      1|         0|           0|                0|              0|           0|         0|         1|       0|\n",
            "|4b7e3d59-34fd-4ba...|    3|     48.0|        1|      2|     0|   1|       0.0|   0.0|150000.0|       0|                 1|            1|                 1|       0|      1|         1|           1|                1|              1|           0|         0|         1|       0|\n",
            "|a1a0c2ac-4fa8-4b0...|    9|     55.0|        1|      2|     0|   1|     780.0| 660.0|160000.0|       0|                 1|            1|                 1|       1|      0|         0|           1|                1|              1|           0|         0|         1|       0|\n",
            "|390d2b88-e06d-47e...|    0|     70.0|        2|      2|     0|   1|  420000.0|   0.0|159000.0|       0|                 0|            0|                 0|       0|      0|         0|           0|                0|              1|           0|         0|         1|       0|\n",
            "|07bb07c1-21cc-4da...|    2|     48.0|        1|      1|     0|   0|      10.0|  10.0|170000.0|       0|                 1|            0|                 1|       0|      0|         0|           0|                0|              0|           0|         1|         0|       0|\n",
            "|7d3a1bae-988c-44b...|    5|     40.0|        1|      2|     0|   1|     150.0| 120.0|189000.0|       0|                 1|            1|                 1|       0|      0|         1|           1|                1|              1|           0|         1|         0|       0|\n",
            "|47af17f0-1c81-474...|    0|     65.0|        1|      2|     0|   1|     432.0|   0.0|185000.0|       0|                 0|            0|                 0|       0|      0|         0|           0|                0|              0|           0|         0|         1|       0|\n",
            "|a9bd1575-e9f2-43d...|    2|     50.0|        1|      1|     0|   1|     650.0|   1.0|185000.0|       0|                 1|            0|                 1|       0|      0|         0|           0|                1|              0|           0|         1|         0|       0|\n",
            "|cfca7253-3d02-4cd...|    5|     45.0|        1|      2|     1|   0|     150.0|  40.0|199000.0|       1|                 1|            1|                 1|       1|      0|         1|           1|                1|              1|           0|         0|         1|       0|\n",
            "|b571ae97-e3d8-4fb...|    0|     48.0|        1|      2|     0|   0|       0.0|   0.0|205933.0|       1|                 1|            1|                 1|       1|      0|         0|           1|                1|              1|           0|         1|         0|       0|\n",
            "|eb5fdc65-acae-45f...|    0|     44.0|        1|      2|     0|   0|       0.0|   0.0|206000.0|       1|                 1|            0|                 1|       1|      0|         1|           1|                1|              1|           0|         1|         0|       0|\n",
            "|77cd0388-e3ff-40c...|    2|     64.0|        1|      2|     0|   0|       0.0|   0.0|220000.0|       0|                 0|            0|                 0|       0|      0|         0|           0|                0|              0|           0|         1|         0|       0|\n",
            "|74a91f07-7387-4a8...|    0|     55.0|        2|      1|     0|   1|     600.0| 652.0|219130.0|       0|                 0|            0|                 0|       1|      0|         0|           0|                0|              1|           0|         1|         0|       0|\n",
            "|6aab1165-508d-455...|    3|     60.0|        1|      3|     0|   1|      98.0|   1.0|230000.0|       0|                 1|            0|                 0|       0|      0|         0|           0|                0|              0|           0|         1|         0|       0|\n",
            "+--------------------+-----+---------+---------+-------+------+----+----------+------+--------+--------+------------------+-------------+------------------+--------+-------+----------+------------+-----------------+---------------+------------+----------+----------+--------+\n",
            "only showing top 20 rows\n",
            "\n"
          ]
        }
      ]
    },
    {
      "cell_type": "markdown",
      "source": [
        "#Preparação dos dados para os algoritmos do Spark MLlib"
      ],
      "metadata": {
        "id": "qusti4m4YK8l"
      }
    },
    {
      "cell_type": "code",
      "source": [
        "from pyspark.ml.feature import VectorAssembler"
      ],
      "metadata": {
        "id": "shUQgk9sYQGT"
      },
      "execution_count": 7,
      "outputs": []
    },
    {
      "cell_type": "code",
      "source": [
        "dados = dados.withColumnRenamed('valor','label')"
      ],
      "metadata": {
        "id": "gj4n9ESUZNoH"
      },
      "execution_count": 8,
      "outputs": []
    },
    {
      "cell_type": "code",
      "source": [
        "X = []\n",
        "for i in dados.columns:\n",
        "  if i != 'id' and i != 'valor':\n",
        "    X.append(i)\n",
        "X"
      ],
      "metadata": {
        "colab": {
          "base_uri": "https://localhost:8080/"
        },
        "id": "Wrl5igmBZ5v_",
        "outputId": "fc738c90-0933-411b-9cc5-d34fe0c43688"
      },
      "execution_count": 9,
      "outputs": [
        {
          "output_type": "execute_result",
          "data": {
            "text/plain": [
              "['andar',\n",
              " 'area_util',\n",
              " 'banheiros',\n",
              " 'quartos',\n",
              " 'suites',\n",
              " 'vaga',\n",
              " 'condominio',\n",
              " 'iptu',\n",
              " 'label',\n",
              " 'Academia',\n",
              " 'Animais permitidos',\n",
              " 'Churrasqueira',\n",
              " 'Condomínio fechado',\n",
              " 'Elevador',\n",
              " 'Piscina',\n",
              " 'Playground',\n",
              " 'Portaria 24h',\n",
              " 'Portão eletrônico',\n",
              " 'Salão de festas',\n",
              " 'Zona Central',\n",
              " 'Zona Norte',\n",
              " 'Zona Oeste',\n",
              " 'Zona Sul']"
            ]
          },
          "metadata": {},
          "execution_count": 9
        }
      ]
    },
    {
      "cell_type": "code",
      "source": [
        "assembler = VectorAssembler(inputCols = X, outputCol = 'features')"
      ],
      "metadata": {
        "id": "n1NtxVYrdJhN"
      },
      "execution_count": 10,
      "outputs": []
    },
    {
      "cell_type": "code",
      "source": [
        "dados_vetorizado = assembler.transform(dados).select('features', 'label')"
      ],
      "metadata": {
        "id": "LooOG_Z8dQTz"
      },
      "execution_count": 11,
      "outputs": []
    },
    {
      "cell_type": "code",
      "source": [
        "dados_vetorizado.show(truncate=False)"
      ],
      "metadata": {
        "colab": {
          "base_uri": "https://localhost:8080/"
        },
        "id": "yjsD8_H7eROq",
        "outputId": "e65144f1-9688-427f-c096-c8a2358b36ee"
      },
      "execution_count": 14,
      "outputs": [
        {
          "output_type": "stream",
          "name": "stdout",
          "text": [
            "+-----------------------------------------------------------------------------------------------------------+--------+\n",
            "|features                                                                                                   |label   |\n",
            "+-----------------------------------------------------------------------------------------------------------+--------+\n",
            "|[0.0,43.0,1.0,2.0,0.0,1.0,285.0,0.0,22999.0,1.0,1.0,1.0,1.0,0.0,0.0,1.0,1.0,1.0,1.0,0.0,0.0,1.0,0.0]       |22999.0 |\n",
            "|(23,[1,2,3,6,8,20],[44.0,1.0,2.0,170.0,110000.0,1.0])                                                      |110000.0|\n",
            "|(23,[0,1,2,3,5,8,21],[4.0,55.0,1.0,2.0,1.0,115000.0,1.0])                                                  |115000.0|\n",
            "|(23,[0,1,2,3,8,20],[2.0,55.0,1.0,2.0,115000.0,1.0])                                                        |115000.0|\n",
            "|(23,[1,2,3,6,7,8,19],[50.0,1.0,1.0,1300.0,2679.0,125000.0,1.0])                                            |125000.0|\n",
            "|(23,[0,1,2,3,5,6,8,10,11,12,14,16,18,21],[2.0,47.0,1.0,2.0,1.0,380.0,138000.0,1.0,1.0,1.0,1.0,1.0,1.0,1.0])|138000.0|\n",
            "|(23,[1,2,3,5,6,8,11,12,14,21],[45.0,1.0,2.0,1.0,356.0,140000.0,1.0,1.0,1.0,1.0])                           |140000.0|\n",
            "|[3.0,48.0,1.0,2.0,0.0,1.0,0.0,0.0,150000.0,0.0,1.0,1.0,1.0,0.0,1.0,1.0,1.0,1.0,1.0,0.0,0.0,1.0,0.0]        |150000.0|\n",
            "|[9.0,55.0,1.0,2.0,0.0,1.0,780.0,660.0,160000.0,0.0,1.0,1.0,1.0,1.0,0.0,0.0,1.0,1.0,1.0,0.0,0.0,1.0,0.0]    |160000.0|\n",
            "|(23,[1,2,3,5,6,8,18,21],[70.0,2.0,2.0,1.0,420000.0,159000.0,1.0,1.0])                                      |159000.0|\n",
            "|(23,[0,1,2,3,6,7,8,10,12,20],[2.0,48.0,1.0,1.0,10.0,10.0,170000.0,1.0,1.0,1.0])                            |170000.0|\n",
            "|[5.0,40.0,1.0,2.0,0.0,1.0,150.0,120.0,189000.0,0.0,1.0,1.0,1.0,0.0,0.0,1.0,1.0,1.0,1.0,0.0,1.0,0.0,0.0]    |189000.0|\n",
            "|(23,[1,2,3,5,6,8,21],[65.0,1.0,2.0,1.0,432.0,185000.0,1.0])                                                |185000.0|\n",
            "|(23,[0,1,2,3,5,6,7,8,10,12,17,20],[2.0,50.0,1.0,1.0,1.0,650.0,1.0,185000.0,1.0,1.0,1.0,1.0])               |185000.0|\n",
            "|[5.0,45.0,1.0,2.0,1.0,0.0,150.0,40.0,199000.0,1.0,1.0,1.0,1.0,1.0,0.0,1.0,1.0,1.0,1.0,0.0,0.0,1.0,0.0]     |199000.0|\n",
            "|(23,[1,2,3,8,9,10,11,12,13,16,17,18,20],[48.0,1.0,2.0,205933.0,1.0,1.0,1.0,1.0,1.0,1.0,1.0,1.0,1.0])       |205933.0|\n",
            "|(23,[1,2,3,8,9,10,12,13,15,16,17,18,20],[44.0,1.0,2.0,206000.0,1.0,1.0,1.0,1.0,1.0,1.0,1.0,1.0,1.0])       |206000.0|\n",
            "|(23,[0,1,2,3,8,20],[2.0,64.0,1.0,2.0,220000.0,1.0])                                                        |220000.0|\n",
            "|(23,[1,2,3,5,6,7,8,13,18,20],[55.0,2.0,1.0,1.0,600.0,652.0,219130.0,1.0,1.0,1.0])                          |219130.0|\n",
            "|(23,[0,1,2,3,5,6,7,8,10,20],[3.0,60.0,1.0,3.0,1.0,98.0,1.0,230000.0,1.0,1.0])                              |230000.0|\n",
            "+-----------------------------------------------------------------------------------------------------------+--------+\n",
            "only showing top 20 rows\n",
            "\n"
          ]
        }
      ]
    },
    {
      "cell_type": "markdown",
      "source": [
        "#Criação dos modelos de regressão"
      ],
      "metadata": {
        "id": "A3X9fU0OhZwW"
      }
    },
    {
      "cell_type": "code",
      "source": [
        "from pyspark.ml.regression import LinearRegression"
      ],
      "metadata": {
        "id": "osSpLnP5hcOj"
      },
      "execution_count": 15,
      "outputs": []
    },
    {
      "cell_type": "code",
      "source": [
        "treino, teste = dados_vetorizado.randomSplit([0.7, 0.3], seed=101) # é interessante definir uma seed de aleatoriedade para fazer comparação com resultados de outros testes"
      ],
      "metadata": {
        "id": "ClryC2uRhgPC"
      },
      "execution_count": 16,
      "outputs": []
    },
    {
      "cell_type": "code",
      "source": [
        "treino.count() "
      ],
      "metadata": {
        "colab": {
          "base_uri": "https://localhost:8080/"
        },
        "id": "qZNofiz4ik05",
        "outputId": "0e66df59-8b10-4584-b9a0-a3f4fe18c927"
      },
      "execution_count": 17,
      "outputs": [
        {
          "output_type": "execute_result",
          "data": {
            "text/plain": [
              "46503"
            ]
          },
          "metadata": {},
          "execution_count": 17
        }
      ]
    },
    {
      "cell_type": "code",
      "source": [
        "teste.count()"
      ],
      "metadata": {
        "colab": {
          "base_uri": "https://localhost:8080/"
        },
        "id": "Ds_zz2FSildq",
        "outputId": "f02c627f-8887-418e-f8f9-c5d37b7b0a9e"
      },
      "execution_count": 18,
      "outputs": [
        {
          "output_type": "execute_result",
          "data": {
            "text/plain": [
              "20048"
            ]
          },
          "metadata": {},
          "execution_count": 18
        }
      ]
    },
    {
      "cell_type": "code",
      "source": [
        "lr = LinearRegression()"
      ],
      "metadata": {
        "id": "pGEbDClSiqvC"
      },
      "execution_count": 19,
      "outputs": []
    },
    {
      "cell_type": "code",
      "source": [
        "modelo_lr = lr.fit(treino)"
      ],
      "metadata": {
        "id": "q0t0tDPRis-V"
      },
      "execution_count": 20,
      "outputs": []
    },
    {
      "cell_type": "code",
      "source": [
        "previsoes_lr_treino = modelo_lr.transform(treino)\n",
        "previsoes_lr_treino.show()"
      ],
      "metadata": {
        "colab": {
          "base_uri": "https://localhost:8080/"
        },
        "id": "jSqteTAqjDhx",
        "outputId": "e572bc6f-4fdd-4ea5-a3e7-8a2f02546d25"
      },
      "execution_count": 21,
      "outputs": [
        {
          "output_type": "stream",
          "name": "stdout",
          "text": [
            "+--------------------+---------+------------------+\n",
            "|            features|    label|        prediction|\n",
            "+--------------------+---------+------------------+\n",
            "|(23,[0,1,2,3,4,5,...| 580000.0| 579999.9999999986|\n",
            "|(23,[0,1,2,3,4,5,...|3050000.0| 3049999.999999999|\n",
            "|(23,[0,1,2,3,4,5,...|1590000.0|1589999.9999999984|\n",
            "|(23,[0,1,2,3,4,5,...|1600000.0|1599999.9999999988|\n",
            "|(23,[0,1,2,3,4,5,...| 390000.0|389999.99999999796|\n",
            "|(23,[0,1,2,3,4,5,...| 917000.0| 916999.9999999987|\n",
            "|(23,[0,1,2,3,4,5,...|1390000.0|1389999.9999999986|\n",
            "|(23,[0,1,2,3,4,5,...|1050000.0|1049999.9999999984|\n",
            "|(23,[0,1,2,3,4,5,...| 550000.0| 549999.9999999977|\n",
            "|(23,[0,1,2,3,4,5,...|1120000.0|1119999.9999999984|\n",
            "|(23,[0,1,2,3,4,5,...| 650000.0| 649999.9999999995|\n",
            "|(23,[0,1,2,3,4,5,...| 640000.0| 639999.9999999988|\n",
            "|(23,[0,1,2,3,4,5,...|1265000.0|1265000.0000000002|\n",
            "|(23,[0,1,2,3,4,5,...| 906500.0| 906499.9999999987|\n",
            "|(23,[0,1,2,3,4,5,...| 365000.0|364999.99999999854|\n",
            "|(23,[0,1,2,3,4,5,...| 560000.0| 559999.9999999999|\n",
            "|(23,[0,1,2,3,4,5,...|3390000.0|3389999.9999999995|\n",
            "|(23,[0,1,2,3,4,5,...|1025000.0|1024999.9999999983|\n",
            "|(23,[0,1,2,3,4,5,...|2050000.0|2049999.9999999998|\n",
            "|(23,[0,1,2,3,4,5,...|  99000.0| 98999.99999999783|\n",
            "+--------------------+---------+------------------+\n",
            "only showing top 20 rows\n",
            "\n"
          ]
        }
      ]
    },
    {
      "cell_type": "markdown",
      "source": [
        "#Avaliação dos modelos"
      ],
      "metadata": {
        "id": "jWVmyO35jl_T"
      }
    },
    {
      "cell_type": "code",
      "source": [
        "resumo_treino = modelo_lr.summary"
      ],
      "metadata": {
        "id": "1J65YfiGjn7c"
      },
      "execution_count": 22,
      "outputs": []
    },
    {
      "cell_type": "code",
      "source": [
        "\"\"\"\n",
        "R2 (ou **coeficiente de determinação**):\n",
        "é uma medida estatística que representa a \n",
        "porcentagem de variação da variável resposta \n",
        "que é explicada pelo modelo de regressão. \n",
        "Por se tratar de uma porcentagem, seu valor \n",
        "varia de 0 a 1.\n",
        "\"\"\"\n",
        "resumo_treino.r2 "
      ],
      "metadata": {
        "colab": {
          "base_uri": "https://localhost:8080/"
        },
        "id": "B8Vcj1VZj57P",
        "outputId": "48b122c2-3c64-47bd-9629-92fd83eb303e"
      },
      "execution_count": 23,
      "outputs": [
        {
          "output_type": "execute_result",
          "data": {
            "text/plain": [
              "1.0"
            ]
          },
          "metadata": {},
          "execution_count": 23
        }
      ]
    },
    {
      "cell_type": "code",
      "source": [
        "\"\"\"\n",
        "RMSE (ou Raiz do Erro Quadrático Médio):\n",
        "é a métrica que calcula a raiz quadrada do erro \n",
        "médio entre os valores reais e as predições da \n",
        "regressão. Quanto menor esse valor, melhor será \n",
        "o modelo, uma vez que estará cometendo menos erros.\n",
        "\"\"\"\n",
        "resumo_treino.rootMeanSquaredError"
      ],
      "metadata": {
        "colab": {
          "base_uri": "https://localhost:8080/"
        },
        "id": "QTsWvQrjjxSS",
        "outputId": "e28b1176-70e5-43a0-bfe6-ce7f0ee5955a"
      },
      "execution_count": 24,
      "outputs": [
        {
          "output_type": "execute_result",
          "data": {
            "text/plain": [
              "7.998662077689472e-10"
            ]
          },
          "metadata": {},
          "execution_count": 24
        }
      ]
    },
    {
      "cell_type": "code",
      "source": [
        "resumo_teste = modelo_lr.evaluate(teste)"
      ],
      "metadata": {
        "id": "8qjH3V0UkC4z"
      },
      "execution_count": 25,
      "outputs": []
    },
    {
      "cell_type": "code",
      "source": [
        "resumo_teste.r2"
      ],
      "metadata": {
        "colab": {
          "base_uri": "https://localhost:8080/"
        },
        "id": "wKn5JRtfkNrE",
        "outputId": "9b7f8495-470d-4c94-be81-02190a1409fd"
      },
      "execution_count": 26,
      "outputs": [
        {
          "output_type": "execute_result",
          "data": {
            "text/plain": [
              "1.0"
            ]
          },
          "metadata": {},
          "execution_count": 26
        }
      ]
    },
    {
      "cell_type": "code",
      "source": [
        "resumo_teste.rootMeanSquaredError"
      ],
      "metadata": {
        "colab": {
          "base_uri": "https://localhost:8080/"
        },
        "id": "6aS1qlhtkPRJ",
        "outputId": "e248897f-91c8-40d4-acd9-4cefc59de433"
      },
      "execution_count": 27,
      "outputs": [
        {
          "output_type": "execute_result",
          "data": {
            "text/plain": [
              "8.09400298219593e-10"
            ]
          },
          "metadata": {},
          "execution_count": 27
        }
      ]
    },
    {
      "cell_type": "code",
      "source": [
        "print('Linear Regression')\n",
        "print(\"=\"*30)\n",
        "print(\"Dados de Treino\")\n",
        "print(\"=\"*30)\n",
        "print(\"R²: %f\" % resumo_treino.r2)\n",
        "print(\"RMSE: %f\" % resumo_treino.rootMeanSquaredError)\n",
        "print(\"\")\n",
        "print(\"=\"*30)\n",
        "print(\"Dados de Teste\")\n",
        "print(\"=\"*30)\n",
        "print(\"R²: %f\" % resumo_teste.r2)\n",
        "print(\"RMSE: %f\" % resumo_teste.rootMeanSquaredError)"
      ],
      "metadata": {
        "colab": {
          "base_uri": "https://localhost:8080/"
        },
        "id": "4ib8qI13kWXE",
        "outputId": "a9dc215e-60b5-4424-ae5f-c6b8f627d3e7"
      },
      "execution_count": 28,
      "outputs": [
        {
          "output_type": "stream",
          "name": "stdout",
          "text": [
            "Linear Regression\n",
            "==============================\n",
            "Dados de Treino\n",
            "==============================\n",
            "R²: 1.000000\n",
            "RMSE: 0.000000\n",
            "\n",
            "==============================\n",
            "Dados de Teste\n",
            "==============================\n",
            "R²: 1.000000\n",
            "RMSE: 0.000000\n"
          ]
        }
      ]
    }
  ]
}