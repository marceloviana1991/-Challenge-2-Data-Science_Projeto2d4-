{
  "nbformat": 4,
  "nbformat_minor": 0,
  "metadata": {
    "colab": {
      "provenance": [],
      "collapsed_sections": [
        "id6reo_KYRDa",
        "qusti4m4YK8l",
        "RPOedGkDObkp",
        "A3X9fU0OhZwW",
        "jWVmyO35jl_T"
      ]
    },
    "kernelspec": {
      "name": "python3",
      "display_name": "Python 3"
    },
    "language_info": {
      "name": "python"
    }
  },
  "cells": [
    {
      "cell_type": "markdown",
      "source": [
        "#Fazendo leitura dos dados"
      ],
      "metadata": {
        "id": "id6reo_KYRDa"
      }
    },
    {
      "cell_type": "code",
      "source": [
        "!pip install pyspark==3.3.1"
      ],
      "metadata": {
        "colab": {
          "base_uri": "https://localhost:8080/"
        },
        "id": "OZmVaesUzuJv",
        "outputId": "23eaff0f-96c9-4bf4-efe4-6546358fc681"
      },
      "execution_count": 1,
      "outputs": [
        {
          "output_type": "stream",
          "name": "stdout",
          "text": [
            "Looking in indexes: https://pypi.org/simple, https://us-python.pkg.dev/colab-wheels/public/simple/\n",
            "Collecting pyspark==3.3.1\n",
            "  Downloading pyspark-3.3.1.tar.gz (281.4 MB)\n",
            "\u001b[K     |████████████████████████████████| 281.4 MB 31 kB/s \n",
            "\u001b[?25hCollecting py4j==0.10.9.5\n",
            "  Downloading py4j-0.10.9.5-py2.py3-none-any.whl (199 kB)\n",
            "\u001b[K     |████████████████████████████████| 199 kB 66.9 MB/s \n",
            "\u001b[?25hBuilding wheels for collected packages: pyspark\n",
            "  Building wheel for pyspark (setup.py) ... \u001b[?25l\u001b[?25hdone\n",
            "  Created wheel for pyspark: filename=pyspark-3.3.1-py2.py3-none-any.whl size=281845512 sha256=586be89c624d1a5b3366612fbce39338302285be50abd14e6611aef0c2d139d3\n",
            "  Stored in directory: /root/.cache/pip/wheels/43/dc/11/ec201cd671da62fa9c5cc77078235e40722170ceba231d7598\n",
            "Successfully built pyspark\n",
            "Installing collected packages: py4j, pyspark\n",
            "Successfully installed py4j-0.10.9.5 pyspark-3.3.1\n"
          ]
        }
      ]
    },
    {
      "cell_type": "code",
      "source": [
        "from pyspark.sql import SparkSession"
      ],
      "metadata": {
        "id": "Ch8N8wRezyLb"
      },
      "execution_count": 2,
      "outputs": []
    },
    {
      "cell_type": "code",
      "source": [
        "spark = SparkSession.builder.master('local[*]').appName(\"Transformacao com Spark\").getOrCreate()\n",
        "\n",
        "spark"
      ],
      "metadata": {
        "colab": {
          "base_uri": "https://localhost:8080/",
          "height": 219
        },
        "id": "0IuMlyXizyoR",
        "outputId": "13b861de-d630-4d0e-d66c-9fc611a447ed"
      },
      "execution_count": 3,
      "outputs": [
        {
          "output_type": "execute_result",
          "data": {
            "text/plain": [
              "<pyspark.sql.session.SparkSession at 0x7eff4b8cebe0>"
            ],
            "text/html": [
              "\n",
              "            <div>\n",
              "                <p><b>SparkSession - in-memory</b></p>\n",
              "                \n",
              "        <div>\n",
              "            <p><b>SparkContext</b></p>\n",
              "\n",
              "            <p><a href=\"http://e168a4a45045:4040\">Spark UI</a></p>\n",
              "\n",
              "            <dl>\n",
              "              <dt>Version</dt>\n",
              "                <dd><code>v3.3.1</code></dd>\n",
              "              <dt>Master</dt>\n",
              "                <dd><code>local[*]</code></dd>\n",
              "              <dt>AppName</dt>\n",
              "                <dd><code>Transformacao com Spark</code></dd>\n",
              "            </dl>\n",
              "        </div>\n",
              "        \n",
              "            </div>\n",
              "        "
            ]
          },
          "metadata": {},
          "execution_count": 3
        }
      ]
    },
    {
      "cell_type": "code",
      "execution_count": 4,
      "metadata": {
        "colab": {
          "base_uri": "https://localhost:8080/"
        },
        "id": "lMZNVf7byNT0",
        "outputId": "60351ec1-d401-4c41-aa39-7c908a1c3f71"
      },
      "outputs": [
        {
          "output_type": "stream",
          "name": "stdout",
          "text": [
            "Mounted at /content/drive\n"
          ]
        }
      ],
      "source": [
        "from google.colab import drive\n",
        "drive.mount('/content/drive')"
      ]
    },
    {
      "cell_type": "code",
      "source": [
        "dados = spark.read.parquet('/content/drive/MyDrive/Challenge_Data_Science_Alura/dados/dataset_parquet')"
      ],
      "metadata": {
        "id": "LxeLmipXz3ZK"
      },
      "execution_count": 5,
      "outputs": []
    },
    {
      "cell_type": "code",
      "source": [
        "dados.show()"
      ],
      "metadata": {
        "colab": {
          "base_uri": "https://localhost:8080/"
        },
        "id": "WQpmRwhiz8Od",
        "outputId": "ba117787-2e32-4c7d-806e-deb7ca1805ef"
      },
      "execution_count": 6,
      "outputs": [
        {
          "output_type": "stream",
          "name": "stdout",
          "text": [
            "+--------------------+-----+---------+---------+-------+------+----+----------+------+--------+--------+------------------+-------------+------------------+--------+-------+----------+------------+-----------------+---------------+------------+----------+----------+--------+\n",
            "|                  id|andar|area_util|banheiros|quartos|suites|vaga|condominio|  iptu|   valor|Academia|Animais permitidos|Churrasqueira|Condomínio fechado|Elevador|Piscina|Playground|Portaria 24h|Portão eletrônico|Salão de festas|Zona Central|Zona Norte|Zona Oeste|Zona Sul|\n",
            "+--------------------+-----+---------+---------+-------+------+----+----------+------+--------+--------+------------------+-------------+------------------+--------+-------+----------+------------+-----------------+---------------+------------+----------+----------+--------+\n",
            "|03a386b6-7ab8-4ef...|    0|     43.0|        1|      2|     0|   1|     285.0|   0.0| 22999.0|       1|                 1|            1|                 1|       0|      0|         1|           1|                1|              1|           0|         0|         1|       0|\n",
            "|1fe78d41-b8e0-4d2...|    0|     44.0|        1|      2|     0|   0|     170.0|   0.0|110000.0|       0|                 0|            0|                 0|       0|      0|         0|           0|                0|              0|           0|         1|         0|       0|\n",
            "|1fa1c1e5-e98c-433...|    4|     55.0|        1|      2|     0|   1|       0.0|   0.0|115000.0|       0|                 0|            0|                 0|       0|      0|         0|           0|                0|              0|           0|         0|         1|       0|\n",
            "|a6ab01ae-3d40-40e...|    2|     55.0|        1|      2|     0|   0|       0.0|   0.0|115000.0|       0|                 0|            0|                 0|       0|      0|         0|           0|                0|              0|           0|         1|         0|       0|\n",
            "|1d8ff7a2-16bd-4e3...|    0|     50.0|        1|      1|     0|   0|    1300.0|2679.0|125000.0|       0|                 0|            0|                 0|       0|      0|         0|           0|                0|              0|           1|         0|         0|       0|\n",
            "|40a2cbde-946b-42d...|    2|     47.0|        1|      2|     0|   1|     380.0|   0.0|138000.0|       0|                 1|            1|                 1|       0|      1|         0|           1|                0|              1|           0|         0|         1|       0|\n",
            "|be269ddf-a4a3-4a7...|    0|     45.0|        1|      2|     0|   1|     356.0|   0.0|140000.0|       0|                 0|            1|                 1|       0|      1|         0|           0|                0|              0|           0|         0|         1|       0|\n",
            "|4b7e3d59-34fd-4ba...|    3|     48.0|        1|      2|     0|   1|       0.0|   0.0|150000.0|       0|                 1|            1|                 1|       0|      1|         1|           1|                1|              1|           0|         0|         1|       0|\n",
            "|a1a0c2ac-4fa8-4b0...|    9|     55.0|        1|      2|     0|   1|     780.0| 660.0|160000.0|       0|                 1|            1|                 1|       1|      0|         0|           1|                1|              1|           0|         0|         1|       0|\n",
            "|390d2b88-e06d-47e...|    0|     70.0|        2|      2|     0|   1|  420000.0|   0.0|159000.0|       0|                 0|            0|                 0|       0|      0|         0|           0|                0|              1|           0|         0|         1|       0|\n",
            "|07bb07c1-21cc-4da...|    2|     48.0|        1|      1|     0|   0|      10.0|  10.0|170000.0|       0|                 1|            0|                 1|       0|      0|         0|           0|                0|              0|           0|         1|         0|       0|\n",
            "|7d3a1bae-988c-44b...|    5|     40.0|        1|      2|     0|   1|     150.0| 120.0|189000.0|       0|                 1|            1|                 1|       0|      0|         1|           1|                1|              1|           0|         1|         0|       0|\n",
            "|47af17f0-1c81-474...|    0|     65.0|        1|      2|     0|   1|     432.0|   0.0|185000.0|       0|                 0|            0|                 0|       0|      0|         0|           0|                0|              0|           0|         0|         1|       0|\n",
            "|a9bd1575-e9f2-43d...|    2|     50.0|        1|      1|     0|   1|     650.0|   1.0|185000.0|       0|                 1|            0|                 1|       0|      0|         0|           0|                1|              0|           0|         1|         0|       0|\n",
            "|cfca7253-3d02-4cd...|    5|     45.0|        1|      2|     1|   0|     150.0|  40.0|199000.0|       1|                 1|            1|                 1|       1|      0|         1|           1|                1|              1|           0|         0|         1|       0|\n",
            "|b571ae97-e3d8-4fb...|    0|     48.0|        1|      2|     0|   0|       0.0|   0.0|205933.0|       1|                 1|            1|                 1|       1|      0|         0|           1|                1|              1|           0|         1|         0|       0|\n",
            "|eb5fdc65-acae-45f...|    0|     44.0|        1|      2|     0|   0|       0.0|   0.0|206000.0|       1|                 1|            0|                 1|       1|      0|         1|           1|                1|              1|           0|         1|         0|       0|\n",
            "|77cd0388-e3ff-40c...|    2|     64.0|        1|      2|     0|   0|       0.0|   0.0|220000.0|       0|                 0|            0|                 0|       0|      0|         0|           0|                0|              0|           0|         1|         0|       0|\n",
            "|74a91f07-7387-4a8...|    0|     55.0|        2|      1|     0|   1|     600.0| 652.0|219130.0|       0|                 0|            0|                 0|       1|      0|         0|           0|                0|              1|           0|         1|         0|       0|\n",
            "|6aab1165-508d-455...|    3|     60.0|        1|      3|     0|   1|      98.0|   1.0|230000.0|       0|                 1|            0|                 0|       0|      0|         0|           0|                0|              0|           0|         1|         0|       0|\n",
            "+--------------------+-----+---------+---------+-------+------+----+----------+------+--------+--------+------------------+-------------+------------------+--------+-------+----------+------------+-----------------+---------------+------------+----------+----------+--------+\n",
            "only showing top 20 rows\n",
            "\n"
          ]
        }
      ]
    },
    {
      "cell_type": "markdown",
      "source": [
        "#Preparação dos dados para os algoritmos do Spark MLlib"
      ],
      "metadata": {
        "id": "qusti4m4YK8l"
      }
    },
    {
      "cell_type": "code",
      "source": [
        "from pyspark.ml.feature import VectorAssembler"
      ],
      "metadata": {
        "id": "shUQgk9sYQGT"
      },
      "execution_count": 7,
      "outputs": []
    },
    {
      "cell_type": "code",
      "source": [
        "dados = dados.withColumnRenamed('valor','label')"
      ],
      "metadata": {
        "id": "gj4n9ESUZNoH"
      },
      "execution_count": 8,
      "outputs": []
    },
    {
      "cell_type": "code",
      "source": [
        "X = []\n",
        "for i in dados.columns:\n",
        "  if i != 'id' and i != 'valor':\n",
        "    X.append(i)\n",
        "X"
      ],
      "metadata": {
        "colab": {
          "base_uri": "https://localhost:8080/"
        },
        "id": "Wrl5igmBZ5v_",
        "outputId": "afadd304-3221-44b8-8059-f211085dd83d"
      },
      "execution_count": 9,
      "outputs": [
        {
          "output_type": "execute_result",
          "data": {
            "text/plain": [
              "['andar',\n",
              " 'area_util',\n",
              " 'banheiros',\n",
              " 'quartos',\n",
              " 'suites',\n",
              " 'vaga',\n",
              " 'condominio',\n",
              " 'iptu',\n",
              " 'label',\n",
              " 'Academia',\n",
              " 'Animais permitidos',\n",
              " 'Churrasqueira',\n",
              " 'Condomínio fechado',\n",
              " 'Elevador',\n",
              " 'Piscina',\n",
              " 'Playground',\n",
              " 'Portaria 24h',\n",
              " 'Portão eletrônico',\n",
              " 'Salão de festas',\n",
              " 'Zona Central',\n",
              " 'Zona Norte',\n",
              " 'Zona Oeste',\n",
              " 'Zona Sul']"
            ]
          },
          "metadata": {},
          "execution_count": 9
        }
      ]
    },
    {
      "cell_type": "code",
      "source": [
        "assembler = VectorAssembler(inputCols = X, outputCol = 'features')"
      ],
      "metadata": {
        "id": "n1NtxVYrdJhN"
      },
      "execution_count": 10,
      "outputs": []
    },
    {
      "cell_type": "code",
      "source": [
        "dados_vetorizado = assembler.transform(dados).select('features', 'label')"
      ],
      "metadata": {
        "id": "LooOG_Z8dQTz"
      },
      "execution_count": 11,
      "outputs": []
    },
    {
      "cell_type": "code",
      "source": [
        "dados_vetorizado.show(truncate=False)"
      ],
      "metadata": {
        "colab": {
          "base_uri": "https://localhost:8080/"
        },
        "id": "yjsD8_H7eROq",
        "outputId": "de6fd60b-24e8-4152-ed2d-763f3a94b726"
      },
      "execution_count": 12,
      "outputs": [
        {
          "output_type": "stream",
          "name": "stdout",
          "text": [
            "+-----------------------------------------------------------------------------------------------------------+--------+\n",
            "|features                                                                                                   |label   |\n",
            "+-----------------------------------------------------------------------------------------------------------+--------+\n",
            "|[0.0,43.0,1.0,2.0,0.0,1.0,285.0,0.0,22999.0,1.0,1.0,1.0,1.0,0.0,0.0,1.0,1.0,1.0,1.0,0.0,0.0,1.0,0.0]       |22999.0 |\n",
            "|(23,[1,2,3,6,8,20],[44.0,1.0,2.0,170.0,110000.0,1.0])                                                      |110000.0|\n",
            "|(23,[0,1,2,3,5,8,21],[4.0,55.0,1.0,2.0,1.0,115000.0,1.0])                                                  |115000.0|\n",
            "|(23,[0,1,2,3,8,20],[2.0,55.0,1.0,2.0,115000.0,1.0])                                                        |115000.0|\n",
            "|(23,[1,2,3,6,7,8,19],[50.0,1.0,1.0,1300.0,2679.0,125000.0,1.0])                                            |125000.0|\n",
            "|(23,[0,1,2,3,5,6,8,10,11,12,14,16,18,21],[2.0,47.0,1.0,2.0,1.0,380.0,138000.0,1.0,1.0,1.0,1.0,1.0,1.0,1.0])|138000.0|\n",
            "|(23,[1,2,3,5,6,8,11,12,14,21],[45.0,1.0,2.0,1.0,356.0,140000.0,1.0,1.0,1.0,1.0])                           |140000.0|\n",
            "|[3.0,48.0,1.0,2.0,0.0,1.0,0.0,0.0,150000.0,0.0,1.0,1.0,1.0,0.0,1.0,1.0,1.0,1.0,1.0,0.0,0.0,1.0,0.0]        |150000.0|\n",
            "|[9.0,55.0,1.0,2.0,0.0,1.0,780.0,660.0,160000.0,0.0,1.0,1.0,1.0,1.0,0.0,0.0,1.0,1.0,1.0,0.0,0.0,1.0,0.0]    |160000.0|\n",
            "|(23,[1,2,3,5,6,8,18,21],[70.0,2.0,2.0,1.0,420000.0,159000.0,1.0,1.0])                                      |159000.0|\n",
            "|(23,[0,1,2,3,6,7,8,10,12,20],[2.0,48.0,1.0,1.0,10.0,10.0,170000.0,1.0,1.0,1.0])                            |170000.0|\n",
            "|[5.0,40.0,1.0,2.0,0.0,1.0,150.0,120.0,189000.0,0.0,1.0,1.0,1.0,0.0,0.0,1.0,1.0,1.0,1.0,0.0,1.0,0.0,0.0]    |189000.0|\n",
            "|(23,[1,2,3,5,6,8,21],[65.0,1.0,2.0,1.0,432.0,185000.0,1.0])                                                |185000.0|\n",
            "|(23,[0,1,2,3,5,6,7,8,10,12,17,20],[2.0,50.0,1.0,1.0,1.0,650.0,1.0,185000.0,1.0,1.0,1.0,1.0])               |185000.0|\n",
            "|[5.0,45.0,1.0,2.0,1.0,0.0,150.0,40.0,199000.0,1.0,1.0,1.0,1.0,1.0,0.0,1.0,1.0,1.0,1.0,0.0,0.0,1.0,0.0]     |199000.0|\n",
            "|(23,[1,2,3,8,9,10,11,12,13,16,17,18,20],[48.0,1.0,2.0,205933.0,1.0,1.0,1.0,1.0,1.0,1.0,1.0,1.0,1.0])       |205933.0|\n",
            "|(23,[1,2,3,8,9,10,12,13,15,16,17,18,20],[44.0,1.0,2.0,206000.0,1.0,1.0,1.0,1.0,1.0,1.0,1.0,1.0,1.0])       |206000.0|\n",
            "|(23,[0,1,2,3,8,20],[2.0,64.0,1.0,2.0,220000.0,1.0])                                                        |220000.0|\n",
            "|(23,[1,2,3,5,6,7,8,13,18,20],[55.0,2.0,1.0,1.0,600.0,652.0,219130.0,1.0,1.0,1.0])                          |219130.0|\n",
            "|(23,[0,1,2,3,5,6,7,8,10,20],[3.0,60.0,1.0,3.0,1.0,98.0,1.0,230000.0,1.0,1.0])                              |230000.0|\n",
            "+-----------------------------------------------------------------------------------------------------------+--------+\n",
            "only showing top 20 rows\n",
            "\n"
          ]
        }
      ]
    },
    {
      "cell_type": "markdown",
      "source": [
        "#Análise de correlação"
      ],
      "metadata": {
        "id": "RPOedGkDObkp"
      }
    },
    {
      "cell_type": "code",
      "source": [
        "from pyspark.ml.stat import Correlation\n",
        "import pandas as pd"
      ],
      "metadata": {
        "id": "jpnmVKOWMrmZ"
      },
      "execution_count": 13,
      "outputs": []
    },
    {
      "cell_type": "code",
      "source": [
        "correlacao = Correlation.corr(dados_vetorizado, 'features').collect()[0][0]"
      ],
      "metadata": {
        "id": "L2ladzGiM46P"
      },
      "execution_count": 14,
      "outputs": []
    },
    {
      "cell_type": "code",
      "source": [
        "correlacao.toArray()"
      ],
      "metadata": {
        "colab": {
          "base_uri": "https://localhost:8080/"
        },
        "id": "tgeN3Y_JM7-j",
        "outputId": "8653c197-2539-4e48-b84d-052dc4d980fb"
      },
      "execution_count": 15,
      "outputs": [
        {
          "output_type": "execute_result",
          "data": {
            "text/plain": [
              "array([[ 1.00000000e+00,  2.06748857e-02,  1.75771533e-02,\n",
              "         1.00834528e-02,  2.42741138e-02,  1.82718435e-02,\n",
              "         6.61793025e-03,  3.81095579e-04,  1.61455904e-02,\n",
              "         6.41111110e-02,  1.01639775e-01,  4.57692561e-02,\n",
              "         9.17071035e-02,  7.19853276e-02,  4.35550202e-02,\n",
              "         5.37283976e-02,  8.96649707e-02,  8.34316227e-02,\n",
              "         5.86164288e-02,  3.54157220e-02, -9.34283198e-03,\n",
              "         1.13949699e-02, -1.45510872e-02],\n",
              "       [ 2.06748857e-02,  1.00000000e+00,  6.71030551e-01,\n",
              "         6.74075597e-01,  6.20128736e-01,  4.71928438e-01,\n",
              "         4.56765657e-02,  2.13371390e-02,  7.58635764e-01,\n",
              "         1.99696761e-03, -1.29998185e-02, -2.40512015e-02,\n",
              "        -1.26055199e-02,  1.68407713e-02,  1.81253057e-02,\n",
              "        -1.57595387e-02, -2.44674623e-02, -2.12857930e-03,\n",
              "        -2.69092650e-02, -1.03892024e-01, -1.70483530e-01,\n",
              "         1.20950909e-01,  3.97345272e-02],\n",
              "       [ 1.75771533e-02,  6.71030551e-01,  1.00000000e+00,\n",
              "         6.49025360e-01,  7.39838048e-01,  4.45058514e-01,\n",
              "         2.71867036e-02,  1.39344056e-02,  5.75010799e-01,\n",
              "         7.92968059e-02, -2.43901938e-02,  4.27916891e-02,\n",
              "        -5.23825480e-03,  5.71311000e-02,  9.92092073e-02,\n",
              "         6.63659658e-02, -3.49597846e-02, -1.65458229e-02,\n",
              "         5.59170440e-02, -1.25550684e-01, -1.64139076e-01,\n",
              "         1.90515403e-01, -3.47373077e-02],\n",
              "       [ 1.00834528e-02,  6.74075597e-01,  6.49025360e-01,\n",
              "         1.00000000e+00,  5.79925146e-01,  4.30441603e-01,\n",
              "         2.16525943e-02,  1.72499625e-02,  5.30570909e-01,\n",
              "         6.13066084e-02, -2.10575776e-02,  6.14616802e-02,\n",
              "        -3.14082554e-04,  2.56267742e-02,  8.26988719e-02,\n",
              "         7.77226463e-02, -2.25214672e-02, -1.57031849e-02,\n",
              "         6.08197737e-02, -1.62938049e-01, -1.20802656e-01,\n",
              "         1.63482939e-01, -3.09036935e-02],\n",
              "       [ 2.42741138e-02,  6.20128736e-01,  7.39838048e-01,\n",
              "         5.79925146e-01,  1.00000000e+00,  4.58183874e-01,\n",
              "         2.90633646e-02,  1.18285134e-02,  5.83439231e-01,\n",
              "         2.42630058e-01,  6.55394612e-02,  1.85553381e-01,\n",
              "         1.39081282e-01,  1.20021711e-01,  2.63923167e-01,\n",
              "         1.88921100e-01,  7.99882788e-02,  8.95739297e-02,\n",
              "         1.73719996e-01, -1.04031862e-01, -2.15537149e-01,\n",
              "         2.88745498e-01, -1.04489231e-01],\n",
              "       [ 1.82718435e-02,  4.71928438e-01,  4.45058514e-01,\n",
              "         4.30441603e-01,  4.58183874e-01,  1.00000000e+00,\n",
              "         2.58842279e-02,  1.19807177e-02,  4.00637521e-01,\n",
              "         1.39842511e-01,  3.85549845e-02,  1.31505037e-01,\n",
              "         7.94846740e-02,  6.13700126e-02,  1.70347534e-01,\n",
              "         1.33452224e-01,  3.49001157e-02,  4.62574718e-02,\n",
              "         1.33179623e-01, -9.82763078e-02, -1.05648328e-01,\n",
              "         2.57722284e-01, -1.63686330e-01],\n",
              "       [ 6.61793025e-03,  4.56765657e-02,  2.71867036e-02,\n",
              "         2.16525943e-02,  2.90633646e-02,  2.58842279e-02,\n",
              "         1.00000000e+00,  2.02201365e-01,  5.01267054e-02,\n",
              "         1.43106413e-02,  1.25853568e-02,  5.71242256e-03,\n",
              "         1.23185788e-02,  1.33922978e-02,  1.00223621e-02,\n",
              "         9.57578408e-03,  1.19974420e-02,  6.17962790e-03,\n",
              "         9.13785969e-03, -4.42297473e-03, -1.01036187e-02,\n",
              "         2.32212094e-03,  7.11261419e-03],\n",
              "       [ 3.81095579e-04,  2.13371390e-02,  1.39344056e-02,\n",
              "         1.72499625e-02,  1.18285134e-02,  1.19807177e-02,\n",
              "         2.02201365e-01,  1.00000000e+00,  2.79603852e-02,\n",
              "         3.35276445e-03, -1.87839173e-03, -3.08118539e-03,\n",
              "        -5.23373437e-03,  6.51529579e-03,  2.49568213e-03,\n",
              "         7.89849430e-04, -1.19614782e-03, -4.48586574e-03,\n",
              "         1.12381412e-03, -3.63958588e-03, -8.72015832e-03,\n",
              "        -5.66887482e-03,  1.43947588e-02],\n",
              "       [ 1.61455904e-02,  7.58635764e-01,  5.75010799e-01,\n",
              "         5.30570909e-01,  5.83439231e-01,  4.00637521e-01,\n",
              "         5.01267054e-02,  2.79603852e-02,  1.00000000e+00,\n",
              "         2.54202318e-02, -1.69962574e-02, -6.29972427e-02,\n",
              "        -6.57598046e-03,  4.13655715e-02,  2.33570775e-02,\n",
              "        -2.99892916e-03,  1.12375111e-02,  7.18861460e-03,\n",
              "        -3.07094791e-02, -8.53273195e-02, -2.46670427e-01,\n",
              "        -1.94626568e-02,  2.49710330e-01],\n",
              "       [ 6.41111110e-02,  1.99696761e-03,  7.92968059e-02,\n",
              "         6.13066084e-02,  2.42630058e-01,  1.39842511e-01,\n",
              "         1.43106413e-02,  3.35276445e-03,  2.54202318e-02,\n",
              "         1.00000000e+00,  4.10868006e-01,  6.76222328e-01,\n",
              "         5.91754976e-01,  4.55410919e-01,  7.48366169e-01,\n",
              "         6.71441010e-01,  4.93951070e-01,  4.17784138e-01,\n",
              "         6.93806131e-01,  4.31320330e-02, -1.20985061e-01,\n",
              "         3.60169747e-01, -3.01657526e-01],\n",
              "       [ 1.01639775e-01, -1.29998185e-02, -2.43901938e-02,\n",
              "        -2.10575776e-02,  6.55394612e-02,  3.85549845e-02,\n",
              "         1.25853568e-02, -1.87839173e-03, -1.69962574e-02,\n",
              "         4.10868006e-01,  1.00000000e+00,  3.10759022e-01,\n",
              "         6.27450882e-01,  4.65416458e-01,  3.03905208e-01,\n",
              "         3.44095541e-01,  6.71686294e-01,  6.87906347e-01,\n",
              "         3.89203289e-01,  5.51344421e-02, -2.60645586e-02,\n",
              "         8.29060212e-02, -8.36393425e-02],\n",
              "       [ 4.57692561e-02, -2.40512015e-02,  4.27916891e-02,\n",
              "         6.14616802e-02,  1.85553381e-01,  1.31505037e-01,\n",
              "         5.71242256e-03, -3.08118539e-03, -6.29972427e-02,\n",
              "         6.76222328e-01,  3.10759022e-01,  1.00000000e+00,\n",
              "         4.75333662e-01,  3.80601067e-01,  7.52217518e-01,\n",
              "         6.27252214e-01,  3.72362613e-01,  3.16281912e-01,\n",
              "         6.47823104e-01,  1.72355189e-03, -5.11516057e-02,\n",
              "         4.16617829e-01, -4.09041287e-01],\n",
              "       [ 9.17071035e-02, -1.26055199e-02, -5.23825480e-03,\n",
              "        -3.14082554e-04,  1.39081282e-01,  7.94846740e-02,\n",
              "         1.23185788e-02, -5.23373437e-03, -6.57598046e-03,\n",
              "         5.91754976e-01,  6.27450882e-01,  4.75333662e-01,\n",
              "         1.00000000e+00,  5.23483930e-01,  4.93580815e-01,\n",
              "         4.80831431e-01,  6.96255240e-01,  6.82767208e-01,\n",
              "         5.14101449e-01,  4.73906987e-02, -8.97046475e-02,\n",
              "         2.20691493e-01, -1.77819582e-01],\n",
              "       [ 7.19853276e-02,  1.68407713e-02,  5.71311000e-02,\n",
              "         2.56267742e-02,  1.20021711e-01,  6.13700126e-02,\n",
              "         1.33922978e-02,  6.51529579e-03,  4.13655715e-02,\n",
              "         4.55410919e-01,  4.65416458e-01,  3.80601067e-01,\n",
              "         5.23483930e-01,  1.00000000e+00,  4.11536828e-01,\n",
              "         4.18378789e-01,  5.18357891e-01,  4.81388079e-01,\n",
              "         4.30770160e-01,  3.80721780e-02, -2.78098635e-02,\n",
              "         5.30057909e-02, -4.50228435e-02],\n",
              "       [ 4.35550202e-02,  1.81253057e-02,  9.92092073e-02,\n",
              "         8.26988719e-02,  2.63923167e-01,  1.70347534e-01,\n",
              "         1.00223621e-02,  2.49568213e-03,  2.33570775e-02,\n",
              "         7.48366169e-01,  3.03905208e-01,  7.52217518e-01,\n",
              "         4.93580815e-01,  4.11536828e-01,  1.00000000e+00,\n",
              "         6.44930248e-01,  3.87327832e-01,  3.18242162e-01,\n",
              "         6.54049148e-01,  1.35711011e-02, -1.33984508e-01,\n",
              "         4.30819037e-01, -3.59032784e-01],\n",
              "       [ 5.37283976e-02, -1.57595387e-02,  6.63659658e-02,\n",
              "         7.77226463e-02,  1.88921100e-01,  1.33452224e-01,\n",
              "         9.57578408e-03,  7.89849430e-04, -2.99892916e-03,\n",
              "         6.71441010e-01,  3.44095541e-01,  6.27252214e-01,\n",
              "         4.80831431e-01,  4.18378789e-01,  6.44930248e-01,\n",
              "         1.00000000e+00,  4.26754747e-01,  3.55338888e-01,\n",
              "         7.38262698e-01, -3.13913917e-03, -3.66135473e-02,\n",
              "         2.86965771e-01, -2.79384441e-01],\n",
              "       [ 8.96649707e-02, -2.44674623e-02, -3.49597846e-02,\n",
              "        -2.25214672e-02,  7.99882788e-02,  3.49001157e-02,\n",
              "         1.19974420e-02, -1.19614782e-03,  1.12375111e-02,\n",
              "         4.93951070e-01,  6.71686294e-01,  3.72362613e-01,\n",
              "         6.96255240e-01,  5.18357891e-01,  3.87327832e-01,\n",
              "         4.26754747e-01,  1.00000000e+00,  7.83286315e-01,\n",
              "         4.58586186e-01,  4.94647981e-02, -7.26190740e-02,\n",
              "         7.86370815e-02, -3.88026034e-02],\n",
              "       [ 8.34316227e-02, -2.12857930e-03, -1.65458229e-02,\n",
              "        -1.57031849e-02,  8.95739297e-02,  4.62574718e-02,\n",
              "         6.17962790e-03, -4.48586574e-03,  7.18861460e-03,\n",
              "         4.17784138e-01,  6.87906347e-01,  3.16281912e-01,\n",
              "         6.82767208e-01,  4.81388079e-01,  3.18242162e-01,\n",
              "         3.55338888e-01,  7.83286315e-01,  1.00000000e+00,\n",
              "         3.85214141e-01,  4.32981885e-02, -3.21444720e-02,\n",
              "         7.85832438e-02, -7.05853344e-02],\n",
              "       [ 5.86164288e-02, -2.69092650e-02,  5.59170440e-02,\n",
              "         6.08197737e-02,  1.73719996e-01,  1.33179623e-01,\n",
              "         9.13785969e-03,  1.12381412e-03, -3.07094791e-02,\n",
              "         6.93806131e-01,  3.89203289e-01,  6.47823104e-01,\n",
              "         5.14101449e-01,  4.30770160e-01,  6.54049148e-01,\n",
              "         7.38262698e-01,  4.58586186e-01,  3.85214141e-01,\n",
              "         1.00000000e+00,  8.49297439e-03, -1.86907747e-02,\n",
              "         3.05872695e-01, -3.17992822e-01],\n",
              "       [ 3.54157220e-02, -1.03892024e-01, -1.25550684e-01,\n",
              "        -1.62938049e-01, -1.04031862e-01, -9.82763078e-02,\n",
              "        -4.42297473e-03, -3.63958588e-03, -8.53273195e-02,\n",
              "         4.31320330e-02,  5.51344421e-02,  1.72355189e-03,\n",
              "         4.73906987e-02,  3.80721780e-02,  1.35711011e-02,\n",
              "        -3.13913917e-03,  4.94647981e-02,  4.32981885e-02,\n",
              "         8.49297439e-03,  1.00000000e+00, -6.17033370e-02,\n",
              "        -1.31078370e-01, -8.83349651e-02],\n",
              "       [-9.34283198e-03, -1.70483530e-01, -1.64139076e-01,\n",
              "        -1.20802656e-01, -2.15537149e-01, -1.05648328e-01,\n",
              "        -1.01036187e-02, -8.72015832e-03, -2.46670427e-01,\n",
              "        -1.20985061e-01, -2.60645586e-02, -5.11516057e-02,\n",
              "        -8.97046475e-02, -2.78098635e-02, -1.33984508e-01,\n",
              "        -3.66135473e-02, -7.26190740e-02, -3.21444720e-02,\n",
              "        -1.86907747e-02, -6.17033370e-02,  1.00000000e+00,\n",
              "        -4.62421362e-01, -3.11630172e-01],\n",
              "       [ 1.13949699e-02,  1.20950909e-01,  1.90515403e-01,\n",
              "         1.63482939e-01,  2.88745498e-01,  2.57722284e-01,\n",
              "         2.32212094e-03, -5.66887482e-03, -1.94626568e-02,\n",
              "         3.60169747e-01,  8.29060212e-02,  4.16617829e-01,\n",
              "         2.20691493e-01,  5.30057909e-02,  4.30819037e-01,\n",
              "         2.86965771e-01,  7.86370815e-02,  7.85832438e-02,\n",
              "         3.05872695e-01, -1.31078370e-01, -4.62421362e-01,\n",
              "         1.00000000e+00, -6.62005928e-01],\n",
              "       [-1.45510872e-02,  3.97345272e-02, -3.47373077e-02,\n",
              "        -3.09036935e-02, -1.04489231e-01, -1.63686330e-01,\n",
              "         7.11261419e-03,  1.43947588e-02,  2.49710330e-01,\n",
              "        -3.01657526e-01, -8.36393425e-02, -4.09041287e-01,\n",
              "        -1.77819582e-01, -4.50228435e-02, -3.59032784e-01,\n",
              "        -2.79384441e-01, -3.88026034e-02, -7.05853344e-02,\n",
              "        -3.17992822e-01, -8.83349651e-02, -3.11630172e-01,\n",
              "        -6.62005928e-01,  1.00000000e+00]])"
            ]
          },
          "metadata": {},
          "execution_count": 15
        }
      ]
    },
    {
      "cell_type": "code",
      "source": [
        "dataframe_correlacao = pd.DataFrame(correlacao.toArray(), columns=X, index=X)"
      ],
      "metadata": {
        "id": "B32X3dcMM-_v"
      },
      "execution_count": 19,
      "outputs": []
    },
    {
      "cell_type": "code",
      "source": [
        "import matplotlib.pyplot as plt\n",
        "import seaborn as sns"
      ],
      "metadata": {
        "id": "up0sDrvtNAl9"
      },
      "execution_count": 17,
      "outputs": []
    },
    {
      "cell_type": "code",
      "source": [
        "plt.figure(figsize=(12,10))\n",
        "paleta = sns.color_palette(\"light:salmon\", as_cmap=True)\n",
        "sns.heatmap(dataframe_correlacao.round(1), annot=True, cmap=paleta)"
      ],
      "metadata": {
        "colab": {
          "base_uri": "https://localhost:8080/",
          "height": 705
        },
        "id": "TVT3rldMNC8Z",
        "outputId": "a3dcfe47-018f-4019-c250-fe99f0ab9b84"
      },
      "execution_count": 20,
      "outputs": [
        {
          "output_type": "execute_result",
          "data": {
            "text/plain": [
              "<matplotlib.axes._subplots.AxesSubplot at 0x7eff4bb91c40>"
            ]
          },
          "metadata": {},
          "execution_count": 20
        },
        {
          "output_type": "display_data",
          "data": {
            "text/plain": [
              "<Figure size 864x720 with 2 Axes>"
            ],
            "image/png": "[encoded data removed]"
          },
          "metadata": {
            "needs_background": "light"
          }
        }
      ]
    },
    {
      "cell_type": "markdown",
      "source": [
        "#Criação dos modelos de regressão"
      ],
      "metadata": {
        "id": "A3X9fU0OhZwW"
      }
    },
    {
      "cell_type": "code",
      "source": [
        "from pyspark.ml.regression import LinearRegression"
      ],
      "metadata": {
        "id": "osSpLnP5hcOj"
      },
      "execution_count": 21,
      "outputs": []
    },
    {
      "cell_type": "code",
      "source": [
        "treino, teste = dados_vetorizado.randomSplit([0.7, 0.3], seed=101) # é interessante definir uma seed de aleatoriedade para fazer comparação com resultados de outros testes"
      ],
      "metadata": {
        "id": "ClryC2uRhgPC"
      },
      "execution_count": 22,
      "outputs": []
    },
    {
      "cell_type": "code",
      "source": [
        "treino.count() "
      ],
      "metadata": {
        "colab": {
          "base_uri": "https://localhost:8080/"
        },
        "id": "qZNofiz4ik05",
        "outputId": "29af7c73-1b13-42c8-e337-1a97982f2b30"
      },
      "execution_count": 23,
      "outputs": [
        {
          "output_type": "execute_result",
          "data": {
            "text/plain": [
              "46503"
            ]
          },
          "metadata": {},
          "execution_count": 23
        }
      ]
    },
    {
      "cell_type": "code",
      "source": [
        "teste.count()"
      ],
      "metadata": {
        "colab": {
          "base_uri": "https://localhost:8080/"
        },
        "id": "Ds_zz2FSildq",
        "outputId": "bbc2a0e2-496c-4468-b4e9-60aeea92219e"
      },
      "execution_count": 24,
      "outputs": [
        {
          "output_type": "execute_result",
          "data": {
            "text/plain": [
              "20048"
            ]
          },
          "metadata": {},
          "execution_count": 24
        }
      ]
    },
    {
      "cell_type": "code",
      "source": [
        "lr = LinearRegression()"
      ],
      "metadata": {
        "id": "pGEbDClSiqvC"
      },
      "execution_count": 25,
      "outputs": []
    },
    {
      "cell_type": "code",
      "source": [
        "modelo_lr = lr.fit(treino)"
      ],
      "metadata": {
        "id": "q0t0tDPRis-V"
      },
      "execution_count": 26,
      "outputs": []
    },
    {
      "cell_type": "code",
      "source": [
        "previsoes_lr_treino = modelo_lr.transform(treino)\n",
        "previsoes_lr_treino.show()"
      ],
      "metadata": {
        "colab": {
          "base_uri": "https://localhost:8080/"
        },
        "id": "jSqteTAqjDhx",
        "outputId": "3076ba5c-46e0-46d7-df2e-bfd9ce61665f"
      },
      "execution_count": 27,
      "outputs": [
        {
          "output_type": "stream",
          "name": "stdout",
          "text": [
            "+--------------------+---------+------------------+\n",
            "|            features|    label|        prediction|\n",
            "+--------------------+---------+------------------+\n",
            "|(23,[0,1,2,3,4,5,...| 580000.0| 579999.9999999986|\n",
            "|(23,[0,1,2,3,4,5,...|3050000.0| 3049999.999999999|\n",
            "|(23,[0,1,2,3,4,5,...|1590000.0|1589999.9999999984|\n",
            "|(23,[0,1,2,3,4,5,...|1600000.0|1599999.9999999988|\n",
            "|(23,[0,1,2,3,4,5,...| 390000.0|389999.99999999796|\n",
            "|(23,[0,1,2,3,4,5,...| 917000.0| 916999.9999999987|\n",
            "|(23,[0,1,2,3,4,5,...|1390000.0|1389999.9999999986|\n",
            "|(23,[0,1,2,3,4,5,...|1050000.0|1049999.9999999984|\n",
            "|(23,[0,1,2,3,4,5,...| 550000.0| 549999.9999999977|\n",
            "|(23,[0,1,2,3,4,5,...|1120000.0|1119999.9999999984|\n",
            "|(23,[0,1,2,3,4,5,...| 650000.0| 649999.9999999995|\n",
            "|(23,[0,1,2,3,4,5,...| 640000.0| 639999.9999999988|\n",
            "|(23,[0,1,2,3,4,5,...|1265000.0|1265000.0000000002|\n",
            "|(23,[0,1,2,3,4,5,...| 906500.0| 906499.9999999987|\n",
            "|(23,[0,1,2,3,4,5,...| 365000.0|364999.99999999854|\n",
            "|(23,[0,1,2,3,4,5,...| 560000.0| 559999.9999999999|\n",
            "|(23,[0,1,2,3,4,5,...|3390000.0|3389999.9999999995|\n",
            "|(23,[0,1,2,3,4,5,...|1025000.0|1024999.9999999983|\n",
            "|(23,[0,1,2,3,4,5,...|2050000.0|2049999.9999999998|\n",
            "|(23,[0,1,2,3,4,5,...|  99000.0| 98999.99999999783|\n",
            "+--------------------+---------+------------------+\n",
            "only showing top 20 rows\n",
            "\n"
          ]
        }
      ]
    },
    {
      "cell_type": "markdown",
      "source": [
        "#Avaliação dos modelos"
      ],
      "metadata": {
        "id": "jWVmyO35jl_T"
      }
    },
    {
      "cell_type": "code",
      "source": [
        "resumo_treino = modelo_lr.summary"
      ],
      "metadata": {
        "id": "1J65YfiGjn7c"
      },
      "execution_count": 28,
      "outputs": []
    },
    {
      "cell_type": "code",
      "source": [
        "\"\"\"\n",
        "R2 (ou **coeficiente de determinação**):\n",
        "é uma medida estatística que representa a \n",
        "porcentagem de variação da variável resposta \n",
        "que é explicada pelo modelo de regressão. \n",
        "Por se tratar de uma porcentagem, seu valor \n",
        "varia de 0 a 1.\n",
        "\"\"\"\n",
        "resumo_treino.r2 "
      ],
      "metadata": {
        "colab": {
          "base_uri": "https://localhost:8080/"
        },
        "id": "B8Vcj1VZj57P",
        "outputId": "c99d4fc8-fc48-45f1-ac8d-653fe0f73f84"
      },
      "execution_count": 29,
      "outputs": [
        {
          "output_type": "execute_result",
          "data": {
            "text/plain": [
              "1.0"
            ]
          },
          "metadata": {},
          "execution_count": 29
        }
      ]
    },
    {
      "cell_type": "code",
      "source": [
        "\"\"\"\n",
        "RMSE (ou Raiz do Erro Quadrático Médio):\n",
        "é a métrica que calcula a raiz quadrada do erro \n",
        "médio entre os valores reais e as predições da \n",
        "regressão. Quanto menor esse valor, melhor será \n",
        "o modelo, uma vez que estará cometendo menos erros.\n",
        "\"\"\"\n",
        "resumo_treino.rootMeanSquaredError"
      ],
      "metadata": {
        "colab": {
          "base_uri": "https://localhost:8080/"
        },
        "id": "QTsWvQrjjxSS",
        "outputId": "dcf5e19e-b647-4dce-9331-b8c6c12a267c"
      },
      "execution_count": 30,
      "outputs": [
        {
          "output_type": "execute_result",
          "data": {
            "text/plain": [
              "7.998662077689472e-10"
            ]
          },
          "metadata": {},
          "execution_count": 30
        }
      ]
    },
    {
      "cell_type": "code",
      "source": [
        "resumo_teste = modelo_lr.evaluate(teste)"
      ],
      "metadata": {
        "id": "8qjH3V0UkC4z"
      },
      "execution_count": 31,
      "outputs": []
    },
    {
      "cell_type": "code",
      "source": [
        "resumo_teste.r2"
      ],
      "metadata": {
        "colab": {
          "base_uri": "https://localhost:8080/"
        },
        "id": "wKn5JRtfkNrE",
        "outputId": "b77776f6-59e8-4df7-f40b-1e435518515e"
      },
      "execution_count": 32,
      "outputs": [
        {
          "output_type": "execute_result",
          "data": {
            "text/plain": [
              "1.0"
            ]
          },
          "metadata": {},
          "execution_count": 32
        }
      ]
    },
    {
      "cell_type": "code",
      "source": [
        "resumo_teste.rootMeanSquaredError"
      ],
      "metadata": {
        "colab": {
          "base_uri": "https://localhost:8080/"
        },
        "id": "6aS1qlhtkPRJ",
        "outputId": "db5ce1c6-362f-4bae-f5ac-d077a3375c4a"
      },
      "execution_count": 33,
      "outputs": [
        {
          "output_type": "execute_result",
          "data": {
            "text/plain": [
              "8.09400298219593e-10"
            ]
          },
          "metadata": {},
          "execution_count": 33
        }
      ]
    },
    {
      "cell_type": "code",
      "source": [
        "print('Linear Regression')\n",
        "print(\"=\"*30)\n",
        "print(\"Dados de Treino\")\n",
        "print(\"=\"*30)\n",
        "print(\"R²: %f\" % resumo_treino.r2)\n",
        "print(\"RMSE: %f\" % resumo_treino.rootMeanSquaredError)\n",
        "print(\"\")\n",
        "print(\"=\"*30)\n",
        "print(\"Dados de Teste\")\n",
        "print(\"=\"*30)\n",
        "print(\"R²: %f\" % resumo_teste.r2)\n",
        "print(\"RMSE: %f\" % resumo_teste.rootMeanSquaredError)"
      ],
      "metadata": {
        "colab": {
          "base_uri": "https://localhost:8080/"
        },
        "id": "4ib8qI13kWXE",
        "outputId": "fc846463-f50b-4588-97dc-e500de68bc5f"
      },
      "execution_count": 34,
      "outputs": [
        {
          "output_type": "stream",
          "name": "stdout",
          "text": [
            "Linear Regression\n",
            "==============================\n",
            "Dados de Treino\n",
            "==============================\n",
            "R²: 1.000000\n",
            "RMSE: 0.000000\n",
            "\n",
            "==============================\n",
            "Dados de Teste\n",
            "==============================\n",
            "R²: 1.000000\n",
            "RMSE: 0.000000\n"
          ]
        }
      ]
    }
  ]
}