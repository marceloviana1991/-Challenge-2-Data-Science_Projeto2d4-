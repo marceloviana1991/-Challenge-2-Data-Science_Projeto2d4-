{
  "nbformat": 4,
  "nbformat_minor": 0,
  "metadata": {
    "colab": {
      "provenance": [],
      "collapsed_sections": [
        "id6reo_KYRDa"
      ]
    },
    "kernelspec": {
      "name": "python3",
      "display_name": "Python 3"
    },
    "language_info": {
      "name": "python"
    }
  },
  "cells": [
    {
      "cell_type": "markdown",
      "source": [
        "#Fazendo leitura dos dados"
      ],
      "metadata": {
        "id": "id6reo_KYRDa"
      }
    },
    {
      "cell_type": "code",
      "source": [
        "!pip install pyspark==3.3.1"
      ],
      "metadata": {
        "colab": {
          "base_uri": "https://localhost:8080/"
        },
        "id": "OZmVaesUzuJv",
        "outputId": "aaf9037b-d949-433d-8d47-a1a173cd2082"
      },
      "execution_count": 1,
      "outputs": [
        {
          "output_type": "stream",
          "name": "stdout",
          "text": [
            "Looking in indexes: https://pypi.org/simple, https://us-python.pkg.dev/colab-wheels/public/simple/\n",
            "Collecting pyspark==3.3.1\n",
            "  Downloading pyspark-3.3.1.tar.gz (281.4 MB)\n",
            "\u001b[K     |████████████████████████████████| 281.4 MB 36 kB/s \n",
            "\u001b[?25hCollecting py4j==0.10.9.5\n",
            "  Downloading py4j-0.10.9.5-py2.py3-none-any.whl (199 kB)\n",
            "\u001b[K     |████████████████████████████████| 199 kB 43.0 MB/s \n",
            "\u001b[?25hBuilding wheels for collected packages: pyspark\n",
            "  Building wheel for pyspark (setup.py) ... \u001b[?25l\u001b[?25hdone\n",
            "  Created wheel for pyspark: filename=pyspark-3.3.1-py2.py3-none-any.whl size=281845512 sha256=60540522ad2173aa85a919b1a2584d20b8ad88dfcb2e3f903ec1c09c3eb0359c\n",
            "  Stored in directory: /root/.cache/pip/wheels/43/dc/11/ec201cd671da62fa9c5cc77078235e40722170ceba231d7598\n",
            "Successfully built pyspark\n",
            "Installing collected packages: py4j, pyspark\n",
            "Successfully installed py4j-0.10.9.5 pyspark-3.3.1\n"
          ]
        }
      ]
    },
    {
      "cell_type": "code",
      "source": [
        "from pyspark.sql import SparkSession"
      ],
      "metadata": {
        "id": "Ch8N8wRezyLb"
      },
      "execution_count": 2,
      "outputs": []
    },
    {
      "cell_type": "code",
      "source": [
        "spark = SparkSession.builder.master('local[*]').appName(\"Transformacao com Spark\").getOrCreate()\n",
        "\n",
        "spark"
      ],
      "metadata": {
        "colab": {
          "base_uri": "https://localhost:8080/",
          "height": 219
        },
        "id": "0IuMlyXizyoR",
        "outputId": "528e3def-bc93-4e42-ce27-a8c7d2b17cbc"
      },
      "execution_count": 3,
      "outputs": [
        {
          "output_type": "execute_result",
          "data": {
            "text/plain": [
              "<pyspark.sql.session.SparkSession at 0x7f4cb8e00040>"
            ],
            "text/html": [
              "\n",
              "            <div>\n",
              "                <p><b>SparkSession - in-memory</b></p>\n",
              "                \n",
              "        <div>\n",
              "            <p><b>SparkContext</b></p>\n",
              "\n",
              "            <p><a href=\"http://a396702e4ecd:4040\">Spark UI</a></p>\n",
              "\n",
              "            <dl>\n",
              "              <dt>Version</dt>\n",
              "                <dd><code>v3.3.1</code></dd>\n",
              "              <dt>Master</dt>\n",
              "                <dd><code>local[*]</code></dd>\n",
              "              <dt>AppName</dt>\n",
              "                <dd><code>Transformacao com Spark</code></dd>\n",
              "            </dl>\n",
              "        </div>\n",
              "        \n",
              "            </div>\n",
              "        "
            ]
          },
          "metadata": {},
          "execution_count": 3
        }
      ]
    },
    {
      "cell_type": "code",
      "execution_count": 4,
      "metadata": {
        "colab": {
          "base_uri": "https://localhost:8080/"
        },
        "id": "lMZNVf7byNT0",
        "outputId": "9474934b-b652-4f07-f7b0-ca1645c2615c"
      },
      "outputs": [
        {
          "output_type": "stream",
          "name": "stdout",
          "text": [
            "Mounted at /content/drive\n"
          ]
        }
      ],
      "source": [
        "from google.colab import drive\n",
        "drive.mount('/content/drive')"
      ]
    },
    {
      "cell_type": "code",
      "source": [
        "dados = spark.read.parquet('/content/drive/MyDrive/Challenge_Data_Science_Alura/dados/dataset_parquet')"
      ],
      "metadata": {
        "id": "LxeLmipXz3ZK"
      },
      "execution_count": 5,
      "outputs": []
    },
    {
      "cell_type": "code",
      "source": [
        "dados.show()"
      ],
      "metadata": {
        "colab": {
          "base_uri": "https://localhost:8080/"
        },
        "id": "WQpmRwhiz8Od",
        "outputId": "a1f7965b-e712-4b89-f4f7-ffd50d2b5e1c"
      },
      "execution_count": 6,
      "outputs": [
        {
          "output_type": "stream",
          "name": "stdout",
          "text": [
            "+--------------------+-----+---------+---------+-------+------+----+----------+------+--------+--------+------------------+-------------+------------------+--------+-------+----------+------------+-----------------+---------------+------------+----------+----------+--------+\n",
            "|                  id|andar|area_util|banheiros|quartos|suites|vaga|condominio|  iptu|   valor|Academia|Animais permitidos|Churrasqueira|Condomínio fechado|Elevador|Piscina|Playground|Portaria 24h|Portão eletrônico|Salão de festas|Zona Central|Zona Norte|Zona Oeste|Zona Sul|\n",
            "+--------------------+-----+---------+---------+-------+------+----+----------+------+--------+--------+------------------+-------------+------------------+--------+-------+----------+------------+-----------------+---------------+------------+----------+----------+--------+\n",
            "|03a386b6-7ab8-4ef...|    0|     43.0|        1|      2|     0|   1|     285.0|   0.0| 22999.0|       1|                 1|            1|                 1|       0|      0|         1|           1|                1|              1|           0|         0|         1|       0|\n",
            "|1fe78d41-b8e0-4d2...|    0|     44.0|        1|      2|     0|   0|     170.0|   0.0|110000.0|       0|                 0|            0|                 0|       0|      0|         0|           0|                0|              0|           0|         1|         0|       0|\n",
            "|1fa1c1e5-e98c-433...|    4|     55.0|        1|      2|     0|   1|       0.0|   0.0|115000.0|       0|                 0|            0|                 0|       0|      0|         0|           0|                0|              0|           0|         0|         1|       0|\n",
            "|a6ab01ae-3d40-40e...|    2|     55.0|        1|      2|     0|   0|       0.0|   0.0|115000.0|       0|                 0|            0|                 0|       0|      0|         0|           0|                0|              0|           0|         1|         0|       0|\n",
            "|1d8ff7a2-16bd-4e3...|    0|     50.0|        1|      1|     0|   0|    1300.0|2679.0|125000.0|       0|                 0|            0|                 0|       0|      0|         0|           0|                0|              0|           1|         0|         0|       0|\n",
            "|40a2cbde-946b-42d...|    2|     47.0|        1|      2|     0|   1|     380.0|   0.0|138000.0|       0|                 1|            1|                 1|       0|      1|         0|           1|                0|              1|           0|         0|         1|       0|\n",
            "|be269ddf-a4a3-4a7...|    0|     45.0|        1|      2|     0|   1|     356.0|   0.0|140000.0|       0|                 0|            1|                 1|       0|      1|         0|           0|                0|              0|           0|         0|         1|       0|\n",
            "|4b7e3d59-34fd-4ba...|    3|     48.0|        1|      2|     0|   1|       0.0|   0.0|150000.0|       0|                 1|            1|                 1|       0|      1|         1|           1|                1|              1|           0|         0|         1|       0|\n",
            "|a1a0c2ac-4fa8-4b0...|    9|     55.0|        1|      2|     0|   1|     780.0| 660.0|160000.0|       0|                 1|            1|                 1|       1|      0|         0|           1|                1|              1|           0|         0|         1|       0|\n",
            "|390d2b88-e06d-47e...|    0|     70.0|        2|      2|     0|   1|  420000.0|   0.0|159000.0|       0|                 0|            0|                 0|       0|      0|         0|           0|                0|              1|           0|         0|         1|       0|\n",
            "|07bb07c1-21cc-4da...|    2|     48.0|        1|      1|     0|   0|      10.0|  10.0|170000.0|       0|                 1|            0|                 1|       0|      0|         0|           0|                0|              0|           0|         1|         0|       0|\n",
            "|7d3a1bae-988c-44b...|    5|     40.0|        1|      2|     0|   1|     150.0| 120.0|189000.0|       0|                 1|            1|                 1|       0|      0|         1|           1|                1|              1|           0|         1|         0|       0|\n",
            "|47af17f0-1c81-474...|    0|     65.0|        1|      2|     0|   1|     432.0|   0.0|185000.0|       0|                 0|            0|                 0|       0|      0|         0|           0|                0|              0|           0|         0|         1|       0|\n",
            "|a9bd1575-e9f2-43d...|    2|     50.0|        1|      1|     0|   1|     650.0|   1.0|185000.0|       0|                 1|            0|                 1|       0|      0|         0|           0|                1|              0|           0|         1|         0|       0|\n",
            "|cfca7253-3d02-4cd...|    5|     45.0|        1|      2|     1|   0|     150.0|  40.0|199000.0|       1|                 1|            1|                 1|       1|      0|         1|           1|                1|              1|           0|         0|         1|       0|\n",
            "|b571ae97-e3d8-4fb...|    0|     48.0|        1|      2|     0|   0|       0.0|   0.0|205933.0|       1|                 1|            1|                 1|       1|      0|         0|           1|                1|              1|           0|         1|         0|       0|\n",
            "|eb5fdc65-acae-45f...|    0|     44.0|        1|      2|     0|   0|       0.0|   0.0|206000.0|       1|                 1|            0|                 1|       1|      0|         1|           1|                1|              1|           0|         1|         0|       0|\n",
            "|77cd0388-e3ff-40c...|    2|     64.0|        1|      2|     0|   0|       0.0|   0.0|220000.0|       0|                 0|            0|                 0|       0|      0|         0|           0|                0|              0|           0|         1|         0|       0|\n",
            "|74a91f07-7387-4a8...|    0|     55.0|        2|      1|     0|   1|     600.0| 652.0|219130.0|       0|                 0|            0|                 0|       1|      0|         0|           0|                0|              1|           0|         1|         0|       0|\n",
            "|6aab1165-508d-455...|    3|     60.0|        1|      3|     0|   1|      98.0|   1.0|230000.0|       0|                 1|            0|                 0|       0|      0|         0|           0|                0|              0|           0|         1|         0|       0|\n",
            "+--------------------+-----+---------+---------+-------+------+----+----------+------+--------+--------+------------------+-------------+------------------+--------+-------+----------+------------+-----------------+---------------+------------+----------+----------+--------+\n",
            "only showing top 20 rows\n",
            "\n"
          ]
        }
      ]
    },
    {
      "cell_type": "markdown",
      "source": [
        "#Preparação dos dados para os algoritmos do Spark MLlib"
      ],
      "metadata": {
        "id": "qusti4m4YK8l"
      }
    },
    {
      "cell_type": "code",
      "source": [
        "from pyspark.ml.feature import VectorAssembler"
      ],
      "metadata": {
        "id": "shUQgk9sYQGT"
      },
      "execution_count": 7,
      "outputs": []
    },
    {
      "cell_type": "code",
      "source": [
        "dados = dados.withColumnRenamed('valor','label')"
      ],
      "metadata": {
        "id": "gj4n9ESUZNoH"
      },
      "execution_count": 8,
      "outputs": []
    },
    {
      "cell_type": "code",
      "source": [
        "X = []\n",
        "for i in dados.columns:\n",
        "  if i != 'id' and i != 'valor':\n",
        "    X.append(i)\n",
        "X"
      ],
      "metadata": {
        "colab": {
          "base_uri": "https://localhost:8080/"
        },
        "id": "Wrl5igmBZ5v_",
        "outputId": "fc738c90-0933-411b-9cc5-d34fe0c43688"
      },
      "execution_count": 9,
      "outputs": [
        {
          "output_type": "execute_result",
          "data": {
            "text/plain": [
              "['andar',\n",
              " 'area_util',\n",
              " 'banheiros',\n",
              " 'quartos',\n",
              " 'suites',\n",
              " 'vaga',\n",
              " 'condominio',\n",
              " 'iptu',\n",
              " 'label',\n",
              " 'Academia',\n",
              " 'Animais permitidos',\n",
              " 'Churrasqueira',\n",
              " 'Condomínio fechado',\n",
              " 'Elevador',\n",
              " 'Piscina',\n",
              " 'Playground',\n",
              " 'Portaria 24h',\n",
              " 'Portão eletrônico',\n",
              " 'Salão de festas',\n",
              " 'Zona Central',\n",
              " 'Zona Norte',\n",
              " 'Zona Oeste',\n",
              " 'Zona Sul']"
            ]
          },
          "metadata": {},
          "execution_count": 9
        }
      ]
    },
    {
      "cell_type": "code",
      "source": [
        "assembler = VectorAssembler(inputCols = X, outputCol = 'features')"
      ],
      "metadata": {
        "id": "n1NtxVYrdJhN"
      },
      "execution_count": 10,
      "outputs": []
    },
    {
      "cell_type": "code",
      "source": [
        "dados_vetorizado = assembler.transform(dados).select('features', 'label')"
      ],
      "metadata": {
        "id": "LooOG_Z8dQTz"
      },
      "execution_count": 11,
      "outputs": []
    },
    {
      "cell_type": "code",
      "source": [
        "dados_vetorizado.show(truncate=False)"
      ],
      "metadata": {
        "colab": {
          "base_uri": "https://localhost:8080/"
        },
        "id": "yjsD8_H7eROq",
        "outputId": "e65144f1-9688-427f-c096-c8a2358b36ee"
      },
      "execution_count": 14,
      "outputs": [
        {
          "output_type": "stream",
          "name": "stdout",
          "text": [
            "+-----------------------------------------------------------------------------------------------------------+--------+\n",
            "|features                                                                                                   |label   |\n",
            "+-----------------------------------------------------------------------------------------------------------+--------+\n",
            "|[0.0,43.0,1.0,2.0,0.0,1.0,285.0,0.0,22999.0,1.0,1.0,1.0,1.0,0.0,0.0,1.0,1.0,1.0,1.0,0.0,0.0,1.0,0.0]       |22999.0 |\n",
            "|(23,[1,2,3,6,8,20],[44.0,1.0,2.0,170.0,110000.0,1.0])                                                      |110000.0|\n",
            "|(23,[0,1,2,3,5,8,21],[4.0,55.0,1.0,2.0,1.0,115000.0,1.0])                                                  |115000.0|\n",
            "|(23,[0,1,2,3,8,20],[2.0,55.0,1.0,2.0,115000.0,1.0])                                                        |115000.0|\n",
            "|(23,[1,2,3,6,7,8,19],[50.0,1.0,1.0,1300.0,2679.0,125000.0,1.0])                                            |125000.0|\n",
            "|(23,[0,1,2,3,5,6,8,10,11,12,14,16,18,21],[2.0,47.0,1.0,2.0,1.0,380.0,138000.0,1.0,1.0,1.0,1.0,1.0,1.0,1.0])|138000.0|\n",
            "|(23,[1,2,3,5,6,8,11,12,14,21],[45.0,1.0,2.0,1.0,356.0,140000.0,1.0,1.0,1.0,1.0])                           |140000.0|\n",
            "|[3.0,48.0,1.0,2.0,0.0,1.0,0.0,0.0,150000.0,0.0,1.0,1.0,1.0,0.0,1.0,1.0,1.0,1.0,1.0,0.0,0.0,1.0,0.0]        |150000.0|\n",
            "|[9.0,55.0,1.0,2.0,0.0,1.0,780.0,660.0,160000.0,0.0,1.0,1.0,1.0,1.0,0.0,0.0,1.0,1.0,1.0,0.0,0.0,1.0,0.0]    |160000.0|\n",
            "|(23,[1,2,3,5,6,8,18,21],[70.0,2.0,2.0,1.0,420000.0,159000.0,1.0,1.0])                                      |159000.0|\n",
            "|(23,[0,1,2,3,6,7,8,10,12,20],[2.0,48.0,1.0,1.0,10.0,10.0,170000.0,1.0,1.0,1.0])                            |170000.0|\n",
            "|[5.0,40.0,1.0,2.0,0.0,1.0,150.0,120.0,189000.0,0.0,1.0,1.0,1.0,0.0,0.0,1.0,1.0,1.0,1.0,0.0,1.0,0.0,0.0]    |189000.0|\n",
            "|(23,[1,2,3,5,6,8,21],[65.0,1.0,2.0,1.0,432.0,185000.0,1.0])                                                |185000.0|\n",
            "|(23,[0,1,2,3,5,6,7,8,10,12,17,20],[2.0,50.0,1.0,1.0,1.0,650.0,1.0,185000.0,1.0,1.0,1.0,1.0])               |185000.0|\n",
            "|[5.0,45.0,1.0,2.0,1.0,0.0,150.0,40.0,199000.0,1.0,1.0,1.0,1.0,1.0,0.0,1.0,1.0,1.0,1.0,0.0,0.0,1.0,0.0]     |199000.0|\n",
            "|(23,[1,2,3,8,9,10,11,12,13,16,17,18,20],[48.0,1.0,2.0,205933.0,1.0,1.0,1.0,1.0,1.0,1.0,1.0,1.0,1.0])       |205933.0|\n",
            "|(23,[1,2,3,8,9,10,12,13,15,16,17,18,20],[44.0,1.0,2.0,206000.0,1.0,1.0,1.0,1.0,1.0,1.0,1.0,1.0,1.0])       |206000.0|\n",
            "|(23,[0,1,2,3,8,20],[2.0,64.0,1.0,2.0,220000.0,1.0])                                                        |220000.0|\n",
            "|(23,[1,2,3,5,6,7,8,13,18,20],[55.0,2.0,1.0,1.0,600.0,652.0,219130.0,1.0,1.0,1.0])                          |219130.0|\n",
            "|(23,[0,1,2,3,5,6,7,8,10,20],[3.0,60.0,1.0,3.0,1.0,98.0,1.0,230000.0,1.0,1.0])                              |230000.0|\n",
            "+-----------------------------------------------------------------------------------------------------------+--------+\n",
            "only showing top 20 rows\n",
            "\n"
          ]
        }
      ]
    }
  ]
}